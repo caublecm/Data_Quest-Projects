{
 "cells": [
  {
   "cell_type": "markdown",
   "metadata": {},
   "source": [
    "# Finding the Best Two Markets for Advertising\n",
    "\n",
    "### Aspiring Web and Mobile Developer's Countries and Budgets for Learning. \n",
    "Our company, E-learning Inc., is an imaginary company that offers on-line, English language courses on programing. Most our courses are on web and mobile development, with some additional material geared towards data science, game development, and general programming. Our company sells subscriptions at a price of $59 per month; so, we want to make sure we effectively advertise to those with the appropriate budgets for learning.\n",
    "\n",
    "Since we want to budget some of our advertising dollars towards new coders, within two geographical, English language speaking markets, we first need to understand:\n",
    "\n",
    "- What countries are the majority of these new coders located?\n",
    "- How much money are new coders willing to spend on e-courses? \n",
    "\n",
    "### Sample Representation of Target Population\n",
    "Since our budget does not include an elaborate survey, we'll be exploring existing data from [freeCodeCamp's 2017 New Coder Survey](https://www.freecodecamp.org/news/we-asked-20-000-people-who-they-are-and-how-theyre-learning-to-code-fff5d668969/) to find out if we can use it as a sample to represent our target population. If so, we'll use it for our analysis."
   ]
  },
  {
   "cell_type": "markdown",
   "metadata": {},
   "source": [
    "### Dataquest Project Scope\n",
    "*This project is for the completion of the DataQuest.io https://www.dataquest.io/ \"Statistics Fundamentals\" module; the sixteenth in a series for the completing Data Science course path. For this assignment, questions will be answered using the material focused on up to this point in the course, with particular consideration for the new material introduced in this module.*\n",
    "\n",
    "- *How to summarize distributions using the mean, the median, and the mode.*\n",
    "- *How to measure the variability of a distribution using the range, the mean absolute deviation, the variance, and the standard deviation.*\n",
    "- *How to locate any value in a distribution using z-scores.*"
   ]
  },
  {
   "cell_type": "markdown",
   "metadata": {},
   "source": [
    "### Results Summary\n",
    "Over 80% of participant respondents were interested in web development, and 33% were interested in mobile development. This was a large enough sample to represent our target population. We chose the United States and India as our first and second markets, because they were the two largest markets and were willing to spend over $59 per month on learning. "
   ]
  },
  {
   "cell_type": "markdown",
   "metadata": {},
   "source": [
    "## Data Source and Exploration\n",
    "\n",
    " [FreeCodeCamp](https://www.freecodecamp.org/) is a free e-learning platform that offers courses on web development. Because they run a popular Medium publication (over 400,000 followers), their survey attracted new coders with varying interests (not only web development), which is ideal for the purpose of our analysis. The raw survey data is publicly available in this [GitHub repository](https://github.com/freeCodeCamp/2017-new-coder-survey). \n",
    " \n",
    "The dataset for the survey contained 18175 rows and 136 columns, but we only needed a few of them for our purposes. Here are the definitions for the columns of interest: \n",
    "\n",
    "|Column|Description|\n",
    "|:---- |:-----|\n",
    "|CountryLive|Country the participant was living when they took the survey|\n",
    "|JobRoleInterest| The participants job aspirations|\n",
    "|MoneyForLearning| The participants budget for learning|\n",
    "|MonthsProgramming|How many months the participant had been learning when they took the survey|\n",
    "\n",
    "For the JobRoleInterest column, we dropped the rows participants didn't answer, because we can't know for sure what their interests are, so it was better to leave those out. After the initial cleaning, we were left with 6992 rows from the original 18175. "
   ]
  },
  {
   "cell_type": "code",
   "execution_count": 45,
   "metadata": {},
   "outputs": [],
   "source": [
    "# Import python libraries\n",
    "import pandas as pd\n",
    "import numpy as np\n",
    "import matplotlib.pyplot as plt\n",
    "%matplotlib inline\n",
    "import seaborn as sns\n",
    "sns.set()"
   ]
  },
  {
   "cell_type": "code",
   "execution_count": 46,
   "metadata": {},
   "outputs": [],
   "source": [
    "# read in the truncated version of the FreeCodeCamp survey\n",
    "data = pd.read_csv('modified_survey_data_copy.csv')"
   ]
  },
  {
   "cell_type": "code",
   "execution_count": 47,
   "metadata": {},
   "outputs": [
    {
     "data": {
      "text/html": [
       "<div>\n",
       "<style scoped>\n",
       "    .dataframe tbody tr th:only-of-type {\n",
       "        vertical-align: middle;\n",
       "    }\n",
       "\n",
       "    .dataframe tbody tr th {\n",
       "        vertical-align: top;\n",
       "    }\n",
       "\n",
       "    .dataframe thead th {\n",
       "        text-align: right;\n",
       "    }\n",
       "</style>\n",
       "<table border=\"1\" class=\"dataframe\">\n",
       "  <thead>\n",
       "    <tr style=\"text-align: right;\">\n",
       "      <th></th>\n",
       "      <th>CountryLive</th>\n",
       "      <th>JobRoleInterest</th>\n",
       "      <th>MoneyForLearning</th>\n",
       "      <th>MonthsProgramming</th>\n",
       "    </tr>\n",
       "  </thead>\n",
       "  <tbody>\n",
       "    <tr>\n",
       "      <th>0</th>\n",
       "      <td>Canada</td>\n",
       "      <td>NaN</td>\n",
       "      <td>150.0</td>\n",
       "      <td>6.0</td>\n",
       "    </tr>\n",
       "    <tr>\n",
       "      <th>1</th>\n",
       "      <td>United States of America</td>\n",
       "      <td>Full-Stack Web Developer</td>\n",
       "      <td>80.0</td>\n",
       "      <td>6.0</td>\n",
       "    </tr>\n",
       "    <tr>\n",
       "      <th>2</th>\n",
       "      <td>United States of America</td>\n",
       "      <td>Front-End Web Developer, Back-End Web Develo...</td>\n",
       "      <td>1000.0</td>\n",
       "      <td>5.0</td>\n",
       "    </tr>\n",
       "    <tr>\n",
       "      <th>3</th>\n",
       "      <td>Brazil</td>\n",
       "      <td>Front-End Web Developer, Full-Stack Web Deve...</td>\n",
       "      <td>0.0</td>\n",
       "      <td>5.0</td>\n",
       "    </tr>\n",
       "    <tr>\n",
       "      <th>4</th>\n",
       "      <td>Portugal</td>\n",
       "      <td>Full-Stack Web Developer, Information Security...</td>\n",
       "      <td>0.0</td>\n",
       "      <td>24.0</td>\n",
       "    </tr>\n",
       "  </tbody>\n",
       "</table>\n",
       "</div>"
      ],
      "text/plain": [
       "                CountryLive  \\\n",
       "0                    Canada   \n",
       "1  United States of America   \n",
       "2  United States of America   \n",
       "3                    Brazil   \n",
       "4                  Portugal   \n",
       "\n",
       "                                     JobRoleInterest  MoneyForLearning  \\\n",
       "0                                                NaN             150.0   \n",
       "1                           Full-Stack Web Developer              80.0   \n",
       "2    Front-End Web Developer, Back-End Web Develo...            1000.0   \n",
       "3    Front-End Web Developer, Full-Stack Web Deve...               0.0   \n",
       "4  Full-Stack Web Developer, Information Security...               0.0   \n",
       "\n",
       "   MonthsProgramming  \n",
       "0                6.0  \n",
       "1                6.0  \n",
       "2                5.0  \n",
       "3                5.0  \n",
       "4               24.0  "
      ]
     },
     "execution_count": 47,
     "metadata": {},
     "output_type": "execute_result"
    }
   ],
   "source": [
    "survey = pd.read_csv('modified_survey_data_copy.csv', index_col= [0])\n",
    "survey.head()"
   ]
  },
  {
   "cell_type": "code",
   "execution_count": 48,
   "metadata": {},
   "outputs": [
    {
     "data": {
      "text/plain": [
       "(18175, 4)"
      ]
     },
     "execution_count": 48,
     "metadata": {},
     "output_type": "execute_result"
    }
   ],
   "source": [
    "# Find number of rows and columns\n",
    "survey.shape"
   ]
  },
  {
   "cell_type": "code",
   "execution_count": 49,
   "metadata": {},
   "outputs": [
    {
     "data": {
      "text/plain": [
       "(6992, 4)"
      ]
     },
     "execution_count": 49,
     "metadata": {},
     "output_type": "execute_result"
    }
   ],
   "source": [
    "# Remove null values in the 'JobRollInterest' column and remaining number of rows and columns in dataset\n",
    "survey = survey[survey['JobRoleInterest'].notnull()]\n",
    "survey.shape"
   ]
  },
  {
   "cell_type": "markdown",
   "metadata": {},
   "source": [
    "## Determining Sample Representation of the Target Population\n",
    "Survey participants were asked to select one or more combinations of any of the following job rolls, or none at all:\n",
    "\n",
    "- JobInterestBackEnd:  Back-End Web Developer\t\n",
    "- JobInterestDataEngr: Data Engineer\n",
    "- JobInterestDataSci: Data Scientist\t\n",
    "- JobInterestDevOps: \tDevOps / SysAdmin\n",
    "- JobInterestFrontEnd: Front-End Web Developer\n",
    "- JobInterestFullStack: Full-Stack Web Developer\t\n",
    "- JobInterestGameDev: Game Developer\n",
    "- JobInterestInfoSec: Information Security\t\n",
    "- JobInterestMobile: Mobile Development \t\n",
    "- JobInterestOther: Other\t\n",
    "- JobInterestProjMngr: Project Manager\n",
    "- JobInterestQAEngr: Quality Assurance Engineer\t\n",
    "- JobInterestUX: Unix\n",
    "\n",
    "The analysis showed that 83% of participants selected some sort of Web Development career, while 33% selected Mobile Development. 13.7% did not select either one. The bar plot below gives a visual representation of the results. \n",
    "The results gave us confidence that this sample was a good representation of our target population. We decided to proceed with the analysis further. "
   ]
  },
  {
   "cell_type": "code",
   "execution_count": 50,
   "metadata": {},
   "outputs": [],
   "source": [
    "# Create relative frequency distribution of \"JobRoleInterest\"\n",
    "job_roll = survey['JobRoleInterest'].value_counts(normalize = True).to_frame()*100"
   ]
  },
  {
   "cell_type": "code",
   "execution_count": 51,
   "metadata": {
    "scrolled": true
   },
   "outputs": [
    {
     "name": "stdout",
     "output_type": "stream",
     "text": [
      "Percent of participants that selected some sort of web development: 82.67%\n"
     ]
    }
   ],
   "source": [
    "web = job_roll[job_roll.index.str.contains('Web')]\n",
    "web_sum = web.sum()[0]\n",
    "print('Percent of participants that selected some sort of web development: {:.2f}%'.format(web_sum))"
   ]
  },
  {
   "cell_type": "code",
   "execution_count": 52,
   "metadata": {},
   "outputs": [
    {
     "name": "stdout",
     "output_type": "stream",
     "text": [
      "Percent of participants that selected mobile development: 32.95%\n"
     ]
    }
   ],
   "source": [
    "mobile = job_roll[job_roll.index.str.contains('Mobile')]\n",
    "mobile_sum = mobile.sum()[0]\n",
    "print('Percent of participants that selected mobile development: {:.2f}%'.format(mobile_sum))"
   ]
  },
  {
   "cell_type": "code",
   "execution_count": 53,
   "metadata": {
    "scrolled": true
   },
   "outputs": [
    {
     "name": "stdout",
     "output_type": "stream",
     "text": [
      "Percent of participants that selected something other than mobile or web development: 13.70%\n"
     ]
    }
   ],
   "source": [
    "filt1 = ~(job_roll.index.str.contains('Web'))\n",
    "filt2 = ~(job_roll.index.str.contains('Mobile'))\n",
    "other = job_roll[filt1 & filt2]\n",
    "other_sum = other.sum()[0]\n",
    "print('Percent of participants that selected something other than mobile or web development: {:.2f}%'.format(other_sum))"
   ]
  },
  {
   "cell_type": "code",
   "execution_count": 54,
   "metadata": {},
   "outputs": [
    {
     "data": {
      "image/png": "[encoded data removed]",
      "text/plain": [
       "<Figure size 432x288 with 1 Axes>"
      ]
     },
     "metadata": {},
     "output_type": "display_data"
    }
   ],
   "source": [
    "# Plot the results\n",
    "d = {'Web Development': 82.665904, 'Mobile Development': 32.951945, 'Other': 13.701373}\n",
    "plt.barh(*zip(*d.items()), color = ('#C61FDE', '#DEC61F', '#1FDEC6'))\n",
    "plt.xlabel('Percent')\n",
    "plt.title('Job Role Interest')\n",
    "plt.ylabel('')\n",
    "plt.gca().invert_yaxis()"
   ]
  },
  {
   "cell_type": "markdown",
   "metadata": {},
   "source": [
    "## Largest Geographical Markets\n",
    "The United States, India, United Kingdom and Canada had the highest frequency distributions of counties where participates resided when they took the survey. Our courses are written in English, which is a major language spoken in all four countries. "
   ]
  },
  {
   "cell_type": "code",
   "execution_count": 55,
   "metadata": {},
   "outputs": [
    {
     "data": {
      "text/plain": [
       "United States of America    3125\n",
       "India                        528\n",
       "United Kingdom               315\n",
       "Canada                       260\n",
       "Name: CountryLive, dtype: int64"
      ]
     },
     "execution_count": 55,
     "metadata": {},
     "output_type": "execute_result"
    }
   ],
   "source": [
    "# Find top four markets based on absolute frequencies\n",
    "survey['CountryLive'].value_counts().head(4)"
   ]
  },
  {
   "cell_type": "code",
   "execution_count": 56,
   "metadata": {},
   "outputs": [
    {
     "data": {
      "text/plain": [
       "United States of America    0.457005\n",
       "India                       0.077216\n",
       "United Kingdom              0.046066\n",
       "Canada                      0.038023\n",
       "Name: CountryLive, dtype: float64"
      ]
     },
     "execution_count": 56,
     "metadata": {},
     "output_type": "execute_result"
    }
   ],
   "source": [
    "# Find top found markets based on relative frequencies\n",
    "survey['CountryLive'].value_counts(normalize = True).head(4)"
   ]
  },
  {
   "cell_type": "code",
   "execution_count": 57,
   "metadata": {},
   "outputs": [
    {
     "data": {
      "text/html": [
       "<div>\n",
       "<style scoped>\n",
       "    .dataframe tbody tr th:only-of-type {\n",
       "        vertical-align: middle;\n",
       "    }\n",
       "\n",
       "    .dataframe tbody tr th {\n",
       "        vertical-align: top;\n",
       "    }\n",
       "\n",
       "    .dataframe thead th {\n",
       "        text-align: right;\n",
       "    }\n",
       "</style>\n",
       "<table border=\"1\" class=\"dataframe\">\n",
       "  <thead>\n",
       "    <tr style=\"text-align: right;\">\n",
       "      <th></th>\n",
       "      <th>CountryLive</th>\n",
       "      <th>JobRoleInterest</th>\n",
       "      <th>MoneyForLearning</th>\n",
       "      <th>MonthsProgramming</th>\n",
       "    </tr>\n",
       "  </thead>\n",
       "  <tbody>\n",
       "    <tr>\n",
       "      <th>1</th>\n",
       "      <td>United States of America</td>\n",
       "      <td>Full-Stack Web Developer</td>\n",
       "      <td>80.0</td>\n",
       "      <td>6.0</td>\n",
       "    </tr>\n",
       "    <tr>\n",
       "      <th>2</th>\n",
       "      <td>United States of America</td>\n",
       "      <td>Front-End Web Developer, Back-End Web Develo...</td>\n",
       "      <td>1000.0</td>\n",
       "      <td>5.0</td>\n",
       "    </tr>\n",
       "    <tr>\n",
       "      <th>6</th>\n",
       "      <td>United Kingdom</td>\n",
       "      <td>Full-Stack Web Developer</td>\n",
       "      <td>0.0</td>\n",
       "      <td>12.0</td>\n",
       "    </tr>\n",
       "    <tr>\n",
       "      <th>15</th>\n",
       "      <td>United States of America</td>\n",
       "      <td>Full-Stack Web Developer</td>\n",
       "      <td>0.0</td>\n",
       "      <td>1.0</td>\n",
       "    </tr>\n",
       "    <tr>\n",
       "      <th>16</th>\n",
       "      <td>United States of America</td>\n",
       "      <td>Full-Stack Web Developer</td>\n",
       "      <td>200.0</td>\n",
       "      <td>12.0</td>\n",
       "    </tr>\n",
       "  </tbody>\n",
       "</table>\n",
       "</div>"
      ],
      "text/plain": [
       "                 CountryLive  \\\n",
       "1   United States of America   \n",
       "2   United States of America   \n",
       "6             United Kingdom   \n",
       "15  United States of America   \n",
       "16  United States of America   \n",
       "\n",
       "                                      JobRoleInterest  MoneyForLearning  \\\n",
       "1                            Full-Stack Web Developer              80.0   \n",
       "2     Front-End Web Developer, Back-End Web Develo...            1000.0   \n",
       "6                            Full-Stack Web Developer               0.0   \n",
       "15                           Full-Stack Web Developer               0.0   \n",
       "16                           Full-Stack Web Developer             200.0   \n",
       "\n",
       "    MonthsProgramming  \n",
       "1                 6.0  \n",
       "2                 5.0  \n",
       "6                12.0  \n",
       "15                1.0  \n",
       "16               12.0  "
      ]
     },
     "execution_count": 57,
     "metadata": {},
     "output_type": "execute_result"
    }
   ],
   "source": [
    "# Create new dataframe with the top four counties, drop NaN values\n",
    "top_4_c = survey.copy()\n",
    "country_list=['United States of America', 'India','United Kingdom','Canada']\n",
    "top_4_c = survey[survey['CountryLive'].isin(country_list)]\n",
    "top_4_c = top_4_c.dropna()\n",
    "top_4_c.head()"
   ]
  },
  {
   "cell_type": "markdown",
   "metadata": {},
   "source": [
    "## How Much are New Coders Willing to Spend\n",
    "\n",
    "We evaluated the MoneyForLearning column to determine whether students in the top geographical markets would be willing to pay the $59/month subscription price for our courses. This column is the amount of money spent in American dollars by participants from the moment they started coding until the moment they completed the survey.  Some students answered that they had been learning to code for 0 months (it might be that they had just started when they completed the survey). To find the monthly amount they were willing to spend, we replaced all the 0s with 1s, so as not to divide by 0. Null values were also removed from the CountryLive column to tidy the data. \n",
    "\n",
    "The results were aggregated by the mean and plotted; but, our initial plot showed that there were several outliers that needed to be contended with. First, on the low-end, rows where MoneyPerMonthLearning were < or = $59 were dropped. Then Z-Score were used to determine the outliers on the high-end.  We used Z-Score = 1 indicating 1 standard deviations above the mean, as our criteria for dropping rows. "
   ]
  },
  {
   "cell_type": "code",
   "execution_count": 58,
   "metadata": {},
   "outputs": [],
   "source": [
    "# Replace MonthsPrograming entries with 1s where there are 0s\n",
    "top_4_c['MonthsProgramming'].replace({0.0:1.0}, inplace = True)"
   ]
  },
  {
   "cell_type": "code",
   "execution_count": 59,
   "metadata": {},
   "outputs": [],
   "source": [
    "# Create new column 'MoneyPerMonthLearning' by dividing'MoneyForLearning' by 'MonthsProgramming'\n",
    "top_4_c = top_4_c.copy()\n",
    "top_4_c['MoneyPerMonthLearning'] = top_4_c['MoneyForLearning']/top_4_c['MonthsProgramming']\n",
    "top_4_c['MoneyPerMonthLearning'] = top_4_c['MoneyPerMonthLearning'].round(2)"
   ]
  },
  {
   "cell_type": "code",
   "execution_count": 60,
   "metadata": {},
   "outputs": [
    {
     "data": {
      "text/html": [
       "<div>\n",
       "<style scoped>\n",
       "    .dataframe tbody tr th:only-of-type {\n",
       "        vertical-align: middle;\n",
       "    }\n",
       "\n",
       "    .dataframe tbody tr th {\n",
       "        vertical-align: top;\n",
       "    }\n",
       "\n",
       "    .dataframe thead th {\n",
       "        text-align: right;\n",
       "    }\n",
       "</style>\n",
       "<table border=\"1\" class=\"dataframe\">\n",
       "  <thead>\n",
       "    <tr style=\"text-align: right;\">\n",
       "      <th></th>\n",
       "      <th>mean</th>\n",
       "    </tr>\n",
       "    <tr>\n",
       "      <th>CountryLive</th>\n",
       "      <th></th>\n",
       "    </tr>\n",
       "  </thead>\n",
       "  <tbody>\n",
       "    <tr>\n",
       "      <th>Canada</th>\n",
       "      <td>113.510958</td>\n",
       "    </tr>\n",
       "    <tr>\n",
       "      <th>India</th>\n",
       "      <td>135.101102</td>\n",
       "    </tr>\n",
       "    <tr>\n",
       "      <th>United Kingdom</th>\n",
       "      <td>45.534337</td>\n",
       "    </tr>\n",
       "    <tr>\n",
       "      <th>United States of America</th>\n",
       "      <td>227.998023</td>\n",
       "    </tr>\n",
       "  </tbody>\n",
       "</table>\n",
       "</div>"
      ],
      "text/plain": [
       "                                mean\n",
       "CountryLive                         \n",
       "Canada                    113.510958\n",
       "India                     135.101102\n",
       "United Kingdom             45.534337\n",
       "United States of America  227.998023"
      ]
     },
     "execution_count": 60,
     "metadata": {},
     "output_type": "execute_result"
    }
   ],
   "source": [
    "# Group by country and aggregate by mean\n",
    "survey_grp = top_4_c.groupby(['CountryLive'])\n",
    "survey_grp['MoneyPerMonthLearning'].agg(['mean'])"
   ]
  },
  {
   "cell_type": "code",
   "execution_count": 61,
   "metadata": {},
   "outputs": [
    {
     "data": {
      "text/plain": [
       "<AxesSubplot:xlabel='CountryLive', ylabel='MoneyPerMonthLearning'>"
      ]
     },
     "execution_count": 61,
     "metadata": {},
     "output_type": "execute_result"
    },
    {
     "data": {
      "image/png": "[encoded data removed]",
      "text/plain": [
       "<Figure size 432x288 with 1 Axes>"
      ]
     },
     "metadata": {},
     "output_type": "display_data"
    }
   ],
   "source": [
    "# Plot to visualize the outliers\n",
    "sns.set_theme(style=\"whitegrid\")\n",
    "sns.boxplot(x = top_4_c['CountryLive'], y= top_4_c['MoneyPerMonthLearning'], palette = 'hls')"
   ]
  },
  {
   "cell_type": "code",
   "execution_count": 62,
   "metadata": {},
   "outputs": [
    {
     "data": {
      "text/html": [
       "<div>\n",
       "<style scoped>\n",
       "    .dataframe tbody tr th:only-of-type {\n",
       "        vertical-align: middle;\n",
       "    }\n",
       "\n",
       "    .dataframe tbody tr th {\n",
       "        vertical-align: top;\n",
       "    }\n",
       "\n",
       "    .dataframe thead th {\n",
       "        text-align: right;\n",
       "    }\n",
       "</style>\n",
       "<table border=\"1\" class=\"dataframe\">\n",
       "  <thead>\n",
       "    <tr style=\"text-align: right;\">\n",
       "      <th></th>\n",
       "      <th>CountryLive</th>\n",
       "      <th>JobRoleInterest</th>\n",
       "      <th>MoneyForLearning</th>\n",
       "      <th>MonthsProgramming</th>\n",
       "      <th>MoneyPerMonthLearning</th>\n",
       "      <th>Z_Scores</th>\n",
       "    </tr>\n",
       "  </thead>\n",
       "  <tbody>\n",
       "    <tr>\n",
       "      <th>1</th>\n",
       "      <td>United States of America</td>\n",
       "      <td>Full-Stack Web Developer</td>\n",
       "      <td>80.0</td>\n",
       "      <td>6.0</td>\n",
       "      <td>13.33</td>\n",
       "      <td>-0.107980</td>\n",
       "    </tr>\n",
       "    <tr>\n",
       "      <th>2</th>\n",
       "      <td>United States of America</td>\n",
       "      <td>Front-End Web Developer, Back-End Web Develo...</td>\n",
       "      <td>1000.0</td>\n",
       "      <td>5.0</td>\n",
       "      <td>200.00</td>\n",
       "      <td>0.001770</td>\n",
       "    </tr>\n",
       "    <tr>\n",
       "      <th>6</th>\n",
       "      <td>United Kingdom</td>\n",
       "      <td>Full-Stack Web Developer</td>\n",
       "      <td>0.0</td>\n",
       "      <td>12.0</td>\n",
       "      <td>0.00</td>\n",
       "      <td>-0.115817</td>\n",
       "    </tr>\n",
       "    <tr>\n",
       "      <th>15</th>\n",
       "      <td>United States of America</td>\n",
       "      <td>Full-Stack Web Developer</td>\n",
       "      <td>0.0</td>\n",
       "      <td>1.0</td>\n",
       "      <td>0.00</td>\n",
       "      <td>-0.115817</td>\n",
       "    </tr>\n",
       "    <tr>\n",
       "      <th>16</th>\n",
       "      <td>United States of America</td>\n",
       "      <td>Full-Stack Web Developer</td>\n",
       "      <td>200.0</td>\n",
       "      <td>12.0</td>\n",
       "      <td>16.67</td>\n",
       "      <td>-0.106016</td>\n",
       "    </tr>\n",
       "  </tbody>\n",
       "</table>\n",
       "</div>"
      ],
      "text/plain": [
       "                 CountryLive  \\\n",
       "1   United States of America   \n",
       "2   United States of America   \n",
       "6             United Kingdom   \n",
       "15  United States of America   \n",
       "16  United States of America   \n",
       "\n",
       "                                      JobRoleInterest  MoneyForLearning  \\\n",
       "1                            Full-Stack Web Developer              80.0   \n",
       "2     Front-End Web Developer, Back-End Web Develo...            1000.0   \n",
       "6                            Full-Stack Web Developer               0.0   \n",
       "15                           Full-Stack Web Developer               0.0   \n",
       "16                           Full-Stack Web Developer             200.0   \n",
       "\n",
       "    MonthsProgramming  MoneyPerMonthLearning  Z_Scores  \n",
       "1                 6.0                  13.33 -0.107980  \n",
       "2                 5.0                 200.00  0.001770  \n",
       "6                12.0                   0.00 -0.115817  \n",
       "15                1.0                   0.00 -0.115817  \n",
       "16               12.0                  16.67 -0.106016  "
      ]
     },
     "execution_count": 62,
     "metadata": {},
     "output_type": "execute_result"
    }
   ],
   "source": [
    "# Add Z Scores column to the table\n",
    "top_4_c['Z_Scores'] = ''\n",
    "z_for_c = {}\n",
    "for country in top_4_c['CountryLive']:\n",
    "    z = (top_4_c['MoneyPerMonthLearning'] - top_4_c['MoneyPerMonthLearning'].mean()) / np.std(top_4_c['MoneyPerMonthLearning'])\n",
    "top_4_c['Z_Scores'] = z\n",
    "top_4_c.head()"
   ]
  },
  {
   "cell_type": "code",
   "execution_count": 63,
   "metadata": {},
   "outputs": [
    {
     "data": {
      "text/html": [
       "<div>\n",
       "<style scoped>\n",
       "    .dataframe tbody tr th:only-of-type {\n",
       "        vertical-align: middle;\n",
       "    }\n",
       "\n",
       "    .dataframe tbody tr th {\n",
       "        vertical-align: top;\n",
       "    }\n",
       "\n",
       "    .dataframe thead th {\n",
       "        text-align: right;\n",
       "    }\n",
       "</style>\n",
       "<table border=\"1\" class=\"dataframe\">\n",
       "  <thead>\n",
       "    <tr style=\"text-align: right;\">\n",
       "      <th></th>\n",
       "      <th>CountryLive</th>\n",
       "      <th>JobRoleInterest</th>\n",
       "      <th>MoneyForLearning</th>\n",
       "      <th>MonthsProgramming</th>\n",
       "      <th>MoneyPerMonthLearning</th>\n",
       "      <th>Z_Scores</th>\n",
       "    </tr>\n",
       "  </thead>\n",
       "  <tbody>\n",
       "    <tr>\n",
       "      <th>1</th>\n",
       "      <td>United States of America</td>\n",
       "      <td>Full-Stack Web Developer</td>\n",
       "      <td>80.0</td>\n",
       "      <td>6.0</td>\n",
       "      <td>13.33</td>\n",
       "      <td>-0.107980</td>\n",
       "    </tr>\n",
       "    <tr>\n",
       "      <th>2</th>\n",
       "      <td>United States of America</td>\n",
       "      <td>Front-End Web Developer, Back-End Web Develo...</td>\n",
       "      <td>1000.0</td>\n",
       "      <td>5.0</td>\n",
       "      <td>200.00</td>\n",
       "      <td>0.001770</td>\n",
       "    </tr>\n",
       "    <tr>\n",
       "      <th>15</th>\n",
       "      <td>United States of America</td>\n",
       "      <td>Full-Stack Web Developer</td>\n",
       "      <td>0.0</td>\n",
       "      <td>1.0</td>\n",
       "      <td>0.00</td>\n",
       "      <td>-0.115817</td>\n",
       "    </tr>\n",
       "    <tr>\n",
       "      <th>16</th>\n",
       "      <td>United States of America</td>\n",
       "      <td>Full-Stack Web Developer</td>\n",
       "      <td>200.0</td>\n",
       "      <td>12.0</td>\n",
       "      <td>16.67</td>\n",
       "      <td>-0.106016</td>\n",
       "    </tr>\n",
       "    <tr>\n",
       "      <th>18</th>\n",
       "      <td>United States of America</td>\n",
       "      <td>Full-Stack Web Developer,   Front-End Web Deve...</td>\n",
       "      <td>500.0</td>\n",
       "      <td>14.0</td>\n",
       "      <td>35.71</td>\n",
       "      <td>-0.094822</td>\n",
       "    </tr>\n",
       "  </tbody>\n",
       "</table>\n",
       "</div>"
      ],
      "text/plain": [
       "                 CountryLive  \\\n",
       "1   United States of America   \n",
       "2   United States of America   \n",
       "15  United States of America   \n",
       "16  United States of America   \n",
       "18  United States of America   \n",
       "\n",
       "                                      JobRoleInterest  MoneyForLearning  \\\n",
       "1                            Full-Stack Web Developer              80.0   \n",
       "2     Front-End Web Developer, Back-End Web Develo...            1000.0   \n",
       "15                           Full-Stack Web Developer               0.0   \n",
       "16                           Full-Stack Web Developer             200.0   \n",
       "18  Full-Stack Web Developer,   Front-End Web Deve...             500.0   \n",
       "\n",
       "    MonthsProgramming  MoneyPerMonthLearning  Z_Scores  \n",
       "1                 6.0                  13.33 -0.107980  \n",
       "2                 5.0                 200.00  0.001770  \n",
       "15                1.0                   0.00 -0.115817  \n",
       "16               12.0                  16.67 -0.106016  \n",
       "18               14.0                  35.71 -0.094822  "
      ]
     },
     "execution_count": 63,
     "metadata": {},
     "output_type": "execute_result"
    }
   ],
   "source": [
    "# Create new dataframe with Z_scores <1, and MoneyPerMonthLearning >= $59\n",
    "no_outliers_US = top_4_c[(top_4_c['CountryLive'] == 'United States of America') & (top_4_c['Z_Scores']< 1)]\n",
    "no_outliers_India = top_4_c[(top_4_c['CountryLive'] == 'India') & (top_4_c['Z_Scores']<1) ]\n",
    "no_outliers_UK = top_4_c[(top_4_c['CountryLive'] == 'United Kingdom') & (top_4_c['Z_Scores']<1) ]\n",
    "no_outliers_Canada = top_4_c[(top_4_c['CountryLive'] == 'Canada') & (top_4_c['Z_Scores']<1) ]\n",
    "no_outliers = pd.concat([no_outliers_US,no_outliers_India,no_outliers_UK, no_outliers_Canada ])\n",
    "no_outliers.head()"
   ]
  },
  {
   "cell_type": "code",
   "execution_count": 64,
   "metadata": {},
   "outputs": [
    {
     "data": {
      "text/plain": [
       "<AxesSubplot:xlabel='CountryLive', ylabel='MoneyPerMonthLearning'>"
      ]
     },
     "execution_count": 64,
     "metadata": {},
     "output_type": "execute_result"
    },
    {
     "data": {
      "image/png": "[encoded data removed]",
      "text/plain": [
       "<Figure size 432x288 with 1 Axes>"
      ]
     },
     "metadata": {},
     "output_type": "display_data"
    }
   ],
   "source": [
    "# Plot to visualize the result\n",
    "sns.set_theme(style=\"whitegrid\")\n",
    "sns.boxplot(x = no_outliers['CountryLive'], y= no_outliers['MoneyPerMonthLearning'], palette = 'hls')"
   ]
  },
  {
   "cell_type": "code",
   "execution_count": 65,
   "metadata": {},
   "outputs": [
    {
     "data": {
      "text/html": [
       "<div>\n",
       "<style scoped>\n",
       "    .dataframe tbody tr th:only-of-type {\n",
       "        vertical-align: middle;\n",
       "    }\n",
       "\n",
       "    .dataframe tbody tr th {\n",
       "        vertical-align: top;\n",
       "    }\n",
       "\n",
       "    .dataframe thead th {\n",
       "        text-align: right;\n",
       "    }\n",
       "</style>\n",
       "<table border=\"1\" class=\"dataframe\">\n",
       "  <thead>\n",
       "    <tr style=\"text-align: right;\">\n",
       "      <th></th>\n",
       "      <th>mean</th>\n",
       "    </tr>\n",
       "    <tr>\n",
       "      <th>CountryLive</th>\n",
       "      <th></th>\n",
       "    </tr>\n",
       "  </thead>\n",
       "  <tbody>\n",
       "    <tr>\n",
       "      <th>Canada</th>\n",
       "      <td>75.550464</td>\n",
       "    </tr>\n",
       "    <tr>\n",
       "      <th>India</th>\n",
       "      <td>57.256725</td>\n",
       "    </tr>\n",
       "    <tr>\n",
       "      <th>United Kingdom</th>\n",
       "      <td>45.534337</td>\n",
       "    </tr>\n",
       "    <tr>\n",
       "      <th>United States of America</th>\n",
       "      <td>82.847753</td>\n",
       "    </tr>\n",
       "  </tbody>\n",
       "</table>\n",
       "</div>"
      ],
      "text/plain": [
       "                               mean\n",
       "CountryLive                        \n",
       "Canada                    75.550464\n",
       "India                     57.256725\n",
       "United Kingdom            45.534337\n",
       "United States of America  82.847753"
      ]
     },
     "execution_count": 65,
     "metadata": {},
     "output_type": "execute_result"
    }
   ],
   "source": [
    "# Recalculate the mean after removing the outliers\n",
    "survey_grp2 = no_outliers.groupby(['CountryLive'])\n",
    "survey_grp2['MoneyPerMonthLearning'].agg(['mean'])"
   ]
  },
  {
   "cell_type": "markdown",
   "metadata": {},
   "source": [
    "## Finding the Best Two Markets\n",
    "The United States is clearly the best market to advertise in.  45.7% of the survey participants were living there, making it the dominate geographical population.  With and average of \\\\$83 per month it was also the country where new coders were willing to spend the most money to learn. But what about the second market? It wasn't as clear because, although Canada was willing to spend an average of \\\\$75 per month learning, they were only 4% of the sampled group. India on the other hand was 7.7% of the population, but were only willing to spend an average of \\\\$57 per month learning. Knowing there was still a spread even after removing many outliers,  we decided rather than taking an average, it would be better to isolate Canada and India.  Then, count exactly how many of the survey respondents would be willing to spend more than \\\\$59 per month on our subscription. \n",
    "37 respondents from Canada would and 67 from India would.  Therefore, India was determined to be the second best market to advertise in. "
   ]
  },
  {
   "cell_type": "code",
   "execution_count": 66,
   "metadata": {},
   "outputs": [
    {
     "name": "stdout",
     "output_type": "stream",
     "text": [
      "37 Canadian respondents would pay at least $59/month on learning\n"
     ]
    }
   ],
   "source": [
    "# Determine how many Canadian respondents would pay at least $59\n",
    "Canada_59 = no_outliers[(no_outliers['CountryLive'] == 'Canada') & (no_outliers['MoneyPerMonthLearning'] >= 59)].count()[0]\n",
    "print('{} Canadian respondents would pay at least $59/month on learning'.format(Canada_59))"
   ]
  },
  {
   "cell_type": "code",
   "execution_count": 67,
   "metadata": {},
   "outputs": [
    {
     "name": "stdout",
     "output_type": "stream",
     "text": [
      "67 Indian respondents would pay at least $59/month on learning\n"
     ]
    }
   ],
   "source": [
    "# Determine how many Canadian respondents would pay at least $59\n",
    "India_59 = no_outliers[(no_outliers['CountryLive'] == 'India') & (no_outliers['MoneyPerMonthLearning'] >= 59)].count()[0]\n",
    "print('{} Indian respondents would pay at least $59/month on learning'.format(India_59))"
   ]
  },
  {
   "cell_type": "markdown",
   "metadata": {},
   "source": [
    "## Conclusion\n",
    "Our E-Learning company was looking for a sampling of data to represent a population of new coders interested in the web and mobile development courses we offer for \\\\$59 per month. We found freeCodeCamp's 2017 New Coder Survey to be a good representation for our analysis because 83\\% of respondents were interested in web development and 14\\% were interested in mobile development. After cleaning the data, and removing outliers, we determined that the two best geographical markets to advertise in were the United States and India. 46\\% of the survey participants resided in the United States and it was where new coders budgeted the most money for learning. India wasn't the obvious 2nd choice because; although, it had a larger population, Canadian respondents were willing to spend more money for learning. Since there were a lot of outliers, and a broad range of responses for what people were willing to spend, we simply counted how many participants were willing to spend over \\$59 per month on learning. This took into account the populations of both regions. 37 respondents from Canada would, and 67 from India would. Therefore, India was determined to be the second best market to advertise in.  "
   ]
  }
 ],
 "metadata": {
  "kernelspec": {
   "display_name": "Python 3",
   "language": "python",
   "name": "python3"
  },
  "language_info": {
   "codemirror_mode": {
    "name": "ipython",
    "version": 3
   },
   "file_extension": ".py",
   "mimetype": "text/x-python",
   "name": "python",
   "nbconvert_exporter": "python",
   "pygments_lexer": "ipython3",
   "version": "3.9.0"
  }
 },
 "nbformat": 4,
 "nbformat_minor": 4
}
