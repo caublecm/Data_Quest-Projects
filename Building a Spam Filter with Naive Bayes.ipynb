{
 "cells": [
  {
   "cell_type": "markdown",
   "metadata": {},
   "source": [
    "# Building a Spam Filter with Naive Bayes"
   ]
  },
  {
   "cell_type": "markdown",
   "metadata": {},
   "source": [
    "\n",
    "Multinomial Naive Bayes is a popular algorithm for classifying categorical data. It was used in this project to build a spam filter. A model was trained on a subset of 5,572 SMS messages, to calculate the probability of them being spam and non-spam ('ham'), by using the Naive Bayes formula and probability values. From this information, a filter was developed and tested on the remaining subset of SMS messages, which classified them either as spam or ham depending on which probability was greater (based off the training dataset). \n",
    "\n",
    "This is the Multinomial Naive Bayes formula:\n",
    "\n",
    "\\begin{equation}\n",
    "P(Spam | w_1,w_2, ..., w_n) \\propto P(Spam) \\cdot \\prod_{i=1}^{n}P(w_i|Spam) \\\\\n",
    "P(Ham | w_1,w_2, ..., w_n) \\propto P(Ham) \\cdot \\prod_{i=1}^{n}P(w_i|Ham)\n",
    "\\end{equation}\n",
    "\n",
    "\n",
    "\n",
    "### DataQuest Project Scope\n",
    "This project was for the completion of the DataQuest.io https://www.dataquest.io/ \"Conditional Probability\" module; the eighteenth in a series for the completing Data Science course path. In this module students learned how to:\n",
    "\n",
    "- Assign probabilities to events based on certain conditions by using conditional probability rules.\n",
    "- Assign probabilities to events based on whether they are in relationship of statistical independence -or not with other events.\n",
    "- Assign probabilities to events based on prior knowledge by using Bayes' theorem.\n",
    "- Create a spam filter for SMS messages using the multinomial Naive Bayes algorithm.\n",
    "\n",
    "### Results Summary\n",
    "The model successfully classified whether a message was spam or non-spam('ham') with 98.7% accuracy. "
   ]
  },
  {
   "cell_type": "markdown",
   "metadata": {},
   "source": [
    "# Data Source and Exploration\n",
    "The dataset was complied by Tiago A. Almeida and José María Gómez Hidalgo, and it can be downloaded from the The UCI Machine Learning Repository [here](https://archive.ics.uci.edu/ml/datasets/sms+spam+collection).\n",
    "It contains 5,572 rows and two columns, which are as follows: \n",
    "- \"Label\": Contains only two categorical labels. Either \"ham\" or \"spam\"\n",
    "- \"SMS\": The original message \n",
    "\n",
    "Begin by importing and exploring the data."
   ]
  },
  {
   "cell_type": "code",
   "execution_count": 102,
   "metadata": {},
   "outputs": [],
   "source": [
    "# Import pandas library and dataset\n",
    "import pandas as pd\n",
    "data = pd.read_csv('SMSSpamCollection', sep='\\t', header = None, names = ['Label', 'SMS'])"
   ]
  },
  {
   "cell_type": "code",
   "execution_count": 103,
   "metadata": {},
   "outputs": [
    {
     "data": {
      "text/html": [
       "<div>\n",
       "<style scoped>\n",
       "    .dataframe tbody tr th:only-of-type {\n",
       "        vertical-align: middle;\n",
       "    }\n",
       "\n",
       "    .dataframe tbody tr th {\n",
       "        vertical-align: top;\n",
       "    }\n",
       "\n",
       "    .dataframe thead th {\n",
       "        text-align: right;\n",
       "    }\n",
       "</style>\n",
       "<table border=\"1\" class=\"dataframe\">\n",
       "  <thead>\n",
       "    <tr style=\"text-align: right;\">\n",
       "      <th></th>\n",
       "      <th>Label</th>\n",
       "      <th>SMS</th>\n",
       "    </tr>\n",
       "  </thead>\n",
       "  <tbody>\n",
       "    <tr>\n",
       "      <th>0</th>\n",
       "      <td>ham</td>\n",
       "      <td>Go until jurong point, crazy.. Available only ...</td>\n",
       "    </tr>\n",
       "    <tr>\n",
       "      <th>1</th>\n",
       "      <td>ham</td>\n",
       "      <td>Ok lar... Joking wif u oni...</td>\n",
       "    </tr>\n",
       "    <tr>\n",
       "      <th>2</th>\n",
       "      <td>spam</td>\n",
       "      <td>Free entry in 2 a wkly comp to win FA Cup fina...</td>\n",
       "    </tr>\n",
       "    <tr>\n",
       "      <th>3</th>\n",
       "      <td>ham</td>\n",
       "      <td>U dun say so early hor... U c already then say...</td>\n",
       "    </tr>\n",
       "    <tr>\n",
       "      <th>4</th>\n",
       "      <td>ham</td>\n",
       "      <td>Nah I don't think he goes to usf, he lives aro...</td>\n",
       "    </tr>\n",
       "  </tbody>\n",
       "</table>\n",
       "</div>"
      ],
      "text/plain": [
       "  Label                                                SMS\n",
       "0   ham  Go until jurong point, crazy.. Available only ...\n",
       "1   ham                      Ok lar... Joking wif u oni...\n",
       "2  spam  Free entry in 2 a wkly comp to win FA Cup fina...\n",
       "3   ham  U dun say so early hor... U c already then say...\n",
       "4   ham  Nah I don't think he goes to usf, he lives aro..."
      ]
     },
     "execution_count": 103,
     "metadata": {},
     "output_type": "execute_result"
    }
   ],
   "source": [
    "# First 5 rows of dataset\n",
    "data.head()"
   ]
  },
  {
   "cell_type": "code",
   "execution_count": 104,
   "metadata": {},
   "outputs": [
    {
     "data": {
      "text/plain": [
       "(5572, 2)"
      ]
     },
     "execution_count": 104,
     "metadata": {},
     "output_type": "execute_result"
    }
   ],
   "source": [
    "# Print the total number of rows and columns\n",
    "data.shape"
   ]
  },
  {
   "cell_type": "markdown",
   "metadata": {},
   "source": [
    "### Randomize and Split Datasets\n",
    "The initial ham:spam proportion was observed to be ~0.86 ham to ~0.13 spam. The dataset was randomize and split into two new data frames: 80% of the rows were assigned for training the model; and the remaining 20% were reserved for testing the model. It was confirmed that the proportion of ham:spam messages were maintained after the split.  "
   ]
  },
  {
   "cell_type": "code",
   "execution_count": 105,
   "metadata": {
    "scrolled": true
   },
   "outputs": [
    {
     "data": {
      "text/plain": [
       "ham     0.865937\n",
       "spam    0.134063\n",
       "Name: Label, dtype: float64"
      ]
     },
     "execution_count": 105,
     "metadata": {},
     "output_type": "execute_result"
    }
   ],
   "source": [
    "# Check the proportions of ham:spam labels before randomizing and splitting\n",
    "data['Label'].value_counts(normalize = True)"
   ]
  },
  {
   "cell_type": "code",
   "execution_count": 106,
   "metadata": {},
   "outputs": [
    {
     "data": {
      "text/html": [
       "<div>\n",
       "<style scoped>\n",
       "    .dataframe tbody tr th:only-of-type {\n",
       "        vertical-align: middle;\n",
       "    }\n",
       "\n",
       "    .dataframe tbody tr th {\n",
       "        vertical-align: top;\n",
       "    }\n",
       "\n",
       "    .dataframe thead th {\n",
       "        text-align: right;\n",
       "    }\n",
       "</style>\n",
       "<table border=\"1\" class=\"dataframe\">\n",
       "  <thead>\n",
       "    <tr style=\"text-align: right;\">\n",
       "      <th></th>\n",
       "      <th>Label</th>\n",
       "      <th>SMS</th>\n",
       "    </tr>\n",
       "  </thead>\n",
       "  <tbody>\n",
       "    <tr>\n",
       "      <th>1078</th>\n",
       "      <td>ham</td>\n",
       "      <td>Yep, by the pretty sculpture</td>\n",
       "    </tr>\n",
       "    <tr>\n",
       "      <th>4028</th>\n",
       "      <td>ham</td>\n",
       "      <td>Yes, princess. Are you going to make me moan?</td>\n",
       "    </tr>\n",
       "    <tr>\n",
       "      <th>958</th>\n",
       "      <td>ham</td>\n",
       "      <td>Welp apparently he retired</td>\n",
       "    </tr>\n",
       "    <tr>\n",
       "      <th>4642</th>\n",
       "      <td>ham</td>\n",
       "      <td>Havent.</td>\n",
       "    </tr>\n",
       "    <tr>\n",
       "      <th>4674</th>\n",
       "      <td>ham</td>\n",
       "      <td>I forgot 2 ask ü all smth.. There's a card on ...</td>\n",
       "    </tr>\n",
       "  </tbody>\n",
       "</table>\n",
       "</div>"
      ],
      "text/plain": [
       "     Label                                                SMS\n",
       "1078   ham                       Yep, by the pretty sculpture\n",
       "4028   ham      Yes, princess. Are you going to make me moan?\n",
       "958    ham                         Welp apparently he retired\n",
       "4642   ham                                            Havent.\n",
       "4674   ham  I forgot 2 ask ü all smth.. There's a card on ..."
      ]
     },
     "execution_count": 106,
     "metadata": {},
     "output_type": "execute_result"
    }
   ],
   "source": [
    "# Randomize the data rows\n",
    "random_set = data.sample(frac = 1, random_state = 1)\n",
    "random_set.head()"
   ]
  },
  {
   "cell_type": "code",
   "execution_count": 107,
   "metadata": {},
   "outputs": [
    {
     "name": "stdout",
     "output_type": "stream",
     "text": [
      "There are 4458 rows and 2 columns in the training dataset.\n",
      "There are 1114 rows and 2 columns in the test dataset.\n"
     ]
    }
   ],
   "source": [
    "# Split the first 80% of the rows into a training set, and the remaining 20% into a test set\n",
    "# Reset the index\n",
    "training = random_set.iloc[:4458].reset_index(drop = True)\n",
    "test = random_set.iloc[4458:].reset_index(drop = True)\n",
    "print('There are {} rows and {} columns in the training dataset.'.format(training.shape[0], training.shape[1]))\n",
    "print('There are {} rows and {} columns in the test dataset.'.format(test.shape[0], test.shape[1]))"
   ]
  },
  {
   "cell_type": "code",
   "execution_count": 108,
   "metadata": {},
   "outputs": [
    {
     "name": "stdout",
     "output_type": "stream",
     "text": [
      "The ratio ham:spam ratio for the training dataset is 0.87 ham : 0.13 spam. The ratio has been maintained.\n",
      "The ratio ham:spam ratio for the test dataset is 0.87 ham : 0.13 spam. The ratio has been maintained.\n"
     ]
    }
   ],
   "source": [
    "# Check the values counts of both sets to insure the ratios of ham to spam labels were preserved\n",
    "train_ratio = training['Label'].value_counts(normalize = True)\n",
    "test_ratio = test['Label'].value_counts(normalize = True)\n",
    "print('The ratio ham:spam ratio for the training dataset is {:.2f} ham : {:.2f} spam. The ratio has been maintained.'.format(train_ratio[0],train_ratio[1]))\n",
    "print('The ratio ham:spam ratio for the test dataset is {:.2f} ham : {:.2f} spam. The ratio has been maintained.'.format(test_ratio[0],test_ratio[1]))\n"
   ]
  },
  {
   "attachments": {
    "image.png": {
     "image/png": "[encoded data removed]"
    }
   },
   "cell_type": "markdown",
   "metadata": {},
   "source": [
    "# Cleaning the Training Data Set\n",
    "It was prudent to get the training dataset into the format shown below in order to make computational iterations easier:\n",
    "\n",
    "![image.png](attachment:image.png)\n",
    "\n",
    "First, all the punctuation from the SMS messages were removed and the letters were set to lowercase. Then, a new, cleaned data frame was created with each word set as a column with the number of times it appeared in each SMS message. The vocabulary contained 7783 unique words, so the new cleaned training data frame had 7783 columns, and was in the same format as shown above."
   ]
  },
  {
   "cell_type": "code",
   "execution_count": 109,
   "metadata": {},
   "outputs": [
    {
     "data": {
      "text/html": [
       "<div>\n",
       "<style scoped>\n",
       "    .dataframe tbody tr th:only-of-type {\n",
       "        vertical-align: middle;\n",
       "    }\n",
       "\n",
       "    .dataframe tbody tr th {\n",
       "        vertical-align: top;\n",
       "    }\n",
       "\n",
       "    .dataframe thead th {\n",
       "        text-align: right;\n",
       "    }\n",
       "</style>\n",
       "<table border=\"1\" class=\"dataframe\">\n",
       "  <thead>\n",
       "    <tr style=\"text-align: right;\">\n",
       "      <th></th>\n",
       "      <th>Label</th>\n",
       "      <th>SMS</th>\n",
       "    </tr>\n",
       "  </thead>\n",
       "  <tbody>\n",
       "    <tr>\n",
       "      <th>0</th>\n",
       "      <td>ham</td>\n",
       "      <td>yep  by the pretty sculpture</td>\n",
       "    </tr>\n",
       "    <tr>\n",
       "      <th>1</th>\n",
       "      <td>ham</td>\n",
       "      <td>yes  princess  are you going to make me moan</td>\n",
       "    </tr>\n",
       "    <tr>\n",
       "      <th>2</th>\n",
       "      <td>ham</td>\n",
       "      <td>welp apparently he retired</td>\n",
       "    </tr>\n",
       "    <tr>\n",
       "      <th>3</th>\n",
       "      <td>ham</td>\n",
       "      <td>havent</td>\n",
       "    </tr>\n",
       "    <tr>\n",
       "      <th>4</th>\n",
       "      <td>ham</td>\n",
       "      <td>i forgot 2 ask ü all smth   there s a card on ...</td>\n",
       "    </tr>\n",
       "  </tbody>\n",
       "</table>\n",
       "</div>"
      ],
      "text/plain": [
       "  Label                                                SMS\n",
       "0   ham                       yep  by the pretty sculpture\n",
       "1   ham      yes  princess  are you going to make me moan \n",
       "2   ham                         welp apparently he retired\n",
       "3   ham                                            havent \n",
       "4   ham  i forgot 2 ask ü all smth   there s a card on ..."
      ]
     },
     "execution_count": 109,
     "metadata": {},
     "output_type": "execute_result"
    }
   ],
   "source": [
    "# Remove punctuation and set to all letters to lowercase\n",
    "training = training.copy()\n",
    "training['SMS'] = training['SMS'].str.replace('\\W', ' ', regex = True).str.lower()\n",
    "training.head()"
   ]
  },
  {
   "cell_type": "code",
   "execution_count": 110,
   "metadata": {},
   "outputs": [],
   "source": [
    "# Convert each message to a list of strings\n",
    "training = training.copy()\n",
    "training['SMS'] = training['SMS'].str.split()"
   ]
  },
  {
   "cell_type": "code",
   "execution_count": 111,
   "metadata": {},
   "outputs": [
    {
     "data": {
      "text/html": [
       "<div>\n",
       "<style scoped>\n",
       "    .dataframe tbody tr th:only-of-type {\n",
       "        vertical-align: middle;\n",
       "    }\n",
       "\n",
       "    .dataframe tbody tr th {\n",
       "        vertical-align: top;\n",
       "    }\n",
       "\n",
       "    .dataframe thead th {\n",
       "        text-align: right;\n",
       "    }\n",
       "</style>\n",
       "<table border=\"1\" class=\"dataframe\">\n",
       "  <thead>\n",
       "    <tr style=\"text-align: right;\">\n",
       "      <th></th>\n",
       "      <th>Label</th>\n",
       "      <th>SMS</th>\n",
       "    </tr>\n",
       "  </thead>\n",
       "  <tbody>\n",
       "    <tr>\n",
       "      <th>0</th>\n",
       "      <td>ham</td>\n",
       "      <td>[yep, by, the, pretty, sculpture]</td>\n",
       "    </tr>\n",
       "    <tr>\n",
       "      <th>1</th>\n",
       "      <td>ham</td>\n",
       "      <td>[yes, princess, are, you, going, to, make, me,...</td>\n",
       "    </tr>\n",
       "    <tr>\n",
       "      <th>2</th>\n",
       "      <td>ham</td>\n",
       "      <td>[welp, apparently, he, retired]</td>\n",
       "    </tr>\n",
       "    <tr>\n",
       "      <th>3</th>\n",
       "      <td>ham</td>\n",
       "      <td>[havent]</td>\n",
       "    </tr>\n",
       "    <tr>\n",
       "      <th>4</th>\n",
       "      <td>ham</td>\n",
       "      <td>[i, forgot, 2, ask, ü, all, smth, there, s, a,...</td>\n",
       "    </tr>\n",
       "  </tbody>\n",
       "</table>\n",
       "</div>"
      ],
      "text/plain": [
       "  Label                                                SMS\n",
       "0   ham                  [yep, by, the, pretty, sculpture]\n",
       "1   ham  [yes, princess, are, you, going, to, make, me,...\n",
       "2   ham                    [welp, apparently, he, retired]\n",
       "3   ham                                           [havent]\n",
       "4   ham  [i, forgot, 2, ask, ü, all, smth, there, s, a,..."
      ]
     },
     "execution_count": 111,
     "metadata": {},
     "output_type": "execute_result"
    }
   ],
   "source": [
    "# Print first 5 rows\n",
    "training.head()"
   ]
  },
  {
   "cell_type": "code",
   "execution_count": 112,
   "metadata": {},
   "outputs": [],
   "source": [
    "# Create a vocabulary by iterating over the training SMS and saving each word to a list\n",
    "vocabulary = []\n",
    "for message in training['SMS']:\n",
    "    for word in message:\n",
    "        vocabulary.append(word)\n",
    "voc_set = set(vocabulary)"
   ]
  },
  {
   "cell_type": "code",
   "execution_count": 113,
   "metadata": {},
   "outputs": [
    {
     "name": "stdout",
     "output_type": "stream",
     "text": [
      "There are 7783 unique words in the vocabulary.\n"
     ]
    }
   ],
   "source": [
    "# Find the number of words in the vocabulary\n",
    "vocabulary = list(voc_set)\n",
    "print('There are {} unique words in the vocabulary.'.format(len(vocabulary)))"
   ]
  },
  {
   "cell_type": "code",
   "execution_count": 114,
   "metadata": {},
   "outputs": [],
   "source": [
    "# Create a frequency distribution for all the words using a dictionary\n",
    "word_counts_per_sms = {unique_word:[0]*len(training['SMS']) for unique_word in vocabulary}\n",
    "for index, sms in enumerate(training['SMS']):\n",
    "    for word in sms:\n",
    "        word_counts_per_sms[word][index] +=1"
   ]
  },
  {
   "cell_type": "code",
   "execution_count": 115,
   "metadata": {},
   "outputs": [
    {
     "data": {
      "text/html": [
       "<div>\n",
       "<style scoped>\n",
       "    .dataframe tbody tr th:only-of-type {\n",
       "        vertical-align: middle;\n",
       "    }\n",
       "\n",
       "    .dataframe tbody tr th {\n",
       "        vertical-align: top;\n",
       "    }\n",
       "\n",
       "    .dataframe thead th {\n",
       "        text-align: right;\n",
       "    }\n",
       "</style>\n",
       "<table border=\"1\" class=\"dataframe\">\n",
       "  <thead>\n",
       "    <tr style=\"text-align: right;\">\n",
       "      <th></th>\n",
       "      <th>burger</th>\n",
       "      <th>airport</th>\n",
       "      <th>simpler</th>\n",
       "      <th>165</th>\n",
       "      <th>falling</th>\n",
       "      <th>kills</th>\n",
       "      <th>detroit</th>\n",
       "      <th>fne</th>\n",
       "      <th>telephone</th>\n",
       "      <th>user</th>\n",
       "      <th>...</th>\n",
       "      <th>09061743806</th>\n",
       "      <th>spell</th>\n",
       "      <th>planning</th>\n",
       "      <th>69696</th>\n",
       "      <th>jiu</th>\n",
       "      <th>dancin</th>\n",
       "      <th>atm</th>\n",
       "      <th>pobox365o4w45wq</th>\n",
       "      <th>stereo</th>\n",
       "      <th>faber</th>\n",
       "    </tr>\n",
       "  </thead>\n",
       "  <tbody>\n",
       "    <tr>\n",
       "      <th>0</th>\n",
       "      <td>0</td>\n",
       "      <td>0</td>\n",
       "      <td>0</td>\n",
       "      <td>0</td>\n",
       "      <td>0</td>\n",
       "      <td>0</td>\n",
       "      <td>0</td>\n",
       "      <td>0</td>\n",
       "      <td>0</td>\n",
       "      <td>0</td>\n",
       "      <td>...</td>\n",
       "      <td>0</td>\n",
       "      <td>0</td>\n",
       "      <td>0</td>\n",
       "      <td>0</td>\n",
       "      <td>0</td>\n",
       "      <td>0</td>\n",
       "      <td>0</td>\n",
       "      <td>0</td>\n",
       "      <td>0</td>\n",
       "      <td>0</td>\n",
       "    </tr>\n",
       "    <tr>\n",
       "      <th>1</th>\n",
       "      <td>0</td>\n",
       "      <td>0</td>\n",
       "      <td>0</td>\n",
       "      <td>0</td>\n",
       "      <td>0</td>\n",
       "      <td>0</td>\n",
       "      <td>0</td>\n",
       "      <td>0</td>\n",
       "      <td>0</td>\n",
       "      <td>0</td>\n",
       "      <td>...</td>\n",
       "      <td>0</td>\n",
       "      <td>0</td>\n",
       "      <td>0</td>\n",
       "      <td>0</td>\n",
       "      <td>0</td>\n",
       "      <td>0</td>\n",
       "      <td>0</td>\n",
       "      <td>0</td>\n",
       "      <td>0</td>\n",
       "      <td>0</td>\n",
       "    </tr>\n",
       "    <tr>\n",
       "      <th>2</th>\n",
       "      <td>0</td>\n",
       "      <td>0</td>\n",
       "      <td>0</td>\n",
       "      <td>0</td>\n",
       "      <td>0</td>\n",
       "      <td>0</td>\n",
       "      <td>0</td>\n",
       "      <td>0</td>\n",
       "      <td>0</td>\n",
       "      <td>0</td>\n",
       "      <td>...</td>\n",
       "      <td>0</td>\n",
       "      <td>0</td>\n",
       "      <td>0</td>\n",
       "      <td>0</td>\n",
       "      <td>0</td>\n",
       "      <td>0</td>\n",
       "      <td>0</td>\n",
       "      <td>0</td>\n",
       "      <td>0</td>\n",
       "      <td>0</td>\n",
       "    </tr>\n",
       "    <tr>\n",
       "      <th>3</th>\n",
       "      <td>0</td>\n",
       "      <td>0</td>\n",
       "      <td>0</td>\n",
       "      <td>0</td>\n",
       "      <td>0</td>\n",
       "      <td>0</td>\n",
       "      <td>0</td>\n",
       "      <td>0</td>\n",
       "      <td>0</td>\n",
       "      <td>0</td>\n",
       "      <td>...</td>\n",
       "      <td>0</td>\n",
       "      <td>0</td>\n",
       "      <td>0</td>\n",
       "      <td>0</td>\n",
       "      <td>0</td>\n",
       "      <td>0</td>\n",
       "      <td>0</td>\n",
       "      <td>0</td>\n",
       "      <td>0</td>\n",
       "      <td>0</td>\n",
       "    </tr>\n",
       "    <tr>\n",
       "      <th>4</th>\n",
       "      <td>0</td>\n",
       "      <td>0</td>\n",
       "      <td>0</td>\n",
       "      <td>0</td>\n",
       "      <td>0</td>\n",
       "      <td>0</td>\n",
       "      <td>0</td>\n",
       "      <td>0</td>\n",
       "      <td>0</td>\n",
       "      <td>0</td>\n",
       "      <td>...</td>\n",
       "      <td>0</td>\n",
       "      <td>0</td>\n",
       "      <td>0</td>\n",
       "      <td>0</td>\n",
       "      <td>0</td>\n",
       "      <td>0</td>\n",
       "      <td>0</td>\n",
       "      <td>0</td>\n",
       "      <td>0</td>\n",
       "      <td>0</td>\n",
       "    </tr>\n",
       "  </tbody>\n",
       "</table>\n",
       "<p>5 rows × 7783 columns</p>\n",
       "</div>"
      ],
      "text/plain": [
       "   burger  airport  simpler  165  falling  kills  detroit  fne  telephone  \\\n",
       "0       0        0        0    0        0      0        0    0          0   \n",
       "1       0        0        0    0        0      0        0    0          0   \n",
       "2       0        0        0    0        0      0        0    0          0   \n",
       "3       0        0        0    0        0      0        0    0          0   \n",
       "4       0        0        0    0        0      0        0    0          0   \n",
       "\n",
       "   user  ...  09061743806  spell  planning  69696  jiu  dancin  atm  \\\n",
       "0     0  ...            0      0         0      0    0       0    0   \n",
       "1     0  ...            0      0         0      0    0       0    0   \n",
       "2     0  ...            0      0         0      0    0       0    0   \n",
       "3     0  ...            0      0         0      0    0       0    0   \n",
       "4     0  ...            0      0         0      0    0       0    0   \n",
       "\n",
       "   pobox365o4w45wq  stereo  faber  \n",
       "0                0       0      0  \n",
       "1                0       0      0  \n",
       "2                0       0      0  \n",
       "3                0       0      0  \n",
       "4                0       0      0  \n",
       "\n",
       "[5 rows x 7783 columns]"
      ]
     },
     "execution_count": 115,
     "metadata": {},
     "output_type": "execute_result"
    }
   ],
   "source": [
    "# Create a dataframe with each column as vocabulary word, with times it appears in a message\n",
    "df_temp = pd.DataFrame(word_counts_per_sms)\n",
    "df_temp.head()"
   ]
  },
  {
   "cell_type": "code",
   "execution_count": 116,
   "metadata": {},
   "outputs": [
    {
     "data": {
      "text/html": [
       "<div>\n",
       "<style scoped>\n",
       "    .dataframe tbody tr th:only-of-type {\n",
       "        vertical-align: middle;\n",
       "    }\n",
       "\n",
       "    .dataframe tbody tr th {\n",
       "        vertical-align: top;\n",
       "    }\n",
       "\n",
       "    .dataframe thead th {\n",
       "        text-align: right;\n",
       "    }\n",
       "</style>\n",
       "<table border=\"1\" class=\"dataframe\">\n",
       "  <thead>\n",
       "    <tr style=\"text-align: right;\">\n",
       "      <th></th>\n",
       "      <th>Label</th>\n",
       "      <th>SMS</th>\n",
       "      <th>burger</th>\n",
       "      <th>airport</th>\n",
       "      <th>simpler</th>\n",
       "      <th>165</th>\n",
       "      <th>falling</th>\n",
       "      <th>kills</th>\n",
       "      <th>detroit</th>\n",
       "      <th>fne</th>\n",
       "      <th>...</th>\n",
       "      <th>09061743806</th>\n",
       "      <th>spell</th>\n",
       "      <th>planning</th>\n",
       "      <th>69696</th>\n",
       "      <th>jiu</th>\n",
       "      <th>dancin</th>\n",
       "      <th>atm</th>\n",
       "      <th>pobox365o4w45wq</th>\n",
       "      <th>stereo</th>\n",
       "      <th>faber</th>\n",
       "    </tr>\n",
       "  </thead>\n",
       "  <tbody>\n",
       "    <tr>\n",
       "      <th>0</th>\n",
       "      <td>ham</td>\n",
       "      <td>[yep, by, the, pretty, sculpture]</td>\n",
       "      <td>0</td>\n",
       "      <td>0</td>\n",
       "      <td>0</td>\n",
       "      <td>0</td>\n",
       "      <td>0</td>\n",
       "      <td>0</td>\n",
       "      <td>0</td>\n",
       "      <td>0</td>\n",
       "      <td>...</td>\n",
       "      <td>0</td>\n",
       "      <td>0</td>\n",
       "      <td>0</td>\n",
       "      <td>0</td>\n",
       "      <td>0</td>\n",
       "      <td>0</td>\n",
       "      <td>0</td>\n",
       "      <td>0</td>\n",
       "      <td>0</td>\n",
       "      <td>0</td>\n",
       "    </tr>\n",
       "    <tr>\n",
       "      <th>1</th>\n",
       "      <td>ham</td>\n",
       "      <td>[yes, princess, are, you, going, to, make, me,...</td>\n",
       "      <td>0</td>\n",
       "      <td>0</td>\n",
       "      <td>0</td>\n",
       "      <td>0</td>\n",
       "      <td>0</td>\n",
       "      <td>0</td>\n",
       "      <td>0</td>\n",
       "      <td>0</td>\n",
       "      <td>...</td>\n",
       "      <td>0</td>\n",
       "      <td>0</td>\n",
       "      <td>0</td>\n",
       "      <td>0</td>\n",
       "      <td>0</td>\n",
       "      <td>0</td>\n",
       "      <td>0</td>\n",
       "      <td>0</td>\n",
       "      <td>0</td>\n",
       "      <td>0</td>\n",
       "    </tr>\n",
       "    <tr>\n",
       "      <th>2</th>\n",
       "      <td>ham</td>\n",
       "      <td>[welp, apparently, he, retired]</td>\n",
       "      <td>0</td>\n",
       "      <td>0</td>\n",
       "      <td>0</td>\n",
       "      <td>0</td>\n",
       "      <td>0</td>\n",
       "      <td>0</td>\n",
       "      <td>0</td>\n",
       "      <td>0</td>\n",
       "      <td>...</td>\n",
       "      <td>0</td>\n",
       "      <td>0</td>\n",
       "      <td>0</td>\n",
       "      <td>0</td>\n",
       "      <td>0</td>\n",
       "      <td>0</td>\n",
       "      <td>0</td>\n",
       "      <td>0</td>\n",
       "      <td>0</td>\n",
       "      <td>0</td>\n",
       "    </tr>\n",
       "    <tr>\n",
       "      <th>3</th>\n",
       "      <td>ham</td>\n",
       "      <td>[havent]</td>\n",
       "      <td>0</td>\n",
       "      <td>0</td>\n",
       "      <td>0</td>\n",
       "      <td>0</td>\n",
       "      <td>0</td>\n",
       "      <td>0</td>\n",
       "      <td>0</td>\n",
       "      <td>0</td>\n",
       "      <td>...</td>\n",
       "      <td>0</td>\n",
       "      <td>0</td>\n",
       "      <td>0</td>\n",
       "      <td>0</td>\n",
       "      <td>0</td>\n",
       "      <td>0</td>\n",
       "      <td>0</td>\n",
       "      <td>0</td>\n",
       "      <td>0</td>\n",
       "      <td>0</td>\n",
       "    </tr>\n",
       "    <tr>\n",
       "      <th>4</th>\n",
       "      <td>ham</td>\n",
       "      <td>[i, forgot, 2, ask, ü, all, smth, there, s, a,...</td>\n",
       "      <td>0</td>\n",
       "      <td>0</td>\n",
       "      <td>0</td>\n",
       "      <td>0</td>\n",
       "      <td>0</td>\n",
       "      <td>0</td>\n",
       "      <td>0</td>\n",
       "      <td>0</td>\n",
       "      <td>...</td>\n",
       "      <td>0</td>\n",
       "      <td>0</td>\n",
       "      <td>0</td>\n",
       "      <td>0</td>\n",
       "      <td>0</td>\n",
       "      <td>0</td>\n",
       "      <td>0</td>\n",
       "      <td>0</td>\n",
       "      <td>0</td>\n",
       "      <td>0</td>\n",
       "    </tr>\n",
       "  </tbody>\n",
       "</table>\n",
       "<p>5 rows × 7785 columns</p>\n",
       "</div>"
      ],
      "text/plain": [
       "  Label                                                SMS  burger  airport  \\\n",
       "0   ham                  [yep, by, the, pretty, sculpture]       0        0   \n",
       "1   ham  [yes, princess, are, you, going, to, make, me,...       0        0   \n",
       "2   ham                    [welp, apparently, he, retired]       0        0   \n",
       "3   ham                                           [havent]       0        0   \n",
       "4   ham  [i, forgot, 2, ask, ü, all, smth, there, s, a,...       0        0   \n",
       "\n",
       "   simpler  165  falling  kills  detroit  fne  ...  09061743806  spell  \\\n",
       "0        0    0        0      0        0    0  ...            0      0   \n",
       "1        0    0        0      0        0    0  ...            0      0   \n",
       "2        0    0        0      0        0    0  ...            0      0   \n",
       "3        0    0        0      0        0    0  ...            0      0   \n",
       "4        0    0        0      0        0    0  ...            0      0   \n",
       "\n",
       "   planning  69696  jiu  dancin  atm  pobox365o4w45wq  stereo  faber  \n",
       "0         0      0    0       0    0                0       0      0  \n",
       "1         0      0    0       0    0                0       0      0  \n",
       "2         0      0    0       0    0                0       0      0  \n",
       "3         0      0    0       0    0                0       0      0  \n",
       "4         0      0    0       0    0                0       0      0  \n",
       "\n",
       "[5 rows x 7785 columns]"
      ]
     },
     "execution_count": 116,
     "metadata": {},
     "output_type": "execute_result"
    }
   ],
   "source": [
    "# Put the Label and SMS columns in front of the others. \n",
    "train_df = pd.concat([training, df_temp], axis = 1)\n",
    "train_df.head()"
   ]
  },
  {
   "cell_type": "markdown",
   "metadata": {},
   "source": [
    "# Calculating the  Parameters of Naive Bayes\n",
    "Using the Multinomial Naive Bayes equation, in order to find:\n",
    "\n",
    "\\begin{equation}\n",
    "P(Spam | w_1,w_2, ..., w_n) \\\\\n",
    "P(Ham | w_1,w_2, ..., w_n) \n",
    "\\end{equation}\n",
    "\n",
    "Where:\n",
    "\n",
    "P = probability\n",
    "\n",
    "w = word in the message\n",
    "\n",
    "We must first calculate P(wi|Spam) and P(wi|Ham):\n",
    "  \n",
    "\\begin{equation}\n",
    "P(w_i|Spam) = \\frac{N_{w_i|Spam} + \\alpha}{N_{Spam} + \\alpha \\cdot N_{Vocabulary}} \\\\\n",
    "P(w_i|Ham) = \\frac{N_{w_i|Ham} + \\alpha}{N_{Ham} + \\alpha \\cdot N_{Vocabulary}}\n",
    "\\end{equation}\n",
    "\n",
    "Where:\n",
    "\n",
    "N = number\n",
    "\n",
    "$\\alpha$ = Laplace smoothing factor\n",
    "\n",
    "The following are constants: \n",
    "\n",
    "\\begin{equation}\n",
    "\\alpha = 1 \\\\\n",
    "N_{Spam} \\\\\n",
    "N_{Ham} \\\\\n",
    "N_{Vocabulary}\\\\\n",
    "\\end{equation}\n",
    "\n",
    "The following is a variable: \n",
    "\\begin{equation}\n",
    "N_{w_i|Spam} \\end{equation}\n",
    "\n",
    "The following code calculates all the parameters. "
   ]
  },
  {
   "cell_type": "code",
   "execution_count": 117,
   "metadata": {
    "scrolled": true
   },
   "outputs": [],
   "source": [
    "# Create column that totals rows\n",
    "train_df['total'] = train_df.iloc[:,2:].sum(axis= 1)"
   ]
  },
  {
   "cell_type": "code",
   "execution_count": 118,
   "metadata": {},
   "outputs": [],
   "source": [
    "# Isolate spam and ham messages\n",
    "filt_spam = train_df['Label'] == 'spam'\n",
    "filt_ham = train_df['Label'] == 'ham'\n",
    "spam_df = train_df[filt_spam]\n",
    "ham_df = train_df[filt_ham]"
   ]
  },
  {
   "cell_type": "code",
   "execution_count": 119,
   "metadata": {},
   "outputs": [],
   "source": [
    "# Calculate the parameters\n",
    "\n",
    "# P(Spam) and P(Ham)\n",
    "p_spam = len(spam_df)/(len(train_df))\n",
    "p_ham  = len(ham_df)/(len(train_df))\n",
    "\n",
    "# Find n_spam = number of words in all spam messages\n",
    "spam_tot = train_df.loc[filt_spam]['total']\n",
    "n_spam = sum(spam_tot)\n",
    "\n",
    "# Find n_ham = number of words in all ham messages\n",
    "ham_tot = train_df.loc[filt_ham]['total']\n",
    "n_ham = sum(ham_tot)\n",
    "\n",
    "# Find n_vocabulary = number of words all total\n",
    "n_vocabulary = len(vocabulary)\n",
    "\n",
    "# Initiate variable for Laplace smoothing = 1\n",
    "alpha = 1"
   ]
  },
  {
   "cell_type": "code",
   "execution_count": 120,
   "metadata": {},
   "outputs": [],
   "source": [
    "# calculate P(wi|Spam) and P(wi|Ham)\n",
    "p_w_given_spam = {}\n",
    "p_w_given_ham = {}\n",
    "\n",
    "def p_word_given_am(dataframe, n_am, word): \n",
    "    # Takes spam or ham dataframe, n_spam or n_ham parameter, and vocabulary word.\n",
    "    # Calculates the sum of column labeled for the given vocabulary word\n",
    "    # Calculates P(wi|Spam) and P(wi|Ham) per the formula above \n",
    "    word_sum = dataframe[word].sum() \n",
    "    p_am = (word_sum + alpha) /(n_am + (alpha*n_vocabulary)) \n",
    "    return p_am # Returns the results\n",
    "\n",
    "# Populates a dictionary with the word as a key and P(wi|Spam) and P(wi|Ham) as the values.\n",
    "for word in (vocabulary): \n",
    "    p_w_given_spam[word] = p_word_given_am(spam_df, n_spam, word)\n",
    "    p_w_given_ham[word] = p_word_given_am(ham_df, n_ham, word)"
   ]
  },
  {
   "cell_type": "markdown",
   "metadata": {},
   "source": [
    "# Building the Spam Filter\n",
    "The final calculation in the Naive Bayes formula was to multiply P(Ham) and P(Spam) with P(wi|Spam) and P(wi|Ham) respectively for each message that came into the spam filter. These variables change with each message, so they are calculated in real time. The result is a probability calculation for each message, which gets sorted based on whether it's more likely to be spam or non-spam(ham). "
   ]
  },
  {
   "cell_type": "code",
   "execution_count": 121,
   "metadata": {
    "scrolled": false
   },
   "outputs": [],
   "source": [
    "# Determine if a message is more likely to be spam or ham\n",
    "\n",
    "import re\n",
    "import numpy as np\n",
    "\n",
    "def classify(message): # takes in the message\n",
    "    # Cleans the message:\n",
    "    message = re.sub('\\W', ' ', message) \n",
    "    message = message.lower()            \n",
    "    message = message.split()            \n",
    "\n",
    "    # Compares each word to the dictionaries in the last step and collects the values into new lists\n",
    "    spam_list = []\n",
    "    ham_list = []\n",
    "    for word in message:     \n",
    "        if word in p_w_given_spam:\n",
    "            spam_list.append(p_w_given_spam[word]) \n",
    "        if word in p_w_given_ham:\n",
    "            ham_list.append(p_w_given_ham[word])\n",
    "\n",
    "    # Gets the product of each list          \n",
    "    spam_prod = np.prod(spam_list)\n",
    "    ham_prod = np.prod(ham_list)\n",
    "    \n",
    "    # Multiplies the products above by P(Spam) and P(Ham)\n",
    "    p_spam_given_message =  spam_prod * p_spam\n",
    "    p_ham_given_message =  ham_prod * p_ham\n",
    "\n",
    "    # Labeles the message 'ham' or 'spam' based on the higher probability\n",
    "    if p_ham_given_message > p_spam_given_message:\n",
    "        return 'ham'\n",
    "    elif p_spam_given_message > p_ham_given_message:\n",
    "        return 'spam'\n",
    "    else:\n",
    "        return 'needs human classification'"
   ]
  },
  {
   "cell_type": "markdown",
   "metadata": {},
   "source": [
    "### Testing the Model with Know Classifications\n",
    "The following two messages are known to be spam and ham respectively. They were tested with the model above, and the outcome revealed that they were correctly classified. "
   ]
  },
  {
   "cell_type": "code",
   "execution_count": 122,
   "metadata": {},
   "outputs": [
    {
     "name": "stdout",
     "output_type": "stream",
     "text": [
      "spam\n",
      "ham\n"
     ]
    }
   ],
   "source": [
    "spam_classify  = classify(\"WINNER!! This is the secret code to unlock the money: C3421.\")\n",
    "ham_classify = classify(\"Sounds good, Tom, then see u there\")\n",
    "\n",
    "print(spam_classify)\n",
    "print(ham_classify)"
   ]
  },
  {
   "cell_type": "markdown",
   "metadata": {},
   "source": [
    "### Testing the Model on the Entire Test Dataset\n",
    "A new column 'predicted' was created in the test data frame to easily compare the actual 'Label' to the 'predicted' outcome from the model. The results below show the first five messages correctly classified. "
   ]
  },
  {
   "cell_type": "code",
   "execution_count": 123,
   "metadata": {},
   "outputs": [
    {
     "data": {
      "text/html": [
       "<div>\n",
       "<style scoped>\n",
       "    .dataframe tbody tr th:only-of-type {\n",
       "        vertical-align: middle;\n",
       "    }\n",
       "\n",
       "    .dataframe tbody tr th {\n",
       "        vertical-align: top;\n",
       "    }\n",
       "\n",
       "    .dataframe thead th {\n",
       "        text-align: right;\n",
       "    }\n",
       "</style>\n",
       "<table border=\"1\" class=\"dataframe\">\n",
       "  <thead>\n",
       "    <tr style=\"text-align: right;\">\n",
       "      <th></th>\n",
       "      <th>Label</th>\n",
       "      <th>SMS</th>\n",
       "      <th>predicted</th>\n",
       "    </tr>\n",
       "  </thead>\n",
       "  <tbody>\n",
       "    <tr>\n",
       "      <th>0</th>\n",
       "      <td>ham</td>\n",
       "      <td>Later i guess. I needa do mcat study too.</td>\n",
       "      <td>ham</td>\n",
       "    </tr>\n",
       "    <tr>\n",
       "      <th>1</th>\n",
       "      <td>ham</td>\n",
       "      <td>But i haf enuff space got like 4 mb...</td>\n",
       "      <td>ham</td>\n",
       "    </tr>\n",
       "    <tr>\n",
       "      <th>2</th>\n",
       "      <td>spam</td>\n",
       "      <td>Had your mobile 10 mths? Update to latest Oran...</td>\n",
       "      <td>spam</td>\n",
       "    </tr>\n",
       "    <tr>\n",
       "      <th>3</th>\n",
       "      <td>ham</td>\n",
       "      <td>All sounds good. Fingers . Makes it difficult ...</td>\n",
       "      <td>ham</td>\n",
       "    </tr>\n",
       "    <tr>\n",
       "      <th>4</th>\n",
       "      <td>ham</td>\n",
       "      <td>All done, all handed in. Don't know if mega sh...</td>\n",
       "      <td>ham</td>\n",
       "    </tr>\n",
       "  </tbody>\n",
       "</table>\n",
       "</div>"
      ],
      "text/plain": [
       "  Label                                                SMS predicted\n",
       "0   ham          Later i guess. I needa do mcat study too.       ham\n",
       "1   ham             But i haf enuff space got like 4 mb...       ham\n",
       "2  spam  Had your mobile 10 mths? Update to latest Oran...      spam\n",
       "3   ham  All sounds good. Fingers . Makes it difficult ...       ham\n",
       "4   ham  All done, all handed in. Don't know if mega sh...       ham"
      ]
     },
     "execution_count": 123,
     "metadata": {},
     "output_type": "execute_result"
    }
   ],
   "source": [
    "# Test the model on entire test dataset\n",
    "test['predicted'] = test['SMS'].apply(classify)\n",
    "test.head()"
   ]
  },
  {
   "cell_type": "markdown",
   "metadata": {},
   "source": [
    "# Conclusion\n",
    "\n",
    "### Accuracy\n",
    "To determine the accuracy of the test, we counted the number of messages where the 'Label' and the 'predicted' columns matched. Out of the 1114 messages in the test set, 1100 were accurately labeled. That is a 98.7% accuracy rate. "
   ]
  },
  {
   "cell_type": "code",
   "execution_count": 124,
   "metadata": {},
   "outputs": [
    {
     "name": "stdout",
     "output_type": "stream",
     "text": [
      "1100 messages were labeled correctly.\n",
      "The accuracy of the spam filter is 98.7%.\n"
     ]
    }
   ],
   "source": [
    "# Determine the accuracy of the test\n",
    "correct = 0\n",
    "total = len(test)\n",
    "\n",
    "for index, row in test.iterrows():\n",
    "    if row['Label'] == row['predicted']:\n",
    "        correct+=1\n",
    "print('{} messages were labeled correctly.'.format(correct))\n",
    "accuracy = correct/total*100\n",
    "print('The accuracy of the spam filter is {:.1f}%.'.format(accuracy))"
   ]
  }
 ],
 "metadata": {
  "kernelspec": {
   "display_name": "Python 3",
   "language": "python",
   "name": "python3"
  },
  "language_info": {
   "codemirror_mode": {
    "name": "ipython",
    "version": 3
   },
   "file_extension": ".py",
   "mimetype": "text/x-python",
   "name": "python",
   "nbconvert_exporter": "python",
   "pygments_lexer": "ipython3",
   "version": "3.9.0"
  }
 },
 "nbformat": 4,
 "nbformat_minor": 4
}
