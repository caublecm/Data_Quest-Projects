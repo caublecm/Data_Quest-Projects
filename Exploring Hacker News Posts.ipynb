{
 "cells": [
  {
   "cell_type": "markdown",
   "metadata": {},
   "source": [
    "# Exploring Hacker News Posts \n",
    "\n",
    "\n",
    "## What Hacker News is and How it Works\n",
    "\n",
    "Hacker News https://news.ycombinator.com/ is a social news website focused on computer science and investment. It was started by an American seed money startup accelerator Y Combinator https://www.ycombinator.com/, where user-submitted stories (referred to as \"posts\") are voted and commented upon. The concept is similar to the broader and highly popular platform, Reddit https://www.reddit.com/, where posts move to the top of the listings by users upvoting the content. This can result in hundreds of thousands of views. But, unlike Reddit, users cannot downvote content until they have accumulated enough \"karma\" points. \n",
    "\n",
    "## Defining Ask Posts and Show Posts\n",
    "This project will focus primarily on posts whose titles begin with \"Ask HN\" and \"Show HN\" Users submit Ask HN posts to ask the Hacker News community a specific question. Below are some examples of Ask HN posts:\n",
    "\n",
    "- Ask HN: How to improve my personal website?\n",
    "- Ask HN: Am I the only one outraged by Twitter shutting down share counts?\n",
    "- Ask HN: Aby recent changes to CSS that broke mobile?\n",
    "\n",
    "Likewise, users submit Show HN posts to show the Hacker News community a project, product, or just generally something interesting. Below are some examples of Show HN posts:\n",
    "\n",
    "- Show HN: Wio Link  ESP8266 Based Web of Things Hardware Development Platform'\n",
    "- Show HN: Something pointless I made\n",
    "- Show HN: Shanhu.io, a programming playground powered by e8vm\n",
    "\n",
    "## Quantifying and Comparing Ask Posts and Show Posts\n",
    "This project is for the completion of the DataQuest.io https://www.dataquest.io/ \"Python for Data Science Intermediate\" module; the second in a series for the completing Data Science course path. For this assignment, the following questions will be answered using the material focused on up to this point in the course, with particular consideration for the new material introduced in this module.\n",
    "\n",
    "- Working with and cleaning data with strings.\n",
    "- Working with dates and times; particularly, the datetime module. \n",
    "\n",
    "The primary objective of this project is to explore the data, and use our new found knowledge to answer the following questions: \n",
    "\n",
    "- What is the number of Ask Post and Show Posts? \n",
    "- Which one receives more comments on average? \n",
    "- What is the average number of comments per post \n",
    "- At what hour of the day are the majority of comments posted?\n",
    "\n",
    "## Summary of the Results\n",
    "There were 20,100 posts in our data set, with only about 14% of them being either Ask Posts or Show Posts. Of the ones that were, there were 50% more Ask Posts than Show Posts, and Ask Post received almost 3% more comments on average. It was determined that 3:00 pm EST was the most popular, time to post to an Ask Post comment. It was interesting to find that the second most popular time was 2:00 am in the morning. A good follow up would be to determine why so many Hacker users are up so early (or so late).\n"
   ]
  },
  {
   "cell_type": "markdown",
   "metadata": {},
   "source": [
    "## Data Source and Exploration\n",
    "\n",
    "The dataset for this project was scrapped and contributed to Kaggle.com: https://www.kaggle.com/hacker-news/hacker-news-posts. It has been reduced from almost 300,000 rows to approximately 20,000 rows by removing all submissions that did not receive any comments, and then randomly sampling from the remaining submissions. Below are descriptions of the columns:\n",
    "\n",
    "|Column Name|Details|\n",
    "| :-------: | :---: |\n",
    "|id |The unique identifier from Hacker News for the post|\n",
    "|title|The title of the post|\n",
    "|url|The URL that the posts links to, if the post has a URL|\n",
    "|num_points|The number of points the post acquired,(total number of upvotes minus the total number of downvotes)|\n",
    "|num_comments|The number of comments that were made on the post|\n",
    "|author|The username of the person who submitted the post|\n",
    "|created_at|The date and time at which the post was submitted (Eastern Time, USA)|"
   ]
  },
  {
   "cell_type": "code",
   "execution_count": 57,
   "metadata": {
    "scrolled": false
   },
   "outputs": [],
   "source": [
    "# Import data\n",
    "from csv import reader\n",
    "open_file = open('hacker_news.csv')\n",
    "read_file = reader(open_file)\n",
    "hn = list(read_file)"
   ]
  },
  {
   "cell_type": "code",
   "execution_count": 58,
   "metadata": {},
   "outputs": [
    {
     "name": "stdout",
     "output_type": "stream",
     "text": [
      "Header row: ['id', 'title', 'url', 'num_points', 'num_comments', 'author', 'created_at']\n"
     ]
    }
   ],
   "source": [
    "# Extract header row \n",
    "headers = hn[0]\n",
    "print('Header row: {}'.format(headers))"
   ]
  },
  {
   "cell_type": "code",
   "execution_count": 59,
   "metadata": {
    "scrolled": true
   },
   "outputs": [
    {
     "name": "stdout",
     "output_type": "stream",
     "text": [
      "First 5 rows without header:  [['12224879', 'Interactive Dynamic Video', 'http://www.interactivedynamicvideo.com/', '386', '52', 'ne0phyte', '8/4/2016 11:52'], ['10975351', 'How to Use Open Source and Shut the Fuck Up at the Same Time', 'http://hueniverse.com/2016/01/26/how-to-use-open-source-and-shut-the-fuck-up-at-the-same-time/', '39', '10', 'josep2', '1/26/2016 19:30'], ['11964716', \"Florida DJs May Face Felony for April Fools' Water Joke\", 'http://www.thewire.com/entertainment/2013/04/florida-djs-april-fools-water-joke/63798/', '2', '1', 'vezycash', '6/23/2016 22:20'], ['11919867', 'Technology ventures: From Idea to Enterprise', 'https://www.amazon.com/Technology-Ventures-Enterprise-Thomas-Byers/dp/0073523429', '3', '1', 'hswarna', '6/17/2016 0:01'], ['10301696', 'Note by Note: The Making of Steinway L1037 (2007)', 'http://www.nytimes.com/2007/11/07/movies/07stein.html?_r=0', '8', '2', 'walterbell', '9/30/2015 4:12'], ['10482257', 'Title II kills investment? Comcast and other ISPs are now spending more', 'http://arstechnica.com/business/2015/10/comcast-and-other-isps-boost-network-investment-despite-net-neutrality/', '53', '22', 'Deinos', '10/31/2015 9:48']]\n"
     ]
    }
   ],
   "source": [
    "# Extract first 5 rows of data (minus header)\n",
    "hn = hn[1:]\n",
    "print('First 5 rows without header:  {}'.format(hn[:6]))"
   ]
  },
  {
   "cell_type": "markdown",
   "metadata": {},
   "source": [
    "## Finding the Number of Ask Posts and Show Posts\n",
    "There were 20,100 posts in our data set. The Ask Posts, Show Posts and remaining posts were separated. 1742 were Ask Posts and 1161 were Show Posts. \n",
    "Ask Post exceeded the number of Show Posts by 50%. "
   ]
  },
  {
   "cell_type": "code",
   "execution_count": 60,
   "metadata": {},
   "outputs": [
    {
     "name": "stdout",
     "output_type": "stream",
     "text": [
      "The number of ask_posts:1742\n",
      "The number of show_posts:1161\n",
      "The number of other_posts:17197\n"
     ]
    }
   ],
   "source": [
    "# Separate Ask Posts from Show Posts\n",
    "ask_posts = []\n",
    "show_posts = []\n",
    "other_posts = []\n",
    "\n",
    "for row in hn:\n",
    "    title = row[1]\n",
    "    if title.startswith('Ask HN'):       \n",
    "        ask_posts.append(row)\n",
    "    elif title.startswith('Show HN'):\n",
    "        show_posts.append(row)\n",
    "    else: \n",
    "        other_posts.append(row)\n",
    "\n",
    "print('The number of ask_posts:{}'.format(len(ask_posts)))\n",
    "print('The number of show_posts:{}'.format(len(show_posts)))\n",
    "print('The number of other_posts:{}'.format(len(other_posts)))"
   ]
  },
  {
   "cell_type": "code",
   "execution_count": 61,
   "metadata": {
    "scrolled": false
   },
   "outputs": [
    {
     "name": "stdout",
     "output_type": "stream",
     "text": [
      "First 5 Ask_Posts: [['12296411', 'Ask HN: How to improve my personal website?', '', '2', '6', 'ahmedbaracat', '8/16/2016 9:55'], ['10610020', 'Ask HN: Am I the only one outraged by Twitter shutting down share counts?', '', '28', '29', 'tkfx', '11/22/2015 13:43'], ['11610310', 'Ask HN: Aby recent changes to CSS that broke mobile?', '', '1', '1', 'polskibus', '5/2/2016 10:14'], ['12210105', 'Ask HN: Looking for Employee #3 How do I do it?', '', '1', '3', 'sph130', '8/2/2016 14:20'], ['10394168', 'Ask HN: Someone offered to buy my browser extension from me. What now?', '', '28', '17', 'roykolak', '10/15/2015 16:38']]\n"
     ]
    }
   ],
   "source": [
    "print('First 5 Ask_Posts: {}'.format(ask_posts[:5]))"
   ]
  },
  {
   "cell_type": "code",
   "execution_count": 62,
   "metadata": {
    "scrolled": true
   },
   "outputs": [
    {
     "name": "stdout",
     "output_type": "stream",
     "text": [
      "First 5 Show_posts: [['10627194', 'Show HN: Wio Link  ESP8266 Based Web of Things Hardware Development Platform', 'https://iot.seeed.cc', '26', '22', 'kfihihc', '11/25/2015 14:03'], ['10646440', 'Show HN: Something pointless I made', 'http://dn.ht/picklecat/', '747', '102', 'dhotson', '11/29/2015 22:46'], ['11590768', 'Show HN: Shanhu.io, a programming playground powered by e8vm', 'https://shanhu.io', '1', '1', 'h8liu', '4/28/2016 18:05'], ['12178806', 'Show HN: Webscope  Easy way for web developers to communicate with Clients', 'http://webscopeapp.com', '3', '3', 'fastbrick', '7/28/2016 7:11'], ['10872799', 'Show HN: GeoScreenshot  Easily test Geo-IP based web pages', 'https://www.geoscreenshot.com/', '1', '9', 'kpsychwave', '1/9/2016 20:45']]\n"
     ]
    }
   ],
   "source": [
    "print('First 5 Show_posts: {}'.format(show_posts[:5]))"
   ]
  },
  {
   "cell_type": "markdown",
   "metadata": {},
   "source": [
    "## Determining the Average Number of Comments\n",
    "It was determined through iteration, that the average number of comments associated with Ask Posts was about 14 per post. The average number of comments associated with Show Post was about 10 per post. Ask Posts received almost 3 percent more on average. "
   ]
  },
  {
   "cell_type": "code",
   "execution_count": 63,
   "metadata": {},
   "outputs": [
    {
     "name": "stdout",
     "output_type": "stream",
     "text": [
      "The average number of Ask Post comments are 14.044776119402986\n"
     ]
    }
   ],
   "source": [
    "# Find average Ask comments\n",
    "total_ask_comments = 0\n",
    "for row in ask_posts:\n",
    "    comments = int(row[4])\n",
    "    total_ask_comments += comments\n",
    "\n",
    "average_ask_comments = total_ask_comments/len(ask_posts) # Get the average ask comments\n",
    "print('The average number of Ask Post comments are {}'.format(average_ask_comments))"
   ]
  },
  {
   "cell_type": "code",
   "execution_count": 64,
   "metadata": {},
   "outputs": [
    {
     "name": "stdout",
     "output_type": "stream",
     "text": [
      "The average number of Show Post comments are 10.324720068906116\n"
     ]
    }
   ],
   "source": [
    "# Find average Show comments\n",
    "total_show_comments = 0\n",
    "for row in show_posts:\n",
    "    comments = int(row[4])\n",
    "    total_show_comments += comments\n",
    "\n",
    "average_show_comments = total_show_comments/len(show_posts) # Get the average ask comments\n",
    "print('The average number of Show Post comments are {}'.format(average_show_comments))"
   ]
  },
  {
   "cell_type": "markdown",
   "metadata": {},
   "source": [
    "## Determining the Top 5 Hours for Ask Posts Comments\n",
    "To answer this question, the average number of Ask Posts per hour was determined, then sorted to select the top five hours. The results showed that 3:00 pm EST was the most popular, followed by 2:00 am EST. It was interesting to find so many users asking questions at 2:00 am!\n",
    "\n",
    "|Top 5 Hours for Ask Posts Comments|\n",
    "| :-------: |\n",
    "|15:00 EST: 38.59 average comments per post|\n",
    "|02:00 EST: 23.81 average comments per post|\n",
    "|20:00 EST: 21.52 average comments per post|\n",
    "|16:00 EST: 16.80 average comments per post|\n",
    "|21:00 EST: 16.01 average comments per post|\n"
   ]
  },
  {
   "cell_type": "code",
   "execution_count": 65,
   "metadata": {},
   "outputs": [
    {
     "name": "stdout",
     "output_type": "stream",
     "text": [
      "{9: 45, 13: 85, 10: 59, 14: 107, 16: 108, 23: 68, 12: 73, 17: 100, 15: 116, 21: 109, 20: 80, 2: 58, 18: 108, 3: 54, 5: 46, 19: 110, 1: 60, 22: 71, 8: 48, 4: 47, 0: 54, 6: 44, 7: 34, 11: 58}\n",
      "{9: 251, 13: 1253, 10: 793, 14: 1416, 16: 1814, 23: 543, 12: 687, 17: 1146, 15: 4477, 21: 1745, 20: 1722, 2: 1381, 18: 1430, 3: 421, 5: 464, 19: 1188, 1: 683, 22: 479, 8: 492, 4: 337, 0: 439, 6: 397, 7: 267, 11: 641}\n"
     ]
    }
   ],
   "source": [
    "# Create a dictionary counts by hour and comments by hour\n",
    "import datetime as dt\n",
    "result_list = []\n",
    "\n",
    "for row in ask_posts:\n",
    "    created= [row[6], int(row[4])]\n",
    "    result_list.append(created)\n",
    "\n",
    "date_format = (\"%m/%d/%Y %H:%M\")\n",
    "counts_by_hour = {}\n",
    "comments_by_hour = {}\n",
    "for row in result_list:\n",
    "    dt_string = row[0] # Select the datetime string\n",
    "    comment_string = row[1]\n",
    "    dt_object = dt.datetime.strptime(dt_string, date_format) # Convert the string into a datetime object\n",
    "    hour = dt_object.hour\n",
    "\n",
    "    if hour not in counts_by_hour:\n",
    "        counts_by_hour[hour] = 1\n",
    "        comments_by_hour[hour] = comment_string\n",
    "    else: \n",
    "        counts_by_hour[hour] += 1\n",
    "        comments_by_hour[hour] += comment_string\n",
    "\n",
    "print(counts_by_hour)\n",
    "print(comments_by_hour)\n"
   ]
  },
  {
   "cell_type": "code",
   "execution_count": 66,
   "metadata": {},
   "outputs": [],
   "source": [
    "# Create a list of lists for average posts per hour\n",
    "avg_by_hour = []\n",
    "for key in comments_by_hour:\n",
    "    avg_by_hour.append([key, comments_by_hour[key]/counts_by_hour[key]])"
   ]
  },
  {
   "cell_type": "code",
   "execution_count": 67,
   "metadata": {},
   "outputs": [
    {
     "name": "stdout",
     "output_type": "stream",
     "text": [
      "The average number of Ask Posts per hour:\n"
     ]
    },
    {
     "data": {
      "text/plain": [
       "[[9, 5.5777777777777775],\n",
       " [13, 14.741176470588234],\n",
       " [10, 13.440677966101696],\n",
       " [14, 13.233644859813085],\n",
       " [16, 16.796296296296298],\n",
       " [23, 7.985294117647059],\n",
       " [12, 9.41095890410959],\n",
       " [17, 11.46],\n",
       " [15, 38.5948275862069],\n",
       " [21, 16.009174311926607],\n",
       " [20, 21.525],\n",
       " [2, 23.810344827586206],\n",
       " [18, 13.24074074074074],\n",
       " [3, 7.796296296296297],\n",
       " [5, 10.08695652173913],\n",
       " [19, 10.8],\n",
       " [1, 11.383333333333333],\n",
       " [22, 6.746478873239437],\n",
       " [8, 10.25],\n",
       " [4, 7.170212765957447],\n",
       " [0, 8.12962962962963],\n",
       " [6, 9.022727272727273],\n",
       " [7, 7.852941176470588],\n",
       " [11, 11.051724137931034]]"
      ]
     },
     "execution_count": 67,
     "metadata": {},
     "output_type": "execute_result"
    }
   ],
   "source": [
    "print(\"The average number of Ask Posts per hour:\")\n",
    "avg_by_hour"
   ]
  },
  {
   "cell_type": "code",
   "execution_count": 68,
   "metadata": {},
   "outputs": [
    {
     "data": {
      "text/plain": [
       "[[5.5777777777777775, 9],\n",
       " [14.741176470588234, 13],\n",
       " [13.440677966101696, 10],\n",
       " [13.233644859813085, 14],\n",
       " [16.796296296296298, 16],\n",
       " [7.985294117647059, 23],\n",
       " [9.41095890410959, 12],\n",
       " [11.46, 17],\n",
       " [38.5948275862069, 15],\n",
       " [16.009174311926607, 21],\n",
       " [21.525, 20],\n",
       " [23.810344827586206, 2],\n",
       " [13.24074074074074, 18],\n",
       " [7.796296296296297, 3],\n",
       " [10.08695652173913, 5],\n",
       " [10.8, 19],\n",
       " [11.383333333333333, 1],\n",
       " [6.746478873239437, 22],\n",
       " [10.25, 8],\n",
       " [7.170212765957447, 4],\n",
       " [8.12962962962963, 0],\n",
       " [9.022727272727273, 6],\n",
       " [7.852941176470588, 7],\n",
       " [11.051724137931034, 11]]"
      ]
     },
     "execution_count": 68,
     "metadata": {},
     "output_type": "execute_result"
    }
   ],
   "source": [
    "# Swap the order\n",
    "swap_avg_by_hour = []\n",
    "for row in avg_by_hour:\n",
    "    swap = [row[1], row[0]]\n",
    "    swap_avg_by_hour.append(swap)\n",
    "    \n",
    "swap_avg_by_hour"
   ]
  },
  {
   "cell_type": "code",
   "execution_count": 69,
   "metadata": {},
   "outputs": [
    {
     "data": {
      "text/plain": [
       "[[38.5948275862069, 15],\n",
       " [23.810344827586206, 2],\n",
       " [21.525, 20],\n",
       " [16.796296296296298, 16],\n",
       " [16.009174311926607, 21],\n",
       " [14.741176470588234, 13],\n",
       " [13.440677966101696, 10],\n",
       " [13.24074074074074, 18],\n",
       " [13.233644859813085, 14],\n",
       " [11.46, 17],\n",
       " [11.383333333333333, 1],\n",
       " [11.051724137931034, 11],\n",
       " [10.8, 19],\n",
       " [10.25, 8],\n",
       " [10.08695652173913, 5],\n",
       " [9.41095890410959, 12],\n",
       " [9.022727272727273, 6],\n",
       " [8.12962962962963, 0],\n",
       " [7.985294117647059, 23],\n",
       " [7.852941176470588, 7],\n",
       " [7.796296296296297, 3],\n",
       " [7.170212765957447, 4],\n",
       " [6.746478873239437, 22],\n",
       " [5.5777777777777775, 9]]"
      ]
     },
     "execution_count": 69,
     "metadata": {},
     "output_type": "execute_result"
    }
   ],
   "source": [
    "# Sort the values\n",
    "sorted_swap = sorted(swap_avg_by_hour, reverse = True)\n",
    "sorted_swap"
   ]
  },
  {
   "cell_type": "code",
   "execution_count": 70,
   "metadata": {},
   "outputs": [
    {
     "name": "stdout",
     "output_type": "stream",
     "text": [
      "Top 5 Hours for Ask Posts Comments\n",
      "15:00 EST: 38.59 average comments per post\n",
      "02:00 EST: 23.81 average comments per post\n",
      "20:00 EST: 21.52 average comments per post\n",
      "16:00 EST: 16.80 average comments per post\n",
      "21:00 EST: 16.01 average comments per post\n"
     ]
    }
   ],
   "source": [
    "print('Top 5 Hours for Ask Posts Comments')\n",
    "for row in sorted_swap[:5]:\n",
    "    avg = row[0]\n",
    "    hour = str(row[1])    \n",
    "    print('{} EST: {:.2f} average comments per post'.format(dt.datetime.strptime(hour, '%H').strftime('%H:%M'), avg))"
   ]
  },
  {
   "cell_type": "code",
   "execution_count": 71,
   "metadata": {},
   "outputs": [
    {
     "name": "stdout",
     "output_type": "stream",
     "text": [
      "Top 5 Hours for Ask Posts Comments in Pacific Standard Time\n",
      "12:00 PST: 38.59 average comments per post\n",
      "23:00 PST: 23.81 average comments per post\n",
      "17:00 PST: 21.52 average comments per post\n",
      "13:00 PST: 16.80 average comments per post\n",
      "18:00 PST: 16.01 average comments per post\n"
     ]
    }
   ],
   "source": [
    "# Convert to PST\n",
    "print('Top 5 Hours for Ask Posts Comments in Pacific Standard Time')\n",
    "for row in sorted_swap[:5]:\n",
    "    avg = row[0]\n",
    "    hour = str(row[1])\n",
    "    hour = dt.datetime.strptime(hour,'%H') + dt.timedelta(hours =-3)\n",
    "    print('{} PST: {:.2f} average comments per post'.format(hour.strftime('%H:%M'), avg))"
   ]
  },
  {
   "cell_type": "markdown",
   "metadata": {},
   "source": [
    "## Conclusion\n",
    "There were 20,100 posts in our Hacker News Posts data set; a sampling downloaded from Kaggle of the original scraped data containing over 300,000. Of the 20,100 posts, about 14% were either Ask Posts or Show Posts. There were 1742 Ask Post and 1161 Show Posts with Ask Posts exceeded the number of Show Posts by 50%. There were on average 14 comments associated with each Ask Post, in contrast to 10 per Show Posts. With 3% more comments per Ask Posts, the data was filtered further to determine the Top 5 hours in which comments were posted. At 3:00 pm EST, there were 38.59 average comments per post, followed by 2:00 am EST, with 23.81 average comments per hour. It was surprising to see so many users commenting at 2:00 am EST. "
   ]
  },
  {
   "cell_type": "code",
   "execution_count": null,
   "metadata": {},
   "outputs": [],
   "source": []
  }
 ],
 "metadata": {
  "kernelspec": {
   "display_name": "Python 3",
   "language": "python",
   "name": "python3"
  },
  "language_info": {
   "codemirror_mode": {
    "name": "ipython",
    "version": 3
   },
   "file_extension": ".py",
   "mimetype": "text/x-python",
   "name": "python",
   "nbconvert_exporter": "python",
   "pygments_lexer": "ipython3",
   "version": "3.9.0"
  }
 },
 "nbformat": 4,
 "nbformat_minor": 4
}
