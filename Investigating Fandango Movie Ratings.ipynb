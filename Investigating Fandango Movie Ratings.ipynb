{
 "cells": [
  {
   "cell_type": "markdown",
   "metadata": {},
   "source": [
    "# Inflated Fandango Movie Ratings\n",
    "\n",
    "Fandango Media LLC is an online movie ticketing and streaming media company that collects and aggregates ratings on their movies and provides them to the public through their subsidiary [Rotten Tomatoes](https://www.rottentomatoes.com/).  \n",
    "In October 2015, a data journalist named Walt Hickey analyzed movie ratings data and found strong evidence suggesting that Fandango's rating system was biased and dishonest. He published his analysis in this article [\"Be Suspicious of Online Movie Ratings, Especially Fandango's\"](https://fivethirtyeight.com/features/fandango-movies-ratings/). Hickney scraped the data from their website and noticed a discrepancy between the number of stars on the user's page and the actual rating on their corresponding HTML page.\n",
    "\n",
    "According to his analysis he was able to find that:\n",
    "- The actual rating was almost always rounded up to the nearest half-star. \n",
    "- 8% of the ratings were rounded to the nearest whole star. \n",
    "- For one movie rating, there was a rating of 4 on the HTML of the page; however, for some unexplained reason, the web page displayed 5 stars.\n",
    "This caused the ratings distribution to be shifted to the right of the actual ratings, suggesting that Fandango inflated them. \n",
    "\n",
    "Fandango officially claimed that it was due to a rounding error in their system, and that it was not intentional. Unfortunately, their HTML pages are no longer displayed, so the direct comparison between the HTML rating and number of stars on their website can't be confirmed in the same manner as Hickney's analysis. \n",
    "\n",
    "## Fandango Ratings After Hickey's Analysis\n",
    "This project is for the completion of the [DataQuest.io](https://www.dataquest.io/) \"Statistics Fundamentals\" module; the fifteenth in a series for the completing Data Science course path. For this assignment, questions will be answered using the material focused on up to this point in the course, with particular consideration for the new material introduced in this module. This material includes fundamental statistics including:\n",
    "\n",
    "- Sampling\n",
    "- Statistical Variable Types\n",
    "- Scales of Measurement\n",
    "- Frequency Distributions\n",
    "\n",
    "The purpose of this project is to find out if there have been any changes to the Fandango rating system since Hickey's analysis.\n",
    "\n",
    "## Results Summary\n",
    "Distribution analysis showed a definite downward trend in ratings from 2015 to 2016. Statistical aggregation solidified the finding, particularly the mode, which was a half point lower. It appears that Fandango, did indeed, fix the rounding error. "
   ]
  },
  {
   "cell_type": "markdown",
   "metadata": {},
   "source": [
    "## Data Source and Analysis\n",
    "Walt Hickey 2015 data was made the data he analyzed publicly available on this GitHub [link](https://github.com/fivethirtyeight/data/tree/master/fandango).\n",
    "A Dataquest.io employee collected movie data ratings for movies released in 2016 and 2017, also available through a GitHub [link](https://github.com/mircealex/Movie_ratings_2016_17). \n",
    "Both datasets will be used for comparison purposes.\n",
    "\n",
    "The relevant columns that will be used from each dataset will be extracted for the scope of this project.  The column names and descriptions are as follows: \n",
    "\n",
    "\n",
    "\n",
    "#### Relevant columns from dataset provided by Hickney:\n",
    "\n",
    "\n",
    "|Column Name|Details|\n",
    "|:-------  | :--- |\n",
    "|FILM|The film in question|\n",
    "|Fandango_Stars|The number of stars the film had on its Fandango movie page|\n",
    "|Fandango_Ratingvalue|Value for the film, pulled from the HTML of each page| \n",
    "|Fandango_votes|The number of votes the film had on Fandango|                     |\n",
    "|Fandango_Difference|Difference between Fandango_Stars and the actual Fandango_Ratingvalue|\n",
    "\n",
    "\n",
    "\n",
    "\n"
   ]
  },
  {
   "cell_type": "code",
   "execution_count": 249,
   "metadata": {},
   "outputs": [
    {
     "ename": "SyntaxError",
     "evalue": "invalid syntax (<ipython-input-249-406cbb921eab>, line 3)",
     "output_type": "error",
     "traceback": [
      "\u001b[1;36m  File \u001b[1;32m\"<ipython-input-249-406cbb921eab>\"\u001b[1;36m, line \u001b[1;32m3\u001b[0m\n\u001b[1;33m    <style>\u001b[0m\n\u001b[1;37m    ^\u001b[0m\n\u001b[1;31mSyntaxError\u001b[0m\u001b[1;31m:\u001b[0m invalid syntax\n"
     ]
    }
   ],
   "source": [
    "# Style table\n",
    "%%html\n",
    "<style>\n",
    "table {float:left}\n",
    "</style>"
   ]
  },
  {
   "cell_type": "markdown",
   "metadata": {},
   "source": [
    "#### Relevant columns from dataset provided by Dataquest.io:\n",
    "\n",
    "|Column Name|Details|\n",
    "|:-------| :--- |\n",
    "|movie|The name of the movie|\n",
    "|year|The release year of the movie|\n",
    "|fandango|The Fandango rating of the movie (user score)|"
   ]
  },
  {
   "cell_type": "code",
   "execution_count": null,
   "metadata": {},
   "outputs": [],
   "source": [
    "# Style table\n",
    "%%html\n",
    "<style>\n",
    "table {float:left}\n",
    "</style>"
   ]
  },
  {
   "cell_type": "code",
   "execution_count": null,
   "metadata": {},
   "outputs": [],
   "source": [
    "# Import the libraries and read in the data\n",
    "import pandas as pd\n",
    "import numpy as np\n",
    "fandango= pd.read_csv('fandango_score_comparison.csv')\n",
    "movies = pd.read_csv('movie_ratings_16_17.csv')"
   ]
  },
  {
   "cell_type": "code",
   "execution_count": null,
   "metadata": {},
   "outputs": [],
   "source": [
    "# Select and display the relevant columns for first dataset\n",
    "fandango_before = fandango[['FILM','Fandango_Stars','Fandango_Ratingvalue', 'Fandango_votes', 'Fandango_Difference']]\n",
    "fandango_before"
   ]
  },
  {
   "cell_type": "code",
   "execution_count": null,
   "metadata": {},
   "outputs": [],
   "source": [
    "# Select and display the relevant columns for first dataset \n",
    "fandango_after = movies[['movie', 'year', 'fandango']]\n",
    "fandango_after"
   ]
  },
  {
   "cell_type": "code",
   "execution_count": null,
   "metadata": {},
   "outputs": [],
   "source": [
    "fandango_before['Fandango_Stars'].describe()"
   ]
  },
  {
   "cell_type": "code",
   "execution_count": null,
   "metadata": {},
   "outputs": [],
   "source": [
    "fandango_after['fandango'].describe()"
   ]
  },
  {
   "cell_type": "markdown",
   "metadata": {},
   "source": [
    "##  Sample Population and Data Correlation Conundrum\n",
    "The [README.md](https://github.com/fivethirtyeight/data/blob/master/fandango/README.md) page from Hickney's dataset,\n",
    "states that the data contains ***every*** film that has a Rotten Tomatoes rating, a RT User rating, a Metacritic score, a Metacritic User score, and IMDb score, and ***at least 30 fan reviews*** on Fandango.  Unfortunately, according to the [README.md](https://github.com/mircealex/Movie_ratings_2016_17/blob/master/README.md) page from Dataquest, theirs does not contain the same sample population. The Dataquest set contains movie ratings data for ***214 of the most popular films (\"with a significant number of votes\")***. So, neither dataset was randomly sampled. They both used selective sampling to achieve their own objectives. \n",
    "\n",
    "Without random sampling, the scope and goal of this project had to be modified. One option was to go to the web and scrape for more data. But, that would be impractical and time consuming. \n",
    "The terms Dataquest used to describe the sample population was \"most popular.\" This was vague, so it required definition before proceeding. Since Hackney used the metric ***at least 30 fan reviews***  this was used as benchmark to define \"popular\" in terms of Dataquest.io set. With this as an acceptable proxy from the original goal, 10 samples from the Dataquest set were taken and compare to the list of movies with the number of the reviews on the Fandango's rating site. As of this writing in 2021, all the movies in this sample had at least 30 reviews."
   ]
  },
  {
   "cell_type": "code",
   "execution_count": null,
   "metadata": {},
   "outputs": [],
   "source": [
    "# Random sample of 10 taken\n",
    "fandango_after_over_30 = fandango_after.sample(10, random_state = 1)\n",
    "fandango_after_over_30"
   ]
  },
  {
   "cell_type": "code",
   "execution_count": null,
   "metadata": {},
   "outputs": [],
   "source": [
    "# Tabulate 2021 Fandango ratings with the review count\n",
    "count_list = [59, 232, 21, 178, 340, 54, 109, 344, 148, 418]\n",
    "fandango_after_over_30['Review Count'] = count_list\n",
    "fandango_after_over_30"
   ]
  },
  {
   "cell_type": "markdown",
   "metadata": {},
   "source": [
    "## Comparing Ratings Distributions for 2015 and 2016\n",
    "Some quick data cleaning tasks were required to isolate just 2015 and 2016 data, then, kernel density plots were created from those two years to better visualize the ratings distributions. Visually, one can see a clear downward trend from 2016 than 2015.  \n",
    "\n",
    "The data was granularised further into ratings distributions then the ratings for the subsequent years were normalized into table.  The table showed the two higher ratings: 5.0 down 6% from 2015 to 2016; and 4.5 down 13% from 2015 to 2016. At the low end of the ratings: 3% of the ratings for 2016 had a 2.5. By contrast, There were no ratings below 3.0 for the year 2015. This data also confirmed a downward shift in the ratings from 2015 to 2016. "
   ]
  },
  {
   "cell_type": "code",
   "execution_count": null,
   "metadata": {},
   "outputs": [],
   "source": [
    "# Isolate first dataset to just 2015\n",
    "regExp = r\"(2015)\"\n",
    "fandango_2015 = fandango_before.copy()\n",
    "fandango_2015['Year'] = fandango_2015['FILM'].str.extract(regExp)\n",
    "fandango_2015 = fandango_2015.dropna()\n",
    "fandango_2015"
   ]
  },
  {
   "cell_type": "code",
   "execution_count": 250,
   "metadata": {},
   "outputs": [
    {
     "data": {
      "text/html": [
       "<div>\n",
       "<style scoped>\n",
       "    .dataframe tbody tr th:only-of-type {\n",
       "        vertical-align: middle;\n",
       "    }\n",
       "\n",
       "    .dataframe tbody tr th {\n",
       "        vertical-align: top;\n",
       "    }\n",
       "\n",
       "    .dataframe thead th {\n",
       "        text-align: right;\n",
       "    }\n",
       "</style>\n",
       "<table border=\"1\" class=\"dataframe\">\n",
       "  <thead>\n",
       "    <tr style=\"text-align: right;\">\n",
       "      <th></th>\n",
       "      <th>movie</th>\n",
       "      <th>year</th>\n",
       "      <th>fandango</th>\n",
       "    </tr>\n",
       "  </thead>\n",
       "  <tbody>\n",
       "    <tr>\n",
       "      <th>0</th>\n",
       "      <td>10 Cloverfield Lane</td>\n",
       "      <td>2016</td>\n",
       "      <td>3.5</td>\n",
       "    </tr>\n",
       "    <tr>\n",
       "      <th>1</th>\n",
       "      <td>13 Hours</td>\n",
       "      <td>2016</td>\n",
       "      <td>4.5</td>\n",
       "    </tr>\n",
       "    <tr>\n",
       "      <th>2</th>\n",
       "      <td>A Cure for Wellness</td>\n",
       "      <td>2016</td>\n",
       "      <td>3.0</td>\n",
       "    </tr>\n",
       "    <tr>\n",
       "      <th>4</th>\n",
       "      <td>A Hologram for the King</td>\n",
       "      <td>2016</td>\n",
       "      <td>3.0</td>\n",
       "    </tr>\n",
       "    <tr>\n",
       "      <th>5</th>\n",
       "      <td>A Monster Calls</td>\n",
       "      <td>2016</td>\n",
       "      <td>4.0</td>\n",
       "    </tr>\n",
       "    <tr>\n",
       "      <th>...</th>\n",
       "      <td>...</td>\n",
       "      <td>...</td>\n",
       "      <td>...</td>\n",
       "    </tr>\n",
       "    <tr>\n",
       "      <th>207</th>\n",
       "      <td>Whiskey Tango Foxtrot</td>\n",
       "      <td>2016</td>\n",
       "      <td>3.5</td>\n",
       "    </tr>\n",
       "    <tr>\n",
       "      <th>208</th>\n",
       "      <td>Why Him?</td>\n",
       "      <td>2016</td>\n",
       "      <td>4.0</td>\n",
       "    </tr>\n",
       "    <tr>\n",
       "      <th>209</th>\n",
       "      <td>X-Men: Apocalypse</td>\n",
       "      <td>2016</td>\n",
       "      <td>4.0</td>\n",
       "    </tr>\n",
       "    <tr>\n",
       "      <th>212</th>\n",
       "      <td>Zoolander 2</td>\n",
       "      <td>2016</td>\n",
       "      <td>2.5</td>\n",
       "    </tr>\n",
       "    <tr>\n",
       "      <th>213</th>\n",
       "      <td>Zootopia</td>\n",
       "      <td>2016</td>\n",
       "      <td>4.5</td>\n",
       "    </tr>\n",
       "  </tbody>\n",
       "</table>\n",
       "<p>191 rows × 3 columns</p>\n",
       "</div>"
      ],
      "text/plain": [
       "                       movie  year  fandango\n",
       "0        10 Cloverfield Lane  2016       3.5\n",
       "1                   13 Hours  2016       4.5\n",
       "2        A Cure for Wellness  2016       3.0\n",
       "4    A Hologram for the King  2016       3.0\n",
       "5            A Monster Calls  2016       4.0\n",
       "..                       ...   ...       ...\n",
       "207    Whiskey Tango Foxtrot  2016       3.5\n",
       "208                 Why Him?  2016       4.0\n",
       "209        X-Men: Apocalypse  2016       4.0\n",
       "212              Zoolander 2  2016       2.5\n",
       "213                 Zootopia  2016       4.5\n",
       "\n",
       "[191 rows x 3 columns]"
      ]
     },
     "execution_count": 250,
     "metadata": {},
     "output_type": "execute_result"
    }
   ],
   "source": [
    "# Isolate second dataset to just 2016\n",
    "fandango_2016 = fandango_after[fandango_after['year'] == 2016]\n",
    "fandango_2016"
   ]
  },
  {
   "cell_type": "code",
   "execution_count": 251,
   "metadata": {},
   "outputs": [],
   "source": [
    "import matplotlib.pyplot as plt\n",
    "from numpy import arange\n",
    "%matplotlib inline"
   ]
  },
  {
   "cell_type": "code",
   "execution_count": 252,
   "metadata": {},
   "outputs": [
    {
     "data": {
      "text/plain": [
       "<AxesSubplot:ylabel='Density'>"
      ]
     },
     "execution_count": 252,
     "metadata": {},
     "output_type": "execute_result"
    },
    {
     "data": {
      "image/png": "[encoded data removed]",
      "text/plain": [
       "<Figure size 432x288 with 1 Axes>"
      ]
     },
     "metadata": {},
     "output_type": "display_data"
    }
   ],
   "source": [
    "# Create a distribution plot of the two datasets\n",
    "plt.style.use('fivethirtyeight')\n",
    "fandango_2015['Fandango_Stars'].plot.kde(label = '2015', legend = True)\n",
    "fandango_2016['fandango'].plot.kde(label = '2016', legend = True)"
   ]
  },
  {
   "cell_type": "code",
   "execution_count": 253,
   "metadata": {},
   "outputs": [
    {
     "data": {
      "text/html": [
       "<div>\n",
       "<style scoped>\n",
       "    .dataframe tbody tr th:only-of-type {\n",
       "        vertical-align: middle;\n",
       "    }\n",
       "\n",
       "    .dataframe tbody tr th {\n",
       "        vertical-align: top;\n",
       "    }\n",
       "\n",
       "    .dataframe thead th {\n",
       "        text-align: right;\n",
       "    }\n",
       "</style>\n",
       "<table border=\"1\" class=\"dataframe\">\n",
       "  <thead>\n",
       "    <tr style=\"text-align: right;\">\n",
       "      <th></th>\n",
       "      <th>percent of counts 2016</th>\n",
       "      <th>percent of counts 2015</th>\n",
       "      <th>percent count difference</th>\n",
       "    </tr>\n",
       "    <tr>\n",
       "      <th>ratings</th>\n",
       "      <th></th>\n",
       "      <th></th>\n",
       "      <th></th>\n",
       "    </tr>\n",
       "  </thead>\n",
       "  <tbody>\n",
       "    <tr>\n",
       "      <th>5.0</th>\n",
       "      <td>1.0</td>\n",
       "      <td>7.0</td>\n",
       "      <td>-6.0</td>\n",
       "    </tr>\n",
       "    <tr>\n",
       "      <th>4.5</th>\n",
       "      <td>25.0</td>\n",
       "      <td>38.0</td>\n",
       "      <td>-13.0</td>\n",
       "    </tr>\n",
       "    <tr>\n",
       "      <th>4.0</th>\n",
       "      <td>40.0</td>\n",
       "      <td>29.0</td>\n",
       "      <td>11.0</td>\n",
       "    </tr>\n",
       "    <tr>\n",
       "      <th>3.5</th>\n",
       "      <td>24.0</td>\n",
       "      <td>18.0</td>\n",
       "      <td>6.0</td>\n",
       "    </tr>\n",
       "    <tr>\n",
       "      <th>3.0</th>\n",
       "      <td>7.0</td>\n",
       "      <td>9.0</td>\n",
       "      <td>-2.0</td>\n",
       "    </tr>\n",
       "    <tr>\n",
       "      <th>2.5</th>\n",
       "      <td>3.0</td>\n",
       "      <td>NaN</td>\n",
       "      <td>NaN</td>\n",
       "    </tr>\n",
       "  </tbody>\n",
       "</table>\n",
       "</div>"
      ],
      "text/plain": [
       "         percent of counts 2016  percent of counts 2015  \\\n",
       "ratings                                                   \n",
       "5.0                         1.0                     7.0   \n",
       "4.5                        25.0                    38.0   \n",
       "4.0                        40.0                    29.0   \n",
       "3.5                        24.0                    18.0   \n",
       "3.0                         7.0                     9.0   \n",
       "2.5                         3.0                     NaN   \n",
       "\n",
       "         percent count difference  \n",
       "ratings                            \n",
       "5.0                          -6.0  \n",
       "4.5                         -13.0  \n",
       "4.0                          11.0  \n",
       "3.5                           6.0  \n",
       "3.0                          -2.0  \n",
       "2.5                           NaN  "
      ]
     },
     "execution_count": 253,
     "metadata": {},
     "output_type": "execute_result"
    }
   ],
   "source": [
    "# Tabulate percent counts for each rating and take the difference\n",
    "combined = fandango_2016['fandango'].value_counts(normalize = True).sort_index(ascending = False).round(2).rename_axis('ratings').to_frame('percent of counts 2016')*100\n",
    "combined['percent of counts 2015'] = fandango_2015['Fandango_Stars'].value_counts(normalize = True).sort_index(ascending = False).round(2).to_frame()*100\n",
    "combined['percent count difference'] = combined['percent of counts 2016'] - combined['percent of counts 2015']\n",
    "combined"
   ]
  },
  {
   "cell_type": "markdown",
   "metadata": {},
   "source": [
    "## Comparing the Mean, Median and Mode for 2015 and 2016\n",
    "The distribution information derived above was highly informative; but to be completely thorough in our analysis the Mean, Median and Mode for each year were compared to look for additional information. From 2015 to 2016, mean dropped 4.84%; the mode changed a complete half point from 4.5 stars to 4.0 stars. The median remained constant. "
   ]
  },
  {
   "cell_type": "code",
   "execution_count": 254,
   "metadata": {
    "scrolled": true
   },
   "outputs": [
    {
     "data": {
      "text/html": [
       "<div>\n",
       "<style scoped>\n",
       "    .dataframe tbody tr th:only-of-type {\n",
       "        vertical-align: middle;\n",
       "    }\n",
       "\n",
       "    .dataframe tbody tr th {\n",
       "        vertical-align: top;\n",
       "    }\n",
       "\n",
       "    .dataframe thead th {\n",
       "        text-align: right;\n",
       "    }\n",
       "</style>\n",
       "<table border=\"1\" class=\"dataframe\">\n",
       "  <thead>\n",
       "    <tr style=\"text-align: right;\">\n",
       "      <th></th>\n",
       "      <th>2015</th>\n",
       "      <th>2016</th>\n",
       "      <th>rating change</th>\n",
       "    </tr>\n",
       "  </thead>\n",
       "  <tbody>\n",
       "    <tr>\n",
       "      <th>mean</th>\n",
       "      <td>4.09</td>\n",
       "      <td>3.89</td>\n",
       "      <td>0.2</td>\n",
       "    </tr>\n",
       "    <tr>\n",
       "      <th>median</th>\n",
       "      <td>4.00</td>\n",
       "      <td>4.00</td>\n",
       "      <td>0.0</td>\n",
       "    </tr>\n",
       "    <tr>\n",
       "      <th>mode</th>\n",
       "      <td>4.50</td>\n",
       "      <td>4.00</td>\n",
       "      <td>0.5</td>\n",
       "    </tr>\n",
       "  </tbody>\n",
       "</table>\n",
       "</div>"
      ],
      "text/plain": [
       "        2015  2016  rating change\n",
       "mean    4.09  3.89            0.2\n",
       "median  4.00  4.00            0.0\n",
       "mode    4.50  4.00            0.5"
      ]
     },
     "execution_count": 254,
     "metadata": {},
     "output_type": "execute_result"
    }
   ],
   "source": [
    "# Find mean, median and mode for both datasets and tabulate\n",
    "mean_2015 = fandango_2015['Fandango_Stars'].mean()\n",
    "mean_2016 = fandango_2016['fandango'].mean()\n",
    "\n",
    "median_2015 = fandango_2015['Fandango_Stars'].median()\n",
    "median_2016 = fandango_2016['fandango'].median()\n",
    "\n",
    "mode_2015 = fandango_2015['Fandango_Stars'].mode()[0]\n",
    "mode_2016 = fandango_2016['fandango'].mode()[0]\n",
    "\n",
    "summary = pd.DataFrame()\n",
    "summary['2015'] = [mean_2015, median_2015, mode_2015]\n",
    "summary['2016'] = [mean_2016, median_2016, mode_2016]\n",
    "summary['rating change'] = summary['2015']-summary['2016']\n",
    "summary.index = ['mean', 'median', 'mode']\n",
    "summary.round(2)"
   ]
  },
  {
   "cell_type": "code",
   "execution_count": 255,
   "metadata": {},
   "outputs": [
    {
     "data": {
      "image/png": "[encoded data removed]",
      "text/plain": [
       "<Figure size 576x360 with 1 Axes>"
      ]
     },
     "metadata": {},
     "output_type": "display_data"
    }
   ],
   "source": [
    "# Plot mean, median and mode\n",
    "plt.style.use('fivethirtyeight')\n",
    "summary['2015'].plot.bar(color = '#0066FF', align = 'center', label = '2015', width = .25)\n",
    "summary['2016'].plot.bar(color = '#CC0000', align = 'edge', label = '2016', width = .25,\n",
    "                         rot = 0, figsize = (8,5))\n",
    "plt.title('Comparing summary statistics: 2015 vs 2016', y = 1.07)\n",
    "plt.ylim(0,5.5)\n",
    "plt.yticks(arange(0,5.1,.5))\n",
    "plt.ylabel('Stars')\n",
    "plt.legend(framealpha = 0, loc = 'upper center')\n",
    "plt.show()"
   ]
  },
  {
   "cell_type": "markdown",
   "metadata": {},
   "source": [
    "## Conclusion\n",
    "The goal of determining if there were any directional trends between Fandango's ratings for popular movies in 2015 and popular movies in 2016 was achieved. There was an initial setback during the data exploration phase when it was found that both datasets were independently, selectively sampled. So, as an acceptable proxy, 10 samples from the Dataquest set were taken and compare to the list of movies with the number of the reviews on Fandango's rating site. There was a definite downward trend in ratings from 2015 to 2016. Statistical aggregation solidified the finding, particularly the mode, which was a half point lower. It appears that Fandango, did indeed, fix the rounding error.  "
   ]
  }
 ],
 "metadata": {
  "kernelspec": {
   "display_name": "Python 3",
   "language": "python",
   "name": "python3"
  },
  "language_info": {
   "codemirror_mode": {
    "name": "ipython",
    "version": 3
   },
   "file_extension": ".py",
   "mimetype": "text/x-python",
   "name": "python",
   "nbconvert_exporter": "python",
   "pygments_lexer": "ipython3",
   "version": "3.9.0"
  }
 },
 "nbformat": 4,
 "nbformat_minor": 4
}
