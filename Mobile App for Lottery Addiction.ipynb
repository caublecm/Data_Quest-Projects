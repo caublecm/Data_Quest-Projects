{
 "cells": [
  {
   "cell_type": "markdown",
   "metadata": {},
   "source": [
    "# Mobile App For Lottery Addiction\n",
    "A medical institute that aims to prevent and treat gambling additions wants to build a dedicated mobile application to help lottery addicts better understand their odds of winning. The institute has a team of engineers that will build the app; but, they need a data scientist, who can analyze historical data, and derive the statistics to create the logic that calculates probabilities. \n",
    "\n",
    "### The 6/49 Lottery\n",
    "The 6/49 is Canada's national lottery, where players select 6 unique, unordered numbers from 1 to 49. The data history is provided in a dataset for 3,665 drawings, dating from 1982 to 2018. \n",
    "\n",
    "### Project and Scope for the Lottery Addition App\n",
    "The first version the app will have functions to allow users to enter the number of tickets and/or winning numbers; and, return answers to questions like:\n",
    "- What is the probability of winning the big prize with a single ticket? \n",
    "- What is the probability of winning the big prize with a multiple of tickets?\n",
    "- What is the probability of having at least five(or four, or three, or two) winning numbers on a single ticket? \n"
   ]
  },
  {
   "cell_type": "markdown",
   "metadata": {},
   "source": [
    "### Dataquest Project Scope\n",
    "*This senerio is ficitional. This project is for the completion of the DataQuest.io https://www.dataquest.io/ \"Probability: Fundamentals\" module; the seventeenth in a series for the completing Data Science course path. For this assignment, questions will be answered using the material focused on up to this point in the course, with particular consideration for the new material introduced in this module.*\n",
    "\n",
    "- *How to calculate theoretical and empirical probabilities*\n",
    "- *How to use probability rules to solve probability problems*\n",
    "- *How to use combinations and permutations*"
   ]
  },
  {
   "cell_type": "markdown",
   "metadata": {},
   "source": [
    "### Data Source and Exploration\n",
    "This dataset was provided by Kaggle and can be found [here](https://www.kaggle.com/datascienceai/lottery-dataset)."
   ]
  },
  {
   "cell_type": "markdown",
   "metadata": {},
   "source": [
    "## The Probability of Winning the Big Prize with a Single Ticket\n",
    "The following is the logic core for determining the probability of winning when the user purchases a single ticket, and plays 6 unique numbers from 1 to 49. The user is prompted to enter 6 numbers. With this information, it calculates and returns the total number of possible outcomes under the hood. Then, it calculates the probability of winning in a third function and returns the information to the user. \n",
    "\n",
    "The combinations formula is used here since the order doesn't matter. Since the user is not allowed to use the same number twice, the formula takes into account sampling without replacement. The combinations formula is as follows: \n",
    "\n",
    "\\begin{equation}\n",
    "_nC_k = {n \\choose k} =  \\frac{n!}{k!(n-k)!}\n",
    "\\end{equation}"
   ]
  },
  {
   "cell_type": "code",
   "execution_count": null,
   "metadata": {},
   "outputs": [],
   "source": [
    "# Create a function that takes in a factorial for a certain range\n",
    "def factorial(n):\n",
    "    fact = 1\n",
    "    for i in range(n,0,-1):\n",
    "        fact *= i\n",
    "    return fact"
   ]
  },
  {
   "cell_type": "code",
   "execution_count": null,
   "metadata": {},
   "outputs": [],
   "source": [
    "# Combinations function calls factorial function. Calculates total number of possible outcomes. \n",
    "def combinations(n,k):\n",
    "    numerator = factorial(n)\n",
    "    denominator = factorial(k)*factorial(n-k)\n",
    "    return numerator/denominator\n",
    "total_num_possible_outcomes = combinations(49,6)\n",
    "print('The total number of possible outcomes are {:.0f}'.format(total_num_possible_outcomes))"
   ]
  },
  {
   "cell_type": "code",
   "execution_count": null,
   "metadata": {},
   "outputs": [],
   "source": [
    "# Function takes a list os six unique numbers and returns the probability\n",
    "def one_ticket_probability(n,k):   \n",
    "    return (1/combinations(n,k))*100\n",
    "probability = one_ticket_probability(49,6)\n",
    "print('The probability of winning with a single ticket is {:.7f}%'.format(probability))"
   ]
  },
  {
   "cell_type": "markdown",
   "metadata": {},
   "source": [
    "### Comparing User Numbers with Historical Winnings\n",
    "The following code compares the combination that the the user input into the app with historical winnings. The input is checked against the lottery database. If it was a winning combination in the past, the user is informed. The user is also informed that their odds of winning remain the same, regardless of whether the number has won before or not. "
   ]
  },
  {
   "cell_type": "code",
   "execution_count": null,
   "metadata": {
    "scrolled": false
   },
   "outputs": [],
   "source": [
    "# This is the set of numbers the user entered into the app\n",
    "six_nums_set = {*six_nums}"
   ]
  },
  {
   "cell_type": "code",
   "execution_count": null,
   "metadata": {},
   "outputs": [],
   "source": [
    "# Import and explore the historical data\n",
    "import pandas as pd\n",
    "lottery = pd.read_csv('649.csv')"
   ]
  },
  {
   "cell_type": "code",
   "execution_count": null,
   "metadata": {
    "scrolled": true
   },
   "outputs": [],
   "source": [
    "# First three rows\n",
    "lottery.head(3)"
   ]
  },
  {
   "cell_type": "code",
   "execution_count": null,
   "metadata": {
    "scrolled": false
   },
   "outputs": [],
   "source": [
    "# Last three rows\n",
    "lottery.tail(3)"
   ]
  },
  {
   "cell_type": "code",
   "execution_count": null,
   "metadata": {
    "scrolled": true
   },
   "outputs": [],
   "source": [
    "# Save the relevant information to a new dataframe\n",
    "df_set = lottery.iloc[:,4:10]"
   ]
  },
  {
   "cell_type": "code",
   "execution_count": null,
   "metadata": {},
   "outputs": [],
   "source": [
    "# First three rows of new dataframe\n",
    "df_set.head(3)"
   ]
  },
  {
   "cell_type": "code",
   "execution_count": null,
   "metadata": {},
   "outputs": [],
   "source": [
    "# Extract each row as a set of numbers\n",
    "def extract_numbers(n):\n",
    "    s = {*n}\n",
    "    return s"
   ]
  },
  {
   "cell_type": "code",
   "execution_count": null,
   "metadata": {},
   "outputs": [],
   "source": [
    "winning_num = df_set.apply(extract_numbers, axis = 1)\n",
    "winning_num"
   ]
  },
  {
   "cell_type": "code",
   "execution_count": null,
   "metadata": {},
   "outputs": [],
   "source": [
    "# Checks each historical set against the users input set to find a match. Counts the number of matches.\n",
    "def check_historical_occurance(set_a, series):\n",
    "    count_true = 0\n",
    "    for set_b in series:\n",
    "        check_equal = set_a == set_b\n",
    "        if check_equal == True:\n",
    "            count_true += 1\n",
    "    return count_true"
   ]
  },
  {
   "cell_type": "code",
   "execution_count": null,
   "metadata": {},
   "outputs": [],
   "source": [
    "# User inputs 6 numbers and informed about their chance of winning with a single ticket\n",
    "print ('Enter six unique numbers from 1-49 to determine your chance of winning with a single lottery ticket')\n",
    "six_nums = []\n",
    "\n",
    "for i in range(1,7): \n",
    "    i = str(i)\n",
    "    print('Enter lucky number', i,':')\n",
    "    lucky = int(input())\n",
    "    if lucky == 0 or lucky > 49:\n",
    "        print('You must select a number between 1 and 49. Please start over.')\n",
    "        break\n",
    "    elif lucky in six_nums: \n",
    "        print('You already used this number. You can\\'t use the same number more than once in the 649 Lottery. Please start over.')\n",
    "        break \n",
    "    else: \n",
    "        six_nums.append(lucky)\n",
    " \n",
    "if len(six_nums) == 6:\n",
    "    print('You entered:', six_nums)\n",
    "    print('The chance of winning the big prize with a single 6/49 lottery ticket is: {:.7f}%'.format(probability))"
   ]
  },
  {
   "cell_type": "code",
   "execution_count": null,
   "metadata": {},
   "outputs": [],
   "source": [
    "# Informs the user if the number has won previously ,how many times, and probability of winning again.\n",
    "previous_wins = check_historical_occurance(six_nums_set, winning_num)\n",
    "if previous_wins == 1:\n",
    "    print('This number combination won once before.')\n",
    "    print('The chance of winning the big prize with a single 6/49 lottery ticket is still: {:.7f}%'.format(probability))\n",
    "elif previous_wins == 0:\n",
    "    print('This number combination never won before.')\n",
    "    print('The chance of winning the big prize with a single 6/49 lottery ticket is still: {:.7f}%'.format(probability))\n",
    "elif previous_wins > 1: \n",
    "    print('This number combination won {} times before'.format(previous_wins))\n",
    "    print('The chance of winning the big prize with a single 6/49 lottery ticket is still: {:.7f}%'.format(probability))"
   ]
  },
  {
   "cell_type": "markdown",
   "metadata": {},
   "source": [
    "## The Probability of Winning the Big Prize with Multiple Tickets\n",
    "The following is the logic core for determining the probability of winning, when one purchases multiple tickets with any 6 unique numbers from 1 to 49. The app user is prompted to enter the number of different tickets they want to play (without inputting the specific number combinations they intend to play). Under the hood, a function calls the previous combinations function and divides the number of tickets by the number of possible outcomes. It returns the probability of wining to the app user. "
   ]
  },
  {
   "cell_type": "code",
   "execution_count": null,
   "metadata": {},
   "outputs": [],
   "source": [
    "# Function to return the number of tickets buy the number of outcomes:\n",
    "def multi_ticket_probability(tickets):\n",
    "    return (tickets/combinations(49,6))*100"
   ]
  },
  {
   "cell_type": "code",
   "execution_count": null,
   "metadata": {},
   "outputs": [],
   "source": [
    "# User inputs the number of tickets and is informed about their chance of winning \n",
    "print ('Enter the number of tickets you plan to purchase:')\n",
    "tix_num = int(input())\n",
    "multi_probability = multi_ticket_probability(tix_num)\n",
    "print('You entered:{} tickets'.format(tix_num))\n",
    "print('Your chance of winning the lottery is: {:.7f}%'.format(multi_probability))"
   ]
  },
  {
   "cell_type": "markdown",
   "metadata": {},
   "source": [
    "## The Probability of Winning Smaller Prizes with Fewer Numbers \n",
    "The following is the logic core for determining the probability of winning smaller prizes when 2,3,4 or 5 of the numbers match the winning combination. The app user is prompted to enter six different numbers from 1 to 49, as well as an integer between 2 and 5 inclusive, and learn the probability of winning.  "
   ]
  },
  {
   "cell_type": "code",
   "execution_count": null,
   "metadata": {},
   "outputs": [],
   "source": [
    "# Exactly 5\n",
    "def probability_less_6(twotofive):\n",
    "    outcomes = combinations(6,twotofive)\n",
    "    non_outcomes = combinations(43, 6-twotofive)\n",
    "    successful_outcomes = outcomes*non_outcomes\n",
    "    tot_outcomes = combinations(49,6)\n",
    "    return (successful_outcomes/tot_outcomes)*100\n",
    "probability_less_6(2)"
   ]
  },
  {
   "cell_type": "code",
   "execution_count": null,
   "metadata": {
    "scrolled": false
   },
   "outputs": [],
   "source": [
    "# User inputs a number from two to five and is given the probability of winning with fewer matches\n",
    "print ('Enter a number from 2 to 5 to determine your chances of winning with fewer matches:')\n",
    "match_quant = int(input())\n",
    "match_probability = probability_less_6(match_quant)\n",
    "print('Your chance of winning with {} matches is {:.4f}%'.format(match_quant,match_probability))"
   ]
  }
 ],
 "metadata": {
  "kernelspec": {
   "display_name": "Python 3",
   "language": "python",
   "name": "python3"
  },
  "language_info": {
   "codemirror_mode": {
    "name": "ipython",
    "version": 3
   },
   "file_extension": ".py",
   "mimetype": "text/x-python",
   "name": "python",
   "nbconvert_exporter": "python",
   "pygments_lexer": "ipython3",
   "version": "3.9.0"
  }
 },
 "nbformat": 4,
 "nbformat_minor": 4
}
