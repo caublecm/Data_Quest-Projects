{
 "cells": [
  {
   "cell_type": "markdown",
   "metadata": {},
   "source": [
    "<style>\n",
    ".text_cell_render {\n",
    "font-family: Times New Roman, serif;\n",
    "}\n",
    "</style>"
   ]
  },
  {
   "cell_type": "code",
   "execution_count": 77,
   "metadata": {},
   "outputs": [],
   "source": [
    "!jt -t grade3"
   ]
  },
  {
   "cell_type": "markdown",
   "metadata": {},
   "source": [
    "# Finding Profitable App Profiles for the Apple App Store and Google Play Markets"
   ]
  },
  {
   "cell_type": "markdown",
   "metadata": {},
   "source": [
    "\n",
    "             \n",
    "####  The goal of this project is to help our developers (at our imaginary company) understand what apps are likely to attract the most users. At our company, we only build apps that are free to download and install, and that are directed toward an English-speaking audience. Our revenue is highly influenced by the number of people using our apps.\n",
    "\n",
    "### Business Strategy\n",
    "#### Our validation strategy is based on our overall business strategy: \n",
    "1. ##### Build a minimal Android version of the app, and add it to Google Play.\n",
    "2. ##### If the app has a good response from users, we develop it further.\n",
    "3. ##### If the app is profitable after six months, we build an iOS version of the app and add it to the Apple App Store.\n",
    "\n",
    "### Methodology \n",
    "#### After we cleaned the data, we found the percentage of apps that existed within each genre for both the App Store and Google Play Store. Then we drilled down to the user ratings and reviews to determine customer preferences. \n",
    "\n",
    "### Results Summary\n",
    "#### We recommend that our developers prioritize general, practical, and/or educational applications for the Google Play Store Market. If these are successful after six months, launch them on the Apple App Store.  If management wants to grow the market, and if resources exist, they should consider re-evaluating the business strategy to launch entertainment and gaming apps directly to the Apple App Store.  \n",
    "#### For more details, please refer to the full analysis below. \n",
    "             \n",
    "        "
   ]
  },
  {
   "cell_type": "markdown",
   "metadata": {},
   "source": [
    "# Exploring a Sampling of Existing Data Sets\n",
    "####  As of September 2018, there were approximately 2 million iOS apps available on the Apple App Store and 2.1 million Android apps on Google Play. \n",
    "\n",
    "- Statista: https://www.statista.com/statistics/276623/number-of-apps-available-in-leading-app-stores/\n",
    "\n",
    "#### Collecting data for over 4 million apps was not practical for this project, and subsets of the data already existed on kaggle.com Here are the datasets for Apple iOS App Store and Google Play Store that were used for this analysis: \n",
    "- https://www.kaggle.com/ramamet4/app-store-apple-data-set-10k-apps\n",
    "- https://www.kaggle.com/lava18/google-play-store-apps\n",
    "\n",
    "#### The App Store Data was collected in July 2017 from an API. Version 6 of the Google Play Store Data was scraped in February 2019."
   ]
  },
  {
   "cell_type": "code",
   "execution_count": 78,
   "metadata": {},
   "outputs": [],
   "source": [
    "# Open both data sets and save as list of lists\n",
    "from csv import reader\n",
    "def file_import(file):   \n",
    "    open_file = open(file, encoding = 'utf8')\n",
    "    read_file = reader(open_file)\n",
    "    return list(read_file)\n",
    "    \n",
    "apple = file_import('AppleStore.csv')\n",
    "google = file_import('googleplaystore.csv')"
   ]
  },
  {
   "cell_type": "code",
   "execution_count": 79,
   "metadata": {},
   "outputs": [
    {
     "name": "stdout",
     "output_type": "stream",
     "text": [
      "['id', 'track_name', 'size_bytes', 'currency', 'price', 'rating_count_tot', 'rating_count_ver', 'user_rating', 'user_rating_ver', 'ver', 'cont_rating', 'prime_genre', 'sup_devices.num', 'ipadSc_urls.num', 'lang.num', 'vpp_lic']\n",
      "\n",
      "\n",
      "['284882215', 'Facebook', '389879808', 'USD', '0.0', '2974676', '212', '3.5', '3.5', '95.0', '4+', 'Social Networking', '37', '1', '29', '1']\n",
      "\n",
      "\n",
      "['389801252', 'Instagram', '113954816', 'USD', '0.0', '2161558', '1289', '4.5', '4.0', '10.23', '12+', 'Photo & Video', '37', '0', '29', '1']\n",
      "\n",
      "\n",
      "['529479190', 'Clash of Clans', '116476928', 'USD', '0.0', '2130805', '579', '4.5', '4.5', '9.24.12', '9+', 'Games', '38', '5', '18', '1']\n",
      "\n",
      "\n",
      "['420009108', 'Temple Run', '65921024', 'USD', '0.0', '1724546', '3842', '4.5', '4.0', '1.6.2', '9+', 'Games', '40', '5', '1', '1']\n",
      "\n",
      "\n",
      "Number of rows: 7198\n",
      "Number of columns: 16\n"
     ]
    }
   ],
   "source": [
    "# Explore both data sets \n",
    "def explore_data(dataset, start, end, rows_and_columns=False):\n",
    "    dataset_slice = dataset[start:end]    \n",
    "    for row in dataset_slice:\n",
    "        print(row)\n",
    "        print('\\n') # adds a new (empty) line after each row\n",
    "\n",
    "    if rows_and_columns:\n",
    "        print('Number of rows:', len(dataset))\n",
    "        print('Number of columns:', len(dataset[0]))\n",
    "\n",
    "explore_data(apple, 0, 5, True)"
   ]
  },
  {
   "cell_type": "code",
   "execution_count": 80,
   "metadata": {},
   "outputs": [
    {
     "data": {
      "text/plain": [
       "['id',\n",
       " 'track_name',\n",
       " 'size_bytes',\n",
       " 'currency',\n",
       " 'price',\n",
       " 'rating_count_tot',\n",
       " 'rating_count_ver',\n",
       " 'user_rating',\n",
       " 'user_rating_ver',\n",
       " 'ver',\n",
       " 'cont_rating',\n",
       " 'prime_genre',\n",
       " 'sup_devices.num',\n",
       " 'ipadSc_urls.num',\n",
       " 'lang.num',\n",
       " 'vpp_lic']"
      ]
     },
     "execution_count": 80,
     "metadata": {},
     "output_type": "execute_result"
    }
   ],
   "source": [
    "# Apple App Store columns\n",
    "apple[0]"
   ]
  },
  {
   "cell_type": "code",
   "execution_count": 81,
   "metadata": {
    "scrolled": true
   },
   "outputs": [
    {
     "name": "stdout",
     "output_type": "stream",
     "text": [
      "['App', 'Category', 'Rating', 'Reviews', 'Size', 'Installs', 'Type', 'Price', 'Content Rating', 'Genres', 'Last Updated', 'Current Ver', 'Android Ver']\n",
      "\n",
      "\n",
      "['Photo Editor & Candy Camera & Grid & ScrapBook', 'ART_AND_DESIGN', '4.1', '159', '19M', '10,000+', 'Free', '0', 'Everyone', 'Art & Design', 'January 7, 2018', '1.0.0', '4.0.3 and up']\n",
      "\n",
      "\n",
      "['Coloring book moana', 'ART_AND_DESIGN', '3.9', '967', '14M', '500,000+', 'Free', '0', 'Everyone', 'Art & Design;Pretend Play', 'January 15, 2018', '2.0.0', '4.0.3 and up']\n",
      "\n",
      "\n",
      "['U Launcher Lite – FREE Live Cool Themes, Hide Apps', 'ART_AND_DESIGN', '4.7', '87510', '8.7M', '5,000,000+', 'Free', '0', 'Everyone', 'Art & Design', 'August 1, 2018', '1.2.4', '4.0.3 and up']\n",
      "\n",
      "\n",
      "['Sketch - Draw & Paint', 'ART_AND_DESIGN', '4.5', '215644', '25M', '50,000,000+', 'Free', '0', 'Teen', 'Art & Design', 'June 8, 2018', 'Varies with device', '4.2 and up']\n",
      "\n",
      "\n",
      "Number of rows: 10842\n",
      "Number of columns: 13\n"
     ]
    }
   ],
   "source": [
    "explore_data(google, 0, 5, True)"
   ]
  },
  {
   "cell_type": "code",
   "execution_count": 82,
   "metadata": {},
   "outputs": [
    {
     "data": {
      "text/plain": [
       "['App',\n",
       " 'Category',\n",
       " 'Rating',\n",
       " 'Reviews',\n",
       " 'Size',\n",
       " 'Installs',\n",
       " 'Type',\n",
       " 'Price',\n",
       " 'Content Rating',\n",
       " 'Genres',\n",
       " 'Last Updated',\n",
       " 'Current Ver',\n",
       " 'Android Ver']"
      ]
     },
     "execution_count": 82,
     "metadata": {},
     "output_type": "execute_result"
    }
   ],
   "source": [
    "# Google Store Columns\n",
    "google[0]"
   ]
  },
  {
   "cell_type": "markdown",
   "metadata": {},
   "source": [
    "# Determining the Relevant Information from the Data\n",
    "#### There are 7198 rows (including the header) and 16 columns in the Apple App Store Data. Since we're interested in determining the most popular genres within the free apps, we focused on the following columns: \n",
    "* #### \"track_name\" (App Name)\n",
    "* #### \"price\"\n",
    "* #### \"ratingcounttot\" (User Rating counts (for all version))\n",
    "* #### \"prime_genre\": (Primary Genre)\n",
    "#### The Google Play Store Data contained 10842 rows (including the header) and 13 columns. We focused on the following columns: \n",
    "* #### \"App\": App Name\n",
    "* #### \"Category\"\n",
    "* #### \"Reviews\"\n",
    "* #### \"Installs\"\n",
    "* #### \"Price\" \n",
    "* #### \"Genres\"\n",
    "\n",
    "    "
   ]
  },
  {
   "cell_type": "markdown",
   "metadata": {},
   "source": [
    "# Handling Inaccuracies, Duplicates, Removing Non-English and Not-Free Apps. \n",
    "#### There is a wrong rating for Google Play data set for entry 10472 causing the columns to shift according to a discussion on Kaggle: https://www.kaggle.com/lava18/google-play-store-apps/discussion/66015. The column is shifted due to missing Category field, so we deleted it.  \n",
    "#### There were also 1181 duplicate apps in the Google Play Store. Since we were interested in the number of current reviews, we kept the ones with the highest ratings (since they were the most current versions), and dropped the rest. \n",
    "\n",
    "#### The App Store data did not contain inaccuracies or duplicates that impacted our data. \n",
    "#### Both data sets contained non-English and not-free apps, so we removed those and created clean datasets. "
   ]
  },
  {
   "cell_type": "code",
   "execution_count": 83,
   "metadata": {
    "scrolled": true
   },
   "outputs": [
    {
     "name": "stdout",
     "output_type": "stream",
     "text": [
      "['Life Made WI-Fi Touchscreen Photo Frame', '1.9', '19', '3.0M', '1,000+', 'Free', '0', 'Everyone', '', 'February 11, 2018', '1.0.19', '4.0 and up']\n",
      "\n",
      "\n",
      "Number of rows: 10842\n",
      "Number of columns: 13\n"
     ]
    }
   ],
   "source": [
    "# Find row with wrong data\n",
    "explore_data(google, 10473, 10474, True)"
   ]
  },
  {
   "cell_type": "code",
   "execution_count": 84,
   "metadata": {},
   "outputs": [],
   "source": [
    "del google[10473]"
   ]
  },
  {
   "cell_type": "code",
   "execution_count": 85,
   "metadata": {},
   "outputs": [
    {
     "name": "stdout",
     "output_type": "stream",
     "text": [
      "Number of duplicate apps in Google Play: 1181\n",
      "Number of unique apps: Google Play 9659\n",
      "Example of duplicate apps in Google Play: ['Quick PDF Scanner + OCR FREE', 'Box']\n"
     ]
    }
   ],
   "source": [
    "# Count the number of duplicates vs. unique apps. \n",
    "# Print an example of one of the duplicates\n",
    "duplicate_apps = []\n",
    "unique_apps = []\n",
    "for app in google[1:]: \n",
    "    name = app[0]\n",
    "    if name in unique_apps:\n",
    "        duplicate_apps.append(name)\n",
    "    else: \n",
    "        unique_apps.append(name)\n",
    "print('Number of duplicate apps in Google Play:', len(duplicate_apps))\n",
    "print('Number of unique apps: Google Play', len(unique_apps))\n",
    "print('Example of duplicate apps in Google Play:', duplicate_apps[0:2])"
   ]
  },
  {
   "cell_type": "code",
   "execution_count": 86,
   "metadata": {},
   "outputs": [
    {
     "name": "stdout",
     "output_type": "stream",
     "text": [
      "['Quick PDF Scanner + OCR FREE', 'BUSINESS', '4.2', '80805', 'Varies with device', '5,000,000+', 'Free', '0', 'Everyone', 'Business', 'February 26, 2018', 'Varies with device', '4.0.3 and up']\n",
      "['Quick PDF Scanner + OCR FREE', 'BUSINESS', '4.2', '80805', 'Varies with device', '5,000,000+', 'Free', '0', 'Everyone', 'Business', 'February 26, 2018', 'Varies with device', '4.0.3 and up']\n",
      "['Quick PDF Scanner + OCR FREE', 'BUSINESS', '4.2', '80804', 'Varies with device', '5,000,000+', 'Free', '0', 'Everyone', 'Business', 'February 26, 2018', 'Varies with device', '4.0.3 and up']\n"
     ]
    }
   ],
   "source": [
    "# 'Quick PDF Scanner + OCR FREE' is a duplicate app. The 4th entry is the number of reviews. \n",
    "for app in google[1:]:\n",
    "    name = app[0]\n",
    "    if name == 'Quick PDF Scanner + OCR FREE':\n",
    "        print(app)"
   ]
  },
  {
   "cell_type": "code",
   "execution_count": 87,
   "metadata": {},
   "outputs": [
    {
     "data": {
      "text/plain": [
       "9659"
      ]
     },
     "execution_count": 87,
     "metadata": {},
     "output_type": "execute_result"
    }
   ],
   "source": [
    "# Find initial length and determine the expected lenght after removing duplicates\n",
    "len(google[1:]) -1181"
   ]
  },
  {
   "cell_type": "code",
   "execution_count": 88,
   "metadata": {},
   "outputs": [
    {
     "name": "stdout",
     "output_type": "stream",
     "text": [
      "The number of entries: 9659 matches what was expected.\n"
     ]
    }
   ],
   "source": [
    "# Create a dictionary where key = unique app, value = highest review\n",
    "# Make sure the number of entries matches what was expected (9659)\n",
    "reviews_max_goog = {}\n",
    "for row in google[1:]:\n",
    "    name = row[0]\n",
    "    n_reviews = int(row[3])\n",
    "    if name in reviews_max_goog and reviews_max_goog[name] < n_reviews: \n",
    "        reviews_max_goog[name] += n_reviews\n",
    "    elif name not in reviews_max_goog:\n",
    "        reviews_max_goog[name] = n_reviews\n",
    "print('The number of entries:', len(reviews_max_goog),'matches what was expected.')"
   ]
  },
  {
   "cell_type": "code",
   "execution_count": 89,
   "metadata": {},
   "outputs": [],
   "source": [
    "# Revove duplicates\n",
    "google_clean = []\n",
    "already_added = []\n",
    "for row in google[1:]:\n",
    "    name = row[0]\n",
    "    n_reviews = float(row[3])\n",
    "    if n_reviews == (reviews_max_goog[name]) and (name not in already_added):\n",
    "        google_clean.append(row)\n",
    "    else: \n",
    "        already_added.append(row)   "
   ]
  },
  {
   "cell_type": "code",
   "execution_count": 90,
   "metadata": {},
   "outputs": [
    {
     "name": "stdout",
     "output_type": "stream",
     "text": [
      "Number of rows of cleanded data: 9667\n"
     ]
    }
   ],
   "source": [
    "print('Number of rows of cleanded data:', len(google_clean))"
   ]
  },
  {
   "cell_type": "code",
   "execution_count": 91,
   "metadata": {},
   "outputs": [
    {
     "name": "stdout",
     "output_type": "stream",
     "text": [
      "Number of rows of duplicates for checking purposes: 1173\n"
     ]
    }
   ],
   "source": [
    "print('Number of rows of duplicates for checking purposes:', len(already_added))"
   ]
  },
  {
   "cell_type": "code",
   "execution_count": 92,
   "metadata": {},
   "outputs": [
    {
     "name": "stdout",
     "output_type": "stream",
     "text": [
      "True\n",
      "False\n",
      "True\n",
      "True\n"
     ]
    }
   ],
   "source": [
    "# Function for removing more than 3 non-english characters in the name of the app. \n",
    "# Takes a string as an argument and returns 'True' if english or 'False' if not.\n",
    "def is_english(string):\n",
    "    count = 0\n",
    "    for char in string:        \n",
    "        if ord(char) > 127:\n",
    "            count += 1\n",
    "            if count > 4: \n",
    "                return False           \n",
    "    else: \n",
    "        return True\n",
    "# Test with the following strings\n",
    "print(is_english('Instagram'))\n",
    "print(is_english('爱奇艺PPS -《欢乐颂2》电视剧热播'))\n",
    "print(is_english('Docs To Go™ Free Office Suite'))\n",
    "print(is_english('Instachat 😜'))"
   ]
  },
  {
   "cell_type": "code",
   "execution_count": 93,
   "metadata": {},
   "outputs": [
    {
     "name": "stdout",
     "output_type": "stream",
     "text": [
      "Number of Apple apps before removing non-English apps: 7197\n",
      "Number of Apple apps after removing non-English apps: 6240\n",
      "Number of Apple apps removed: 957\n",
      "Number of Google apps before removing non-English apps: 9666\n",
      "Number of Google apps after removing non-English apps: 9627\n",
      "Number of Google apps removed: 39\n"
     ]
    }
   ],
   "source": [
    "# Use function 'is_english' on both data sets If app passes as English, append to a list.\n",
    "# Determine the number of rows remaining in each data set. \n",
    "apple_english = []\n",
    "for row in apple[1:]:\n",
    "    name = row[1]\n",
    "    if is_english(name) == True:\n",
    "        apple_english.append(name)\n",
    "        \n",
    "google_english = []\n",
    "for row in google_clean:\n",
    "    name = row[0]\n",
    "    if is_english(name) == True:\n",
    "        google_english.append(name)  \n",
    "        \n",
    "print('Number of Apple apps before removing non-English apps:', len(apple[1:]))\n",
    "print('Number of Apple apps after removing non-English apps:', len(apple_english))\n",
    "print('Number of Apple apps removed:', len(apple[1:])-len(apple_english))\n",
    "\n",
    "print('Number of Google apps before removing non-English apps:', len(google_clean[1:]))\n",
    "print('Number of Google apps after removing non-English apps:', len(google_english))\n",
    "print('Number of Google apps removed:', len(google_clean[1:])-len(google_english))"
   ]
  },
  {
   "cell_type": "code",
   "execution_count": 94,
   "metadata": {},
   "outputs": [
    {
     "name": "stdout",
     "output_type": "stream",
     "text": [
      "Number of Apple apps remaining that are free: 3263\n",
      "Number of Google apps remaining that are free: 9026\n"
     ]
    }
   ],
   "source": [
    "#Isolate the free apps by retaining them in a list\n",
    "free_apple = []\n",
    "for row in apple[1:]:\n",
    "    price = float(row[4])\n",
    "    app = row[1]\n",
    "    if app in apple_english and price == 0:\n",
    "        free_apple.append(row)  \n",
    "        \n",
    "free_google = []\n",
    "for row in google[1:]:\n",
    "    price = row[6]\n",
    "    app = row[0]\n",
    "    if app in google_english and price == 'Free':\n",
    "        free_google.append(row) \n",
    "        \n",
    "print('Number of Apple apps remaining that are free:', len(free_apple))\n",
    "print('Number of Google apps remaining that are free:', len(free_google))"
   ]
  },
  {
   "cell_type": "markdown",
   "metadata": {},
   "source": [
    "# Finding the Most Common Genres for Each Market\n",
    "#### Our analysis found that 57.73% of the App Store apps fall under the 'Games' genre. 'Entertainment' was a far second at around 7.97%.  From the volume of gaming apps, it appears that Apple is catering to that market. \n",
    "#### Google apps were geared toward, practicality, family and education. We used both the 'Category' and the 'Genres' fields for our analysis. We found their apps more evenly distributed with no particular category or genre standing out.  8.45% of the Google Play apps fall under the 'FAMILY' category. 'GAME' was half that at 9.00%. 8.36% fall under the 'Tools' genre. 'Entertainment' was 6.13%.    "
   ]
  },
  {
   "cell_type": "code",
   "execution_count": 95,
   "metadata": {},
   "outputs": [
    {
     "name": "stdout",
     "output_type": "stream",
     "text": [
      "Games : 0.5773827765859638\n",
      "Entertainment : 0.0796812749003984\n",
      "Photo & Video : 0.04934109714986209\n",
      "Education : 0.03616304014710389\n",
      "Social Networking : 0.03279190928593319\n",
      "Shopping : 0.026662580447441006\n",
      "Utilities : 0.02513024823781796\n",
      "Sports : 0.021146184492798037\n",
      "Music : 0.02022678516702421\n",
      "Health & Fitness : 0.0199203187250996\n",
      "Productivity : 0.017775053631627336\n",
      "Lifestyle : 0.01624272142200429\n",
      "News : 0.013178057002758198\n",
      "Travel : 0.012871590560833588\n",
      "Finance : 0.01256512411890898\n",
      "Weather : 0.008887526815813668\n",
      "Food & Drink : 0.008887526815813668\n",
      "Reference : 0.0055163959546429666\n",
      "Business : 0.0055163959546429666\n",
      "Book : 0.004596996628869139\n",
      "Navigation : 0.002451731535396874\n",
      "Medical : 0.0018387986515476554\n",
      "Catalogs : 0.001225865767698437\n"
     ]
    }
   ],
   "source": [
    "# The frequency table function takes two inputs: dataset and index, for any column\n",
    "# the display table function prettifies the frequence table to show the percentages per genre\n",
    "\n",
    "def freq_table(dataset, index):\n",
    "    app_freq = {}\n",
    "    for row in dataset:\n",
    "        genre = row[index]\n",
    "        if genre in app_freq: \n",
    "            app_freq[genre] += 1\n",
    "        else:\n",
    "            app_freq[genre] = 1\n",
    "    total_number_of_apps = len(dataset)\n",
    "    total_number_of_apps_times_100 = .01\n",
    "    \n",
    "    for value in app_freq: #convert frequency table to percentages\n",
    "        app_freq[value]/=total_number_of_apps #'/=' is the iterable\n",
    "    return (app_freq)\n",
    "    \n",
    "def display_table(dataset, index):\n",
    "    table = freq_table(dataset, index)\n",
    "    table_display = []\n",
    "    for key in table:\n",
    "        key_val_as_tuple = (table[key], key)\n",
    "        table_display.append(key_val_as_tuple)\n",
    "\n",
    "    table_sorted = sorted(table_display, reverse = True)\n",
    "    for entry in table_sorted:\n",
    "        print(entry[1], ':', entry[0])\n",
    "\n",
    "apple_prime_genre = display_table(free_apple, 11)"
   ]
  },
  {
   "cell_type": "code",
   "execution_count": 96,
   "metadata": {
    "scrolled": true
   },
   "outputs": [
    {
     "name": "stdout",
     "output_type": "stream",
     "text": [
      "FAMILY : 0.18446709505871925\n",
      "GAME : 0.09007312209173499\n",
      "TOOLS : 0.08375803235098604\n",
      "BUSINESS : 0.04797252382007534\n",
      "PRODUCTIVITY : 0.04165743407932639\n",
      "LIFESTYLE : 0.03944161311766009\n",
      "MEDICAL : 0.03833370263682694\n",
      "FINANCE : 0.035785508530910705\n",
      "SPORTS : 0.0335696875692444\n",
      "PERSONALIZATION : 0.0335696875692444\n",
      "HEALTH_AND_FITNESS : 0.032018612896078\n",
      "COMMUNICATION : 0.030024374030578328\n",
      "NEWS_AND_MAGAZINES : 0.029692000886328385\n",
      "PHOTOGRAPHY : 0.028805672501661866\n",
      "SOCIAL : 0.0268114336361622\n",
      "SHOPPING : 0.026257478395745625\n",
      "TRAVEL_AND_LOCAL : 0.024041657434079326\n",
      "BOOKS_AND_REFERENCE : 0.020385552847329937\n",
      "DATING : 0.019499224462663417\n",
      "VIDEO_PLAYERS : 0.018058940837580324\n",
      "MAPS_AND_NAVIGATION : 0.014513627298914247\n",
      "EDUCATION : 0.012851761577664525\n",
      "ENTERTAINMENT : 0.011522269000664746\n",
      "FOOD_AND_DRINK : 0.011300686904498116\n",
      "LIBRARIES_AND_DEMO : 0.009084865942831819\n",
      "AUTO_AND_VEHICLES : 0.009084865942831819\n",
      "HOUSE_AND_HOME : 0.008309328606248615\n",
      "WEATHER : 0.007976955461998671\n",
      "EVENTS : 0.0069798360292488365\n",
      "PARENTING : 0.006425880788832263\n",
      "ART_AND_DESIGN : 0.006204298692665633\n",
      "BEAUTY : 0.005871925548415688\n",
      "COMICS : 0.005650343452249058\n"
     ]
    }
   ],
   "source": [
    "google_Catagories = display_table(free_google, 1) # Catagories\n"
   ]
  },
  {
   "cell_type": "code",
   "execution_count": 97,
   "metadata": {},
   "outputs": [
    {
     "name": "stdout",
     "output_type": "stream",
     "text": [
      "Tools : 0.08364724130290273\n",
      "Entertainment : 0.06137824063815644\n",
      "Education : 0.053844449368491025\n",
      "Business : 0.04797252382007534\n",
      "Productivity : 0.04165743407932639\n",
      "Lifestyle : 0.039330822069576776\n",
      "Medical : 0.03833370263682694\n",
      "Finance : 0.035785508530910705\n",
      "Sports : 0.03390206071349435\n",
      "Personalization : 0.0335696875692444\n",
      "Health & Fitness : 0.032018612896078\n",
      "Communication : 0.030024374030578328\n",
      "News & Magazines : 0.029692000886328385\n",
      "Action : 0.029248836693995126\n",
      "Photography : 0.028805672501661866\n",
      "Social : 0.0268114336361622\n",
      "Shopping : 0.026257478395745625\n",
      "Travel & Local : 0.02393086638599601\n",
      "Simulation : 0.020385552847329937\n",
      "Books & Reference : 0.020385552847329937\n",
      "Dating : 0.019499224462663417\n",
      "Video Players & Editors : 0.01794814978949701\n",
      "Arcade : 0.017172612452913804\n",
      "Casual : 0.016397075116330602\n",
      "Maps & Navigation : 0.014513627298914247\n",
      "Food & Drink : 0.011300686904498116\n",
      "Puzzle : 0.010192776423664968\n",
      "Racing : 0.009195656990915135\n",
      "Libraries & Demo : 0.009084865942831819\n",
      "Auto & Vehicles : 0.009084865942831819\n",
      "Role Playing : 0.008863283846665189\n",
      "Strategy : 0.008530910702415245\n",
      "House & Home : 0.008309328606248615\n",
      "Weather : 0.007976955461998671\n",
      "Events : 0.0069798360292488365\n",
      "Adventure : 0.006869044981165522\n",
      "Beauty : 0.005871925548415688\n",
      "Art & Design : 0.005761134500332373\n",
      "Comics : 0.005539552404165743\n",
      "Parenting : 0.004874806115665854\n",
      "Card : 0.004542432971415909\n",
      "Educational;Education : 0.0042100598271659646\n",
      "Casino : 0.0042100598271659646\n",
      "Trivia : 0.0040992687790826505\n",
      "Educational : 0.0036561045867493907\n",
      "Education;Education : 0.0035453135386660757\n",
      "Board : 0.0035453135386660757\n",
      "Word : 0.002326612009749612\n",
      "Casual;Pretend Play : 0.002326612009749612\n",
      "Music : 0.0018834478174163528\n",
      "Puzzle;Brain Games : 0.0017726567693330379\n",
      "Racing;Action & Adventure : 0.0014402836250830932\n",
      "Casual;Brain Games : 0.0014402836250830932\n",
      "Arcade;Action & Adventure : 0.0013294925769997785\n",
      "Casual;Action & Adventure : 0.0012187015289164636\n",
      "Entertainment;Music & Video : 0.0011079104808331486\n",
      "Educational;Pretend Play : 0.0009971194327498339\n",
      "Education;Pretend Play : 0.0008863283846665189\n",
      "Parenting;Education : 0.0007755373365832041\n",
      "Board;Brain Games : 0.0007755373365832041\n",
      "Action;Action & Adventure : 0.0007755373365832041\n",
      "Simulation;Action & Adventure : 0.0006647462884998893\n",
      "Parenting;Music & Video : 0.0006647462884998893\n",
      "Entertainment;Brain Games : 0.0006647462884998893\n",
      "Educational;Brain Games : 0.0006647462884998893\n",
      "Role Playing;Pretend Play : 0.0005539552404165743\n",
      "Casual;Creativity : 0.0005539552404165743\n",
      "Art & Design;Creativity : 0.0005539552404165743\n",
      "Educational;Action & Adventure : 0.00044316419233325947\n",
      "Video Players & Editors;Music & Video : 0.00033237314424994463\n",
      "Role Playing;Action & Adventure : 0.00033237314424994463\n",
      "Entertainment;Creativity : 0.00033237314424994463\n",
      "Entertainment;Action & Adventure : 0.00033237314424994463\n",
      "Educational;Creativity : 0.00033237314424994463\n",
      "Education;Music & Video : 0.00033237314424994463\n",
      "Education;Creativity : 0.00033237314424994463\n",
      "Sports;Action & Adventure : 0.00022158209616662973\n",
      "Puzzle;Creativity : 0.00022158209616662973\n",
      "Puzzle;Action & Adventure : 0.00022158209616662973\n",
      "Music;Music & Video : 0.00022158209616662973\n",
      "Entertainment;Pretend Play : 0.00022158209616662973\n",
      "Education;Brain Games : 0.00022158209616662973\n",
      "Education;Action & Adventure : 0.00022158209616662973\n",
      "Casual;Music & Video : 0.00022158209616662973\n",
      "Casual;Education : 0.00022158209616662973\n",
      "Board;Action & Adventure : 0.00022158209616662973\n",
      "Adventure;Action & Adventure : 0.00022158209616662973\n",
      "Trivia;Education : 0.00011079104808331487\n",
      "Travel & Local;Action & Adventure : 0.00011079104808331487\n",
      "Tools;Education : 0.00011079104808331487\n",
      "Strategy;Education : 0.00011079104808331487\n",
      "Strategy;Creativity : 0.00011079104808331487\n",
      "Strategy;Action & Adventure : 0.00011079104808331487\n",
      "Simulation;Pretend Play : 0.00011079104808331487\n",
      "Simulation;Education : 0.00011079104808331487\n",
      "Role Playing;Brain Games : 0.00011079104808331487\n",
      "Racing;Pretend Play : 0.00011079104808331487\n",
      "Puzzle;Education : 0.00011079104808331487\n",
      "Parenting;Brain Games : 0.00011079104808331487\n",
      "Music & Audio;Music & Video : 0.00011079104808331487\n",
      "Lifestyle;Pretend Play : 0.00011079104808331487\n",
      "Lifestyle;Education : 0.00011079104808331487\n",
      "Health & Fitness;Education : 0.00011079104808331487\n",
      "Health & Fitness;Action & Adventure : 0.00011079104808331487\n",
      "Entertainment;Education : 0.00011079104808331487\n",
      "Communication;Creativity : 0.00011079104808331487\n",
      "Comics;Creativity : 0.00011079104808331487\n",
      "Card;Brain Games : 0.00011079104808331487\n",
      "Card;Action & Adventure : 0.00011079104808331487\n",
      "Books & Reference;Education : 0.00011079104808331487\n",
      "Arcade;Pretend Play : 0.00011079104808331487\n"
     ]
    }
   ],
   "source": [
    "google_Genres = display_table(free_google, 9) # Genres"
   ]
  },
  {
   "cell_type": "markdown",
   "metadata": {},
   "source": [
    "# Finding the Most Popular Genres with Users\n",
    "#### In the previous steps, we determined the percentage of apps that existed within each genre for both the App Store and Google Play Store. Then we drilled down to the user ratings and reviews to determine customer preferences. \n",
    "#### We found that for the App Store Social Networking apps had the highest user ratings, followed by 'Photo & Video', 'Games', and Music. \n",
    "#### By contrast, the Google Play Store's 'Art and Design' genre was the most popular followed by 'Auto and Vehicles, 'Beauty', Books and Business."
   ]
  },
  {
   "cell_type": "code",
   "execution_count": 98,
   "metadata": {},
   "outputs": [
    {
     "name": "stdout",
     "output_type": "stream",
     "text": [
      "dict_keys(['Social Networking', 'Photo & Video', 'Games', 'Music', 'Reference', 'Health & Fitness', 'Weather', 'Utilities', 'Travel', 'Shopping', 'News', 'Navigation', 'Lifestyle', 'Entertainment', 'Food & Drink', 'Sports', 'Book', 'Finance', 'Education', 'Productivity', 'Business', 'Catalogs', 'Medical'])\n"
     ]
    }
   ],
   "source": [
    "# Generate a tuple of unique genres for the prime_genre column using the freq_table function\n",
    "apple_freq_table = freq_table(free_apple, 11)\n",
    "unique_apps = dict.keys(apple_freq_table)\n",
    "print(unique_apps)"
   ]
  },
  {
   "cell_type": "code",
   "execution_count": 99,
   "metadata": {},
   "outputs": [
    {
     "data": {
      "text/plain": [
       "{'Social Networking': 70884.73831775702,\n",
       " 'Photo & Video': 28264.888198757762,\n",
       " 'Games': 22667.712845010617,\n",
       " 'Music': 57326.530303030304,\n",
       " 'Reference': 74942.11111111111,\n",
       " 'Health & Fitness': 23298.015384615384,\n",
       " 'Weather': 50477.137931034486,\n",
       " 'Utilities': 18460.353658536584,\n",
       " 'Travel': 26925.166666666668,\n",
       " 'Shopping': 25996.32183908046,\n",
       " 'News': 21248.023255813954,\n",
       " 'Navigation': 64667.375,\n",
       " 'Lifestyle': 15863.77358490566,\n",
       " 'Entertainment': 13727.292307692307,\n",
       " 'Food & Drink': 29885.758620689656,\n",
       " 'Sports': 23008.898550724636,\n",
       " 'Book': 37217.73333333333,\n",
       " 'Finance': 27638.243902439026,\n",
       " 'Education': 7003.983050847458,\n",
       " 'Productivity': 20360.241379310344,\n",
       " 'Business': 7075.333333333333,\n",
       " 'Catalogs': 4004.0,\n",
       " 'Medical': 612.0}"
      ]
     },
     "execution_count": 99,
     "metadata": {},
     "output_type": "execute_result"
    }
   ],
   "source": [
    "# Loop over the unique genres and compute the average number of user ratings\n",
    "ave_ratings_per_apple_app = {} \n",
    "for genre in unique_apps: \n",
    "    total = 0\n",
    "    len_genre = 0\n",
    "    for row in free_apple:\n",
    "        genre_app = row[11]\n",
    "        if genre_app == genre:\n",
    "            rating = float(row[5])\n",
    "            total += rating\n",
    "            len_genre += 1\n",
    "    ave_rating = total/len_genre\n",
    "    ave_ratings_per_apple_app[genre] = ave_rating\n",
    "\n",
    "ave_ratings_per_apple_app            "
   ]
  },
  {
   "cell_type": "code",
   "execution_count": 100,
   "metadata": {
    "scrolled": true
   },
   "outputs": [
    {
     "name": "stdout",
     "output_type": "stream",
     "text": [
      "dict_keys(['ART_AND_DESIGN', 'AUTO_AND_VEHICLES', 'BEAUTY', 'BOOKS_AND_REFERENCE', 'BUSINESS', 'COMICS', 'COMMUNICATION', 'DATING', 'EDUCATION', 'ENTERTAINMENT', 'EVENTS', 'FINANCE', 'FOOD_AND_DRINK', 'HEALTH_AND_FITNESS', 'HOUSE_AND_HOME', 'LIBRARIES_AND_DEMO', 'LIFESTYLE', 'GAME', 'FAMILY', 'MEDICAL', 'SOCIAL', 'SHOPPING', 'PHOTOGRAPHY', 'SPORTS', 'TRAVEL_AND_LOCAL', 'TOOLS', 'PERSONALIZATION', 'PRODUCTIVITY', 'PARENTING', 'WEATHER', 'VIDEO_PLAYERS', 'NEWS_AND_MAGAZINES', 'MAPS_AND_NAVIGATION'])\n"
     ]
    }
   ],
   "source": [
    "# Repeat steps above for the Google Play Store\n",
    "google_freq_table = freq_table(free_google, 1)\n",
    "unique_g_apps = dict.keys(google_freq_table)\n",
    "print(unique_g_apps)"
   ]
  },
  {
   "cell_type": "code",
   "execution_count": 101,
   "metadata": {},
   "outputs": [
    {
     "data": {
      "text/plain": [
       "{'ART_AND_DESIGN': 1843233.9285714286,\n",
       " 'AUTO_AND_VEHICLES': 647317.8170731707,\n",
       " 'BEAUTY': 513151.88679245283,\n",
       " 'BOOKS_AND_REFERENCE': 7719534.021739131,\n",
       " 'BUSINESS': 2005663.0254041571,\n",
       " 'COMICS': 664042.1568627451,\n",
       " 'COMMUNICATION': 36977513.65682657,\n",
       " 'DATING': 590849.1875,\n",
       " 'EDUCATION': 1959913.7931034483,\n",
       " 'ENTERTAINMENT': 11244807.692307692,\n",
       " 'EVENTS': 253542.22222222222,\n",
       " 'FINANCE': 846635.0835913313,\n",
       " 'FOOD_AND_DRINK': 1829791.6764705882,\n",
       " 'HEALTH_AND_FITNESS': 3839094.8166089966,\n",
       " 'HOUSE_AND_HOME': 1502699.48,\n",
       " 'LIBRARIES_AND_DEMO': 524339.1463414634,\n",
       " 'LIFESTYLE': 1430658.5084269664,\n",
       " 'GAME': 9651745.940959409,\n",
       " 'FAMILY': 2904742.756756757,\n",
       " 'MEDICAL': 144183.2485549133,\n",
       " 'SOCIAL': 29453974.801652893,\n",
       " 'SHOPPING': 8881175.464135021,\n",
       " 'PHOTOGRAPHY': 13304880.057692308,\n",
       " 'SPORTS': 3583269.580858086,\n",
       " 'TRAVEL_AND_LOCAL': 4731355.235023041,\n",
       " 'TOOLS': 14695824.701058201,\n",
       " 'PERSONALIZATION': 7492527.683168317,\n",
       " 'PRODUCTIVITY': 20597418.38829787,\n",
       " 'PARENTING': 542603.6206896552,\n",
       " 'WEATHER': 5767896.111111111,\n",
       " 'VIDEO_PLAYERS': 27710010.55214724,\n",
       " 'NEWS_AND_MAGAZINES': 7437672.611940298,\n",
       " 'MAPS_AND_NAVIGATION': 5527944.885496183}"
      ]
     },
     "execution_count": 101,
     "metadata": {},
     "output_type": "execute_result"
    }
   ],
   "source": [
    "# Repeat steps above for the Google Play Store\n",
    "# Clean the'Installs' field because it's in string format with \"+\" and \",\"\n",
    "ave_installs_per_google_app = {}\n",
    "for key in unique_g_apps:\n",
    "    category = key\n",
    "    total = 0\n",
    "    len_category = 0\n",
    "    for row in free_google:\n",
    "        category_app = row[1]\n",
    "        if category_app == category:\n",
    "            installs = (row[5])\n",
    "            installs = installs.replace('+', '') \n",
    "            installs = installs.replace(',', '')\n",
    "            installs = int(installs)\n",
    "            total += installs\n",
    "            len_category += 1\n",
    "    ave_installs = total/len_category\n",
    "    ave_installs_per_google_app[key] = ave_installs\n",
    "    \n",
    "ave_installs_per_google_app      "
   ]
  },
  {
   "cell_type": "markdown",
   "metadata": {},
   "source": [
    "# Conclusion\n",
    "#### In this project, we analyzed samples of data from the Apple App Store and Google Play Store to develop an apps profile that our developers could use to target certain markets and audiences. We focused on free, English language apps since that was our business criteria. The Apps Store was highly composed of 'fun' applications; particularly gaming, which was over 50% of their content. Their customers seemed to prefer the 'Social Networking', 'Photos & Videos' and 'Gaming' apps that they offered.   \n",
    "#### By contrast, the Google Play Store content was much broader and didn't have a dominating category or genre. Their apps were more focused on practical tools and applications, family, and education. Their customers seemed to prefer practical, and educational apps they offered.\n",
    "#### Based on our findings, we recommend that our developers prioritize general, practical, and/or educational applications for the Google Play Store Market. If these are successful after six months, launch them on the Apple App Store.  If management wants to expand the market, and if resources exist, they should consider re-evaluating the business strategy to launch entertainment and gaming apps directly to the Apple App Store.  "
   ]
  }
 ],
 "metadata": {
  "kernelspec": {
   "display_name": "Python 3",
   "language": "python",
   "name": "python3"
  },
  "language_info": {
   "codemirror_mode": {
    "name": "ipython",
    "version": 3
   },
   "file_extension": ".py",
   "mimetype": "text/x-python",
   "name": "python",
   "nbconvert_exporter": "python",
   "pygments_lexer": "ipython3",
   "version": "3.9.0"
  }
 },
 "nbformat": 4,
 "nbformat_minor": 4
}
