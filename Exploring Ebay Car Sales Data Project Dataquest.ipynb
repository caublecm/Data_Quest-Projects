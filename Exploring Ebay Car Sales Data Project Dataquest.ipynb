{
 "cells": [
  {
   "cell_type": "markdown",
   "metadata": {},
   "source": [
    "\n",
    "# Exploring Ebay Car Sales Data"
   ]
  },
  {
   "cell_type": "markdown",
   "metadata": {},
   "source": [
    "\n",
    "## The EBay Kleinanzeigen (Translation: \"Classifieds\")\n",
    "\n",
    "Most people have heard eBay https://www.ebay.com/; the online e-commerce behemoth where users buy and sell goods and services 'auction style.'  According to Wikipedia https://en.wikipedia.org/wiki/EBay, eBay is a \"multibillion-dollar business with operations in about 32 countries, as of 2019.\" Germany is is one of those countries. eBay Kleinanzeigen is Deutschlands version of ebay classifieds https://www.ebay-kleinanzeigen.de/.\n",
    "\n",
    "### Project Purpose \n",
    "This project is for the completion of the DataQuest.io https://www.dataquest.io/ \"Pandas and NumPy Fundamentals\" module; the third in a series for completing the Data Science course path. New found knowledge will be used to better understand the data and answer several questions. The following topics were introduced in this module: \n",
    "\n",
    "- Using Pandas to do the following:\n",
    "    - Explore data\n",
    "    - Clean column names\n",
    "    - Deal with incorrect values\n",
    "    - Aggregate data\n",
    "\n",
    "\n",
    "### Relationships Between Brands, Models, Conditions and Prices\n",
    "Once the data has been cleaned and wrangled, analysis will be used to understand the relationships between brands, models, conditions and prices. The following questions will be explored:\n",
    "\n",
    "- What outliers exist for the registration year and is it acceptable to remove them?\n",
    "- Is there a relationship between mileage and price; if so, what is it?\n",
    "- What are the top 6 brands by count and what are the average price and mileage for each?\n",
    "- What are the most common brand/model combinations? \n",
    "- How much cheaper are cars with damage than their undamaged counter parts?\n",
    "\n",
    "### Summary of the Results \n",
    "97% of the rows remained after cleaning the data. The 3% that were justifiably removed consisted of outliers and unrealistic dates in the registration year. The vast majority of cars on the market were heavily used and inexpensive. As expected,the data showed a strong, negative, linear correlation between odometer and price. The Mercedes and BMW were both pretty similar in price and mileage(as were the Ford and Opel, with the Volkswagen was in the middle). The Volkswagen 'Golf' was the most commonly found brand/model followed by Peugeot 'Andere', and the BMW '3er'. Finally, almost 12% of cars had some sort of damage, resulting in an average decrease in value of 49.03% across all models.\n",
    "\n",
    "Please refer to the full analysis below for details. "
   ]
  },
  {
   "cell_type": "markdown",
   "metadata": {},
   "source": [
    "## Data Source and Definitions\n",
    "Source: The dataset originated from eBay Kleinanzeigen, a classifieds section of the German eBay website. It was then scraped and uploaded to Kaggle by user orgesleka (link to which is no longer available). However, it can find it here: https://data.world/data-society/used-cars-data.  \n",
    "\n",
    "Dataquest.io made a few modifications to the dataset for educational purposes, and sampled 50,000 data points from the original for smoother, faster processing in their host environment. They also 'dirtied' the dataset a bit more to resemble what one would expect from a scraped dataset (the version uploaded to Kaggle was cleaned to be easier to work with). Descriptions of the columns are as follows: \n",
    "\n",
    "\n",
    "|Column Name|Explanation|\n",
    "| :-------: | :---: |\n",
    "|dateCrawled|When this ad was first crawled. All field-values are taken from this date.|\n",
    "|name                 |Name of the car.|\n",
    "|seller               |Whether the seller is private or a dealer.|\n",
    "|offerType            |The type of listing|\n",
    "|price                |The price on the ad to sell the car in US dollars.|\n",
    "|abtest               |Whether the listing is included in an A/B test.|\n",
    "|vehicleType          |The vehicle Type.|\n",
    "|yearOfRegistration   |The year in which the car was first registered.|\n",
    "|gearbox              |The transmission type.|\n",
    "|powerPS              |The power of the car in PS.|\n",
    "|model                |The car model name.|\n",
    "|odometer             |How many kilometers the car has driven.|\n",
    "|monthOfRegistration  |The month in which the car was first registered.|\n",
    "|fuelType             |What type of fuel the car uses.|\n",
    "|brand                |The brand of the car.|\n",
    "|notRepairedDamage    |If the car has a damage which is not yet repaired.|\n",
    "|dateCreated          |The date on which the eBay listing was created.|\n",
    "|nrOfPictures         |The number of pictures in the ad.| \n",
    "|postalCode           |The postal code for the location of the vehicle.|\n",
    "|lastSeen             |When the crawler saw this ad last online.|\n",
    "\n"
   ]
  },
  {
   "cell_type": "markdown",
   "metadata": {},
   "source": [
    "## Getting Familiar with the Data"
   ]
  },
  {
   "cell_type": "code",
   "execution_count": 688,
   "metadata": {},
   "outputs": [],
   "source": [
    "# Import python libraries and read in the file\n",
    "import numpy as np\n",
    "import pandas as pd\n",
    "import datetime as dt\n",
    "%matplotlib inline\n",
    "autos = pd.read_csv('autos.csv', encoding = 'Latin-1')"
   ]
  },
  {
   "cell_type": "code",
   "execution_count": 689,
   "metadata": {},
   "outputs": [
    {
     "name": "stdout",
     "output_type": "stream",
     "text": [
      "There are 50000 rows and 20 columns in the inital dataset\n"
     ]
    }
   ],
   "source": [
    "autos.shape\n",
    "print('There are {} rows and {} columns in the inital dataset'.format(autos.shape[0], autos.shape[1]))"
   ]
  },
  {
   "cell_type": "code",
   "execution_count": 690,
   "metadata": {
    "scrolled": true
   },
   "outputs": [
    {
     "data": {
      "text/html": [
       "<div>\n",
       "<style scoped>\n",
       "    .dataframe tbody tr th:only-of-type {\n",
       "        vertical-align: middle;\n",
       "    }\n",
       "\n",
       "    .dataframe tbody tr th {\n",
       "        vertical-align: top;\n",
       "    }\n",
       "\n",
       "    .dataframe thead th {\n",
       "        text-align: right;\n",
       "    }\n",
       "</style>\n",
       "<table border=\"1\" class=\"dataframe\">\n",
       "  <thead>\n",
       "    <tr style=\"text-align: right;\">\n",
       "      <th></th>\n",
       "      <th>dateCrawled</th>\n",
       "      <th>name</th>\n",
       "      <th>seller</th>\n",
       "      <th>offerType</th>\n",
       "      <th>price</th>\n",
       "      <th>abtest</th>\n",
       "      <th>vehicleType</th>\n",
       "      <th>yearOfRegistration</th>\n",
       "      <th>gearbox</th>\n",
       "      <th>powerPS</th>\n",
       "      <th>model</th>\n",
       "      <th>odometer</th>\n",
       "      <th>monthOfRegistration</th>\n",
       "      <th>fuelType</th>\n",
       "      <th>brand</th>\n",
       "      <th>notRepairedDamage</th>\n",
       "      <th>dateCreated</th>\n",
       "      <th>nrOfPictures</th>\n",
       "      <th>postalCode</th>\n",
       "      <th>lastSeen</th>\n",
       "    </tr>\n",
       "  </thead>\n",
       "  <tbody>\n",
       "    <tr>\n",
       "      <th>0</th>\n",
       "      <td>2016-03-26 17:47:46</td>\n",
       "      <td>Peugeot_807_160_NAVTECH_ON_BOARD</td>\n",
       "      <td>privat</td>\n",
       "      <td>Angebot</td>\n",
       "      <td>$5,000</td>\n",
       "      <td>control</td>\n",
       "      <td>bus</td>\n",
       "      <td>2004</td>\n",
       "      <td>manuell</td>\n",
       "      <td>158</td>\n",
       "      <td>andere</td>\n",
       "      <td>150,000km</td>\n",
       "      <td>3</td>\n",
       "      <td>lpg</td>\n",
       "      <td>peugeot</td>\n",
       "      <td>nein</td>\n",
       "      <td>2016-03-26 00:00:00</td>\n",
       "      <td>0</td>\n",
       "      <td>79588</td>\n",
       "      <td>2016-04-06 06:45:54</td>\n",
       "    </tr>\n",
       "    <tr>\n",
       "      <th>1</th>\n",
       "      <td>2016-04-04 13:38:56</td>\n",
       "      <td>BMW_740i_4_4_Liter_HAMANN_UMBAU_Mega_Optik</td>\n",
       "      <td>privat</td>\n",
       "      <td>Angebot</td>\n",
       "      <td>$8,500</td>\n",
       "      <td>control</td>\n",
       "      <td>limousine</td>\n",
       "      <td>1997</td>\n",
       "      <td>automatik</td>\n",
       "      <td>286</td>\n",
       "      <td>7er</td>\n",
       "      <td>150,000km</td>\n",
       "      <td>6</td>\n",
       "      <td>benzin</td>\n",
       "      <td>bmw</td>\n",
       "      <td>nein</td>\n",
       "      <td>2016-04-04 00:00:00</td>\n",
       "      <td>0</td>\n",
       "      <td>71034</td>\n",
       "      <td>2016-04-06 14:45:08</td>\n",
       "    </tr>\n",
       "    <tr>\n",
       "      <th>2</th>\n",
       "      <td>2016-03-26 18:57:24</td>\n",
       "      <td>Volkswagen_Golf_1.6_United</td>\n",
       "      <td>privat</td>\n",
       "      <td>Angebot</td>\n",
       "      <td>$8,990</td>\n",
       "      <td>test</td>\n",
       "      <td>limousine</td>\n",
       "      <td>2009</td>\n",
       "      <td>manuell</td>\n",
       "      <td>102</td>\n",
       "      <td>golf</td>\n",
       "      <td>70,000km</td>\n",
       "      <td>7</td>\n",
       "      <td>benzin</td>\n",
       "      <td>volkswagen</td>\n",
       "      <td>nein</td>\n",
       "      <td>2016-03-26 00:00:00</td>\n",
       "      <td>0</td>\n",
       "      <td>35394</td>\n",
       "      <td>2016-04-06 20:15:37</td>\n",
       "    </tr>\n",
       "    <tr>\n",
       "      <th>3</th>\n",
       "      <td>2016-03-12 16:58:10</td>\n",
       "      <td>Smart_smart_fortwo_coupe_softouch/F1/Klima/Pan...</td>\n",
       "      <td>privat</td>\n",
       "      <td>Angebot</td>\n",
       "      <td>$4,350</td>\n",
       "      <td>control</td>\n",
       "      <td>kleinwagen</td>\n",
       "      <td>2007</td>\n",
       "      <td>automatik</td>\n",
       "      <td>71</td>\n",
       "      <td>fortwo</td>\n",
       "      <td>70,000km</td>\n",
       "      <td>6</td>\n",
       "      <td>benzin</td>\n",
       "      <td>smart</td>\n",
       "      <td>nein</td>\n",
       "      <td>2016-03-12 00:00:00</td>\n",
       "      <td>0</td>\n",
       "      <td>33729</td>\n",
       "      <td>2016-03-15 03:16:28</td>\n",
       "    </tr>\n",
       "    <tr>\n",
       "      <th>4</th>\n",
       "      <td>2016-04-01 14:38:50</td>\n",
       "      <td>Ford_Focus_1_6_Benzin_TÜV_neu_ist_sehr_gepfleg...</td>\n",
       "      <td>privat</td>\n",
       "      <td>Angebot</td>\n",
       "      <td>$1,350</td>\n",
       "      <td>test</td>\n",
       "      <td>kombi</td>\n",
       "      <td>2003</td>\n",
       "      <td>manuell</td>\n",
       "      <td>0</td>\n",
       "      <td>focus</td>\n",
       "      <td>150,000km</td>\n",
       "      <td>7</td>\n",
       "      <td>benzin</td>\n",
       "      <td>ford</td>\n",
       "      <td>nein</td>\n",
       "      <td>2016-04-01 00:00:00</td>\n",
       "      <td>0</td>\n",
       "      <td>39218</td>\n",
       "      <td>2016-04-01 14:38:50</td>\n",
       "    </tr>\n",
       "  </tbody>\n",
       "</table>\n",
       "</div>"
      ],
      "text/plain": [
       "           dateCrawled                                               name  \\\n",
       "0  2016-03-26 17:47:46                   Peugeot_807_160_NAVTECH_ON_BOARD   \n",
       "1  2016-04-04 13:38:56         BMW_740i_4_4_Liter_HAMANN_UMBAU_Mega_Optik   \n",
       "2  2016-03-26 18:57:24                         Volkswagen_Golf_1.6_United   \n",
       "3  2016-03-12 16:58:10  Smart_smart_fortwo_coupe_softouch/F1/Klima/Pan...   \n",
       "4  2016-04-01 14:38:50  Ford_Focus_1_6_Benzin_TÜV_neu_ist_sehr_gepfleg...   \n",
       "\n",
       "   seller offerType   price   abtest vehicleType  yearOfRegistration  \\\n",
       "0  privat   Angebot  $5,000  control         bus                2004   \n",
       "1  privat   Angebot  $8,500  control   limousine                1997   \n",
       "2  privat   Angebot  $8,990     test   limousine                2009   \n",
       "3  privat   Angebot  $4,350  control  kleinwagen                2007   \n",
       "4  privat   Angebot  $1,350     test       kombi                2003   \n",
       "\n",
       "     gearbox  powerPS   model   odometer  monthOfRegistration fuelType  \\\n",
       "0    manuell      158  andere  150,000km                    3      lpg   \n",
       "1  automatik      286     7er  150,000km                    6   benzin   \n",
       "2    manuell      102    golf   70,000km                    7   benzin   \n",
       "3  automatik       71  fortwo   70,000km                    6   benzin   \n",
       "4    manuell        0   focus  150,000km                    7   benzin   \n",
       "\n",
       "        brand notRepairedDamage          dateCreated  nrOfPictures  \\\n",
       "0     peugeot              nein  2016-03-26 00:00:00             0   \n",
       "1         bmw              nein  2016-04-04 00:00:00             0   \n",
       "2  volkswagen              nein  2016-03-26 00:00:00             0   \n",
       "3       smart              nein  2016-03-12 00:00:00             0   \n",
       "4        ford              nein  2016-04-01 00:00:00             0   \n",
       "\n",
       "   postalCode             lastSeen  \n",
       "0       79588  2016-04-06 06:45:54  \n",
       "1       71034  2016-04-06 14:45:08  \n",
       "2       35394  2016-04-06 20:15:37  \n",
       "3       33729  2016-03-15 03:16:28  \n",
       "4       39218  2016-04-01 14:38:50  "
      ]
     },
     "execution_count": 690,
     "metadata": {},
     "output_type": "execute_result"
    }
   ],
   "source": [
    "# Display the first five rows of data in pandas tabular format\n",
    "autos.head()"
   ]
  },
  {
   "cell_type": "code",
   "execution_count": 691,
   "metadata": {},
   "outputs": [
    {
     "data": {
      "text/plain": [
       "dateCrawled               0\n",
       "name                      0\n",
       "seller                    0\n",
       "offerType                 0\n",
       "price                     0\n",
       "abtest                    0\n",
       "vehicleType            5095\n",
       "yearOfRegistration        0\n",
       "gearbox                2680\n",
       "powerPS                   0\n",
       "model                  2758\n",
       "odometer                  0\n",
       "monthOfRegistration       0\n",
       "fuelType               4482\n",
       "brand                     0\n",
       "notRepairedDamage      9829\n",
       "dateCreated               0\n",
       "nrOfPictures              0\n",
       "postalCode                0\n",
       "lastSeen                  0\n",
       "dtype: int64"
      ]
     },
     "execution_count": 691,
     "metadata": {},
     "output_type": "execute_result"
    }
   ],
   "source": [
    "# Observe the null values for the columns\n",
    "autos.isnull().sum()"
   ]
  },
  {
   "cell_type": "code",
   "execution_count": 692,
   "metadata": {
    "scrolled": true
   },
   "outputs": [
    {
     "name": "stdout",
     "output_type": "stream",
     "text": [
      "<class 'pandas.core.frame.DataFrame'>\n",
      "RangeIndex: 50000 entries, 0 to 49999\n",
      "Data columns (total 20 columns):\n",
      " #   Column               Non-Null Count  Dtype \n",
      "---  ------               --------------  ----- \n",
      " 0   dateCrawled          50000 non-null  object\n",
      " 1   name                 50000 non-null  object\n",
      " 2   seller               50000 non-null  object\n",
      " 3   offerType            50000 non-null  object\n",
      " 4   price                50000 non-null  object\n",
      " 5   abtest               50000 non-null  object\n",
      " 6   vehicleType          44905 non-null  object\n",
      " 7   yearOfRegistration   50000 non-null  int64 \n",
      " 8   gearbox              47320 non-null  object\n",
      " 9   powerPS              50000 non-null  int64 \n",
      " 10  model                47242 non-null  object\n",
      " 11  odometer             50000 non-null  object\n",
      " 12  monthOfRegistration  50000 non-null  int64 \n",
      " 13  fuelType             45518 non-null  object\n",
      " 14  brand                50000 non-null  object\n",
      " 15  notRepairedDamage    40171 non-null  object\n",
      " 16  dateCreated          50000 non-null  object\n",
      " 17  nrOfPictures         50000 non-null  int64 \n",
      " 18  postalCode           50000 non-null  int64 \n",
      " 19  lastSeen             50000 non-null  object\n",
      "dtypes: int64(5), object(15)\n",
      "memory usage: 7.6+ MB\n"
     ]
    }
   ],
   "source": [
    "# Observe the data types\n",
    "autos.info()"
   ]
  },
  {
   "cell_type": "markdown",
   "metadata": {},
   "source": [
    "## Cleaning and Wrangling the Data\n",
    "There were 50000 rows and 20 columns in the initial dataset. From those, two columns were dropped due to redundancy. Many columns contained null values. These values were handled as necessary as the analysis progressed. There are outliers in the 'registration_year' column, which are addressed in the next section.  A lot of wrangling was required for format consistency. The following is a list of tasks that were performed:\n",
    "\n",
    "1. 'Seller' and 'Offer Type' have the same values through-out the columns, so they will be dropped. \n",
    "2.  Format all column titles to 'snakecase' for consistency. \n",
    "3. Remove non-numeric characters in price and odometer_km column and change the data type to integers. This will make numeric aggregation possible. \n",
    "4. For this analysis, there's no need to be concerned with time values; just dates. Therefore, remove the time values from 'date_crawled','last_seen','ad_created', and leave the dates.  \n",
    "5. Translate all columns and individual strings from German to English."
   ]
  },
  {
   "cell_type": "code",
   "execution_count": 693,
   "metadata": {
    "scrolled": true
   },
   "outputs": [
    {
     "data": {
      "text/html": [
       "<div>\n",
       "<style scoped>\n",
       "    .dataframe tbody tr th:only-of-type {\n",
       "        vertical-align: middle;\n",
       "    }\n",
       "\n",
       "    .dataframe tbody tr th {\n",
       "        vertical-align: top;\n",
       "    }\n",
       "\n",
       "    .dataframe thead th {\n",
       "        text-align: right;\n",
       "    }\n",
       "</style>\n",
       "<table border=\"1\" class=\"dataframe\">\n",
       "  <thead>\n",
       "    <tr style=\"text-align: right;\">\n",
       "      <th></th>\n",
       "      <th>dateCrawled</th>\n",
       "      <th>name</th>\n",
       "      <th>price</th>\n",
       "      <th>abtest</th>\n",
       "      <th>vehicleType</th>\n",
       "      <th>yearOfRegistration</th>\n",
       "      <th>gearbox</th>\n",
       "      <th>powerPS</th>\n",
       "      <th>model</th>\n",
       "      <th>odometer</th>\n",
       "      <th>monthOfRegistration</th>\n",
       "      <th>fuelType</th>\n",
       "      <th>brand</th>\n",
       "      <th>notRepairedDamage</th>\n",
       "      <th>dateCreated</th>\n",
       "      <th>nrOfPictures</th>\n",
       "      <th>postalCode</th>\n",
       "      <th>lastSeen</th>\n",
       "    </tr>\n",
       "  </thead>\n",
       "  <tbody>\n",
       "    <tr>\n",
       "      <th>0</th>\n",
       "      <td>2016-03-26 17:47:46</td>\n",
       "      <td>Peugeot_807_160_NAVTECH_ON_BOARD</td>\n",
       "      <td>$5,000</td>\n",
       "      <td>control</td>\n",
       "      <td>bus</td>\n",
       "      <td>2004</td>\n",
       "      <td>manuell</td>\n",
       "      <td>158</td>\n",
       "      <td>andere</td>\n",
       "      <td>150,000km</td>\n",
       "      <td>3</td>\n",
       "      <td>lpg</td>\n",
       "      <td>peugeot</td>\n",
       "      <td>nein</td>\n",
       "      <td>2016-03-26 00:00:00</td>\n",
       "      <td>0</td>\n",
       "      <td>79588</td>\n",
       "      <td>2016-04-06 06:45:54</td>\n",
       "    </tr>\n",
       "    <tr>\n",
       "      <th>1</th>\n",
       "      <td>2016-04-04 13:38:56</td>\n",
       "      <td>BMW_740i_4_4_Liter_HAMANN_UMBAU_Mega_Optik</td>\n",
       "      <td>$8,500</td>\n",
       "      <td>control</td>\n",
       "      <td>limousine</td>\n",
       "      <td>1997</td>\n",
       "      <td>automatik</td>\n",
       "      <td>286</td>\n",
       "      <td>7er</td>\n",
       "      <td>150,000km</td>\n",
       "      <td>6</td>\n",
       "      <td>benzin</td>\n",
       "      <td>bmw</td>\n",
       "      <td>nein</td>\n",
       "      <td>2016-04-04 00:00:00</td>\n",
       "      <td>0</td>\n",
       "      <td>71034</td>\n",
       "      <td>2016-04-06 14:45:08</td>\n",
       "    </tr>\n",
       "    <tr>\n",
       "      <th>2</th>\n",
       "      <td>2016-03-26 18:57:24</td>\n",
       "      <td>Volkswagen_Golf_1.6_United</td>\n",
       "      <td>$8,990</td>\n",
       "      <td>test</td>\n",
       "      <td>limousine</td>\n",
       "      <td>2009</td>\n",
       "      <td>manuell</td>\n",
       "      <td>102</td>\n",
       "      <td>golf</td>\n",
       "      <td>70,000km</td>\n",
       "      <td>7</td>\n",
       "      <td>benzin</td>\n",
       "      <td>volkswagen</td>\n",
       "      <td>nein</td>\n",
       "      <td>2016-03-26 00:00:00</td>\n",
       "      <td>0</td>\n",
       "      <td>35394</td>\n",
       "      <td>2016-04-06 20:15:37</td>\n",
       "    </tr>\n",
       "    <tr>\n",
       "      <th>3</th>\n",
       "      <td>2016-03-12 16:58:10</td>\n",
       "      <td>Smart_smart_fortwo_coupe_softouch/F1/Klima/Pan...</td>\n",
       "      <td>$4,350</td>\n",
       "      <td>control</td>\n",
       "      <td>kleinwagen</td>\n",
       "      <td>2007</td>\n",
       "      <td>automatik</td>\n",
       "      <td>71</td>\n",
       "      <td>fortwo</td>\n",
       "      <td>70,000km</td>\n",
       "      <td>6</td>\n",
       "      <td>benzin</td>\n",
       "      <td>smart</td>\n",
       "      <td>nein</td>\n",
       "      <td>2016-03-12 00:00:00</td>\n",
       "      <td>0</td>\n",
       "      <td>33729</td>\n",
       "      <td>2016-03-15 03:16:28</td>\n",
       "    </tr>\n",
       "    <tr>\n",
       "      <th>4</th>\n",
       "      <td>2016-04-01 14:38:50</td>\n",
       "      <td>Ford_Focus_1_6_Benzin_TÜV_neu_ist_sehr_gepfleg...</td>\n",
       "      <td>$1,350</td>\n",
       "      <td>test</td>\n",
       "      <td>kombi</td>\n",
       "      <td>2003</td>\n",
       "      <td>manuell</td>\n",
       "      <td>0</td>\n",
       "      <td>focus</td>\n",
       "      <td>150,000km</td>\n",
       "      <td>7</td>\n",
       "      <td>benzin</td>\n",
       "      <td>ford</td>\n",
       "      <td>nein</td>\n",
       "      <td>2016-04-01 00:00:00</td>\n",
       "      <td>0</td>\n",
       "      <td>39218</td>\n",
       "      <td>2016-04-01 14:38:50</td>\n",
       "    </tr>\n",
       "    <tr>\n",
       "      <th>...</th>\n",
       "      <td>...</td>\n",
       "      <td>...</td>\n",
       "      <td>...</td>\n",
       "      <td>...</td>\n",
       "      <td>...</td>\n",
       "      <td>...</td>\n",
       "      <td>...</td>\n",
       "      <td>...</td>\n",
       "      <td>...</td>\n",
       "      <td>...</td>\n",
       "      <td>...</td>\n",
       "      <td>...</td>\n",
       "      <td>...</td>\n",
       "      <td>...</td>\n",
       "      <td>...</td>\n",
       "      <td>...</td>\n",
       "      <td>...</td>\n",
       "      <td>...</td>\n",
       "    </tr>\n",
       "    <tr>\n",
       "      <th>49995</th>\n",
       "      <td>2016-03-27 14:38:19</td>\n",
       "      <td>Audi_Q5_3.0_TDI_qu._S_tr.__Navi__Panorama__Xenon</td>\n",
       "      <td>$24,900</td>\n",
       "      <td>control</td>\n",
       "      <td>limousine</td>\n",
       "      <td>2011</td>\n",
       "      <td>automatik</td>\n",
       "      <td>239</td>\n",
       "      <td>q5</td>\n",
       "      <td>100,000km</td>\n",
       "      <td>1</td>\n",
       "      <td>diesel</td>\n",
       "      <td>audi</td>\n",
       "      <td>nein</td>\n",
       "      <td>2016-03-27 00:00:00</td>\n",
       "      <td>0</td>\n",
       "      <td>82131</td>\n",
       "      <td>2016-04-01 13:47:40</td>\n",
       "    </tr>\n",
       "    <tr>\n",
       "      <th>49996</th>\n",
       "      <td>2016-03-28 10:50:25</td>\n",
       "      <td>Opel_Astra_F_Cabrio_Bertone_Edition___TÜV_neu+...</td>\n",
       "      <td>$1,980</td>\n",
       "      <td>control</td>\n",
       "      <td>cabrio</td>\n",
       "      <td>1996</td>\n",
       "      <td>manuell</td>\n",
       "      <td>75</td>\n",
       "      <td>astra</td>\n",
       "      <td>150,000km</td>\n",
       "      <td>5</td>\n",
       "      <td>benzin</td>\n",
       "      <td>opel</td>\n",
       "      <td>nein</td>\n",
       "      <td>2016-03-28 00:00:00</td>\n",
       "      <td>0</td>\n",
       "      <td>44807</td>\n",
       "      <td>2016-04-02 14:18:02</td>\n",
       "    </tr>\n",
       "    <tr>\n",
       "      <th>49997</th>\n",
       "      <td>2016-04-02 14:44:48</td>\n",
       "      <td>Fiat_500_C_1.2_Dualogic_Lounge</td>\n",
       "      <td>$13,200</td>\n",
       "      <td>test</td>\n",
       "      <td>cabrio</td>\n",
       "      <td>2014</td>\n",
       "      <td>automatik</td>\n",
       "      <td>69</td>\n",
       "      <td>500</td>\n",
       "      <td>5,000km</td>\n",
       "      <td>11</td>\n",
       "      <td>benzin</td>\n",
       "      <td>fiat</td>\n",
       "      <td>nein</td>\n",
       "      <td>2016-04-02 00:00:00</td>\n",
       "      <td>0</td>\n",
       "      <td>73430</td>\n",
       "      <td>2016-04-04 11:47:27</td>\n",
       "    </tr>\n",
       "    <tr>\n",
       "      <th>49998</th>\n",
       "      <td>2016-03-08 19:25:42</td>\n",
       "      <td>Audi_A3_2.0_TDI_Sportback_Ambition</td>\n",
       "      <td>$22,900</td>\n",
       "      <td>control</td>\n",
       "      <td>kombi</td>\n",
       "      <td>2013</td>\n",
       "      <td>manuell</td>\n",
       "      <td>150</td>\n",
       "      <td>a3</td>\n",
       "      <td>40,000km</td>\n",
       "      <td>11</td>\n",
       "      <td>diesel</td>\n",
       "      <td>audi</td>\n",
       "      <td>nein</td>\n",
       "      <td>2016-03-08 00:00:00</td>\n",
       "      <td>0</td>\n",
       "      <td>35683</td>\n",
       "      <td>2016-04-05 16:45:07</td>\n",
       "    </tr>\n",
       "    <tr>\n",
       "      <th>49999</th>\n",
       "      <td>2016-03-14 00:42:12</td>\n",
       "      <td>Opel_Vectra_1.6_16V</td>\n",
       "      <td>$1,250</td>\n",
       "      <td>control</td>\n",
       "      <td>limousine</td>\n",
       "      <td>1996</td>\n",
       "      <td>manuell</td>\n",
       "      <td>101</td>\n",
       "      <td>vectra</td>\n",
       "      <td>150,000km</td>\n",
       "      <td>1</td>\n",
       "      <td>benzin</td>\n",
       "      <td>opel</td>\n",
       "      <td>nein</td>\n",
       "      <td>2016-03-13 00:00:00</td>\n",
       "      <td>0</td>\n",
       "      <td>45897</td>\n",
       "      <td>2016-04-06 21:18:48</td>\n",
       "    </tr>\n",
       "  </tbody>\n",
       "</table>\n",
       "<p>50000 rows × 18 columns</p>\n",
       "</div>"
      ],
      "text/plain": [
       "               dateCrawled                                               name  \\\n",
       "0      2016-03-26 17:47:46                   Peugeot_807_160_NAVTECH_ON_BOARD   \n",
       "1      2016-04-04 13:38:56         BMW_740i_4_4_Liter_HAMANN_UMBAU_Mega_Optik   \n",
       "2      2016-03-26 18:57:24                         Volkswagen_Golf_1.6_United   \n",
       "3      2016-03-12 16:58:10  Smart_smart_fortwo_coupe_softouch/F1/Klima/Pan...   \n",
       "4      2016-04-01 14:38:50  Ford_Focus_1_6_Benzin_TÜV_neu_ist_sehr_gepfleg...   \n",
       "...                    ...                                                ...   \n",
       "49995  2016-03-27 14:38:19   Audi_Q5_3.0_TDI_qu._S_tr.__Navi__Panorama__Xenon   \n",
       "49996  2016-03-28 10:50:25  Opel_Astra_F_Cabrio_Bertone_Edition___TÜV_neu+...   \n",
       "49997  2016-04-02 14:44:48                     Fiat_500_C_1.2_Dualogic_Lounge   \n",
       "49998  2016-03-08 19:25:42                 Audi_A3_2.0_TDI_Sportback_Ambition   \n",
       "49999  2016-03-14 00:42:12                                Opel_Vectra_1.6_16V   \n",
       "\n",
       "         price   abtest vehicleType  yearOfRegistration    gearbox  powerPS  \\\n",
       "0       $5,000  control         bus                2004    manuell      158   \n",
       "1       $8,500  control   limousine                1997  automatik      286   \n",
       "2       $8,990     test   limousine                2009    manuell      102   \n",
       "3       $4,350  control  kleinwagen                2007  automatik       71   \n",
       "4       $1,350     test       kombi                2003    manuell        0   \n",
       "...        ...      ...         ...                 ...        ...      ...   \n",
       "49995  $24,900  control   limousine                2011  automatik      239   \n",
       "49996   $1,980  control      cabrio                1996    manuell       75   \n",
       "49997  $13,200     test      cabrio                2014  automatik       69   \n",
       "49998  $22,900  control       kombi                2013    manuell      150   \n",
       "49999   $1,250  control   limousine                1996    manuell      101   \n",
       "\n",
       "        model   odometer  monthOfRegistration fuelType       brand  \\\n",
       "0      andere  150,000km                    3      lpg     peugeot   \n",
       "1         7er  150,000km                    6   benzin         bmw   \n",
       "2        golf   70,000km                    7   benzin  volkswagen   \n",
       "3      fortwo   70,000km                    6   benzin       smart   \n",
       "4       focus  150,000km                    7   benzin        ford   \n",
       "...       ...        ...                  ...      ...         ...   \n",
       "49995      q5  100,000km                    1   diesel        audi   \n",
       "49996   astra  150,000km                    5   benzin        opel   \n",
       "49997     500    5,000km                   11   benzin        fiat   \n",
       "49998      a3   40,000km                   11   diesel        audi   \n",
       "49999  vectra  150,000km                    1   benzin        opel   \n",
       "\n",
       "      notRepairedDamage          dateCreated  nrOfPictures  postalCode  \\\n",
       "0                  nein  2016-03-26 00:00:00             0       79588   \n",
       "1                  nein  2016-04-04 00:00:00             0       71034   \n",
       "2                  nein  2016-03-26 00:00:00             0       35394   \n",
       "3                  nein  2016-03-12 00:00:00             0       33729   \n",
       "4                  nein  2016-04-01 00:00:00             0       39218   \n",
       "...                 ...                  ...           ...         ...   \n",
       "49995              nein  2016-03-27 00:00:00             0       82131   \n",
       "49996              nein  2016-03-28 00:00:00             0       44807   \n",
       "49997              nein  2016-04-02 00:00:00             0       73430   \n",
       "49998              nein  2016-03-08 00:00:00             0       35683   \n",
       "49999              nein  2016-03-13 00:00:00             0       45897   \n",
       "\n",
       "                  lastSeen  \n",
       "0      2016-04-06 06:45:54  \n",
       "1      2016-04-06 14:45:08  \n",
       "2      2016-04-06 20:15:37  \n",
       "3      2016-03-15 03:16:28  \n",
       "4      2016-04-01 14:38:50  \n",
       "...                    ...  \n",
       "49995  2016-04-01 13:47:40  \n",
       "49996  2016-04-02 14:18:02  \n",
       "49997  2016-04-04 11:47:27  \n",
       "49998  2016-04-05 16:45:07  \n",
       "49999  2016-04-06 21:18:48  \n",
       "\n",
       "[50000 rows x 18 columns]"
      ]
     },
     "execution_count": 693,
     "metadata": {},
     "output_type": "execute_result"
    }
   ],
   "source": [
    "# Task #1: Drop'Seller' and 'Offer Type'\n",
    "autos = autos.drop(columns=['seller','offerType'])\n",
    "autos"
   ]
  },
  {
   "cell_type": "code",
   "execution_count": 694,
   "metadata": {},
   "outputs": [],
   "source": [
    "# Task #2: Convert the columns to snakecase\n",
    "autos.rename(columns = {'yearOfRegistration':'registration_year', 'abtest':'test',\n",
    "                        'monthOfRegistration': 'registration_month', \n",
    "                        'notRepairedDamage': 'unrepaired_damage', \n",
    "                        'dateCreated':'ad_created' }, inplace = True)\n",
    "\n",
    "autos.rename(columns = {'dateCrawled':'date_crawled' ,\n",
    "                        'offerType': 'offer_type', 'vehicleType':'vehicle_type' , \n",
    "                        'powerPS': 'power_ps','odometer':'odometer_km','fuelType':'fuel_type', 'nrOfPictures':'nr_of_pictures' , \n",
    "                        'postalCode': 'postal_code', 'lastSeen': 'last_seen'}, inplace = True)"
   ]
  },
  {
   "cell_type": "code",
   "execution_count": 695,
   "metadata": {},
   "outputs": [
    {
     "data": {
      "text/plain": [
       "Index(['date_crawled', 'name', 'price', 'test', 'vehicle_type',\n",
       "       'registration_year', 'gearbox', 'power_ps', 'model', 'odometer_km',\n",
       "       'registration_month', 'fuel_type', 'brand', 'unrepaired_damage',\n",
       "       'ad_created', 'nr_of_pictures', 'postal_code', 'last_seen'],\n",
       "      dtype='object')"
      ]
     },
     "execution_count": 695,
     "metadata": {},
     "output_type": "execute_result"
    }
   ],
   "source": [
    "# Columns after snakecase conversion\n",
    "autos.columns"
   ]
  },
  {
   "cell_type": "code",
   "execution_count": 696,
   "metadata": {
    "scrolled": false
   },
   "outputs": [
    {
     "data": {
      "text/plain": [
       "array([ 5000,  8500,  8990, ...,   385, 22200, 16995])"
      ]
     },
     "execution_count": 696,
     "metadata": {},
     "output_type": "execute_result"
    }
   ],
   "source": [
    "# Task #3a: Remove non-numeric characters in the price column and convert them to integers:\n",
    "autos['price'] = autos['price'].str.replace('$', '')\n",
    "autos['price'] = autos['price'].str.replace(',', '')\n",
    "autos['price'] = autos['price'].astype(int)\n",
    "autos['price'].unique()"
   ]
  },
  {
   "cell_type": "code",
   "execution_count": 697,
   "metadata": {
    "scrolled": false
   },
   "outputs": [
    {
     "data": {
      "text/plain": [
       "array([150000,  70000,  50000,  80000,  10000,  30000, 125000,  90000,\n",
       "        20000,  60000,   5000, 100000,  40000])"
      ]
     },
     "execution_count": 697,
     "metadata": {},
     "output_type": "execute_result"
    }
   ],
   "source": [
    "# Task #3b: Remove non-numeric characters from the odometer column and convert them to integers:\n",
    "autos['odometer_km'] = autos['odometer_km'].str.replace('km', '')\n",
    "autos['odometer_km'] = autos['odometer_km'].str.replace(',', '')\n",
    "autos['odometer_km'] = autos['odometer_km'].astype(int)\n",
    "autos['odometer_km'].unique()"
   ]
  },
  {
   "cell_type": "code",
   "execution_count": 698,
   "metadata": {},
   "outputs": [
    {
     "data": {
      "text/html": [
       "<div>\n",
       "<style scoped>\n",
       "    .dataframe tbody tr th:only-of-type {\n",
       "        vertical-align: middle;\n",
       "    }\n",
       "\n",
       "    .dataframe tbody tr th {\n",
       "        vertical-align: top;\n",
       "    }\n",
       "\n",
       "    .dataframe thead th {\n",
       "        text-align: right;\n",
       "    }\n",
       "</style>\n",
       "<table border=\"1\" class=\"dataframe\">\n",
       "  <thead>\n",
       "    <tr style=\"text-align: right;\">\n",
       "      <th></th>\n",
       "      <th>date_crawled</th>\n",
       "      <th>last_seen</th>\n",
       "      <th>ad_created</th>\n",
       "    </tr>\n",
       "  </thead>\n",
       "  <tbody>\n",
       "    <tr>\n",
       "      <th>0</th>\n",
       "      <td>2016-03-26</td>\n",
       "      <td>2016-04-06</td>\n",
       "      <td>2016-03-26</td>\n",
       "    </tr>\n",
       "    <tr>\n",
       "      <th>1</th>\n",
       "      <td>2016-04-04</td>\n",
       "      <td>2016-04-06</td>\n",
       "      <td>2016-04-04</td>\n",
       "    </tr>\n",
       "    <tr>\n",
       "      <th>2</th>\n",
       "      <td>2016-03-26</td>\n",
       "      <td>2016-04-06</td>\n",
       "      <td>2016-03-26</td>\n",
       "    </tr>\n",
       "    <tr>\n",
       "      <th>3</th>\n",
       "      <td>2016-03-12</td>\n",
       "      <td>2016-03-15</td>\n",
       "      <td>2016-03-12</td>\n",
       "    </tr>\n",
       "    <tr>\n",
       "      <th>4</th>\n",
       "      <td>2016-04-01</td>\n",
       "      <td>2016-04-01</td>\n",
       "      <td>2016-04-01</td>\n",
       "    </tr>\n",
       "    <tr>\n",
       "      <th>...</th>\n",
       "      <td>...</td>\n",
       "      <td>...</td>\n",
       "      <td>...</td>\n",
       "    </tr>\n",
       "    <tr>\n",
       "      <th>49995</th>\n",
       "      <td>2016-03-27</td>\n",
       "      <td>2016-04-01</td>\n",
       "      <td>2016-03-27</td>\n",
       "    </tr>\n",
       "    <tr>\n",
       "      <th>49996</th>\n",
       "      <td>2016-03-28</td>\n",
       "      <td>2016-04-02</td>\n",
       "      <td>2016-03-28</td>\n",
       "    </tr>\n",
       "    <tr>\n",
       "      <th>49997</th>\n",
       "      <td>2016-04-02</td>\n",
       "      <td>2016-04-04</td>\n",
       "      <td>2016-04-02</td>\n",
       "    </tr>\n",
       "    <tr>\n",
       "      <th>49998</th>\n",
       "      <td>2016-03-08</td>\n",
       "      <td>2016-04-05</td>\n",
       "      <td>2016-03-08</td>\n",
       "    </tr>\n",
       "    <tr>\n",
       "      <th>49999</th>\n",
       "      <td>2016-03-14</td>\n",
       "      <td>2016-04-06</td>\n",
       "      <td>2016-03-13</td>\n",
       "    </tr>\n",
       "  </tbody>\n",
       "</table>\n",
       "<p>50000 rows × 3 columns</p>\n",
       "</div>"
      ],
      "text/plain": [
       "      date_crawled   last_seen  ad_created\n",
       "0       2016-03-26  2016-04-06  2016-03-26\n",
       "1       2016-04-04  2016-04-06  2016-04-04\n",
       "2       2016-03-26  2016-04-06  2016-03-26\n",
       "3       2016-03-12  2016-03-15  2016-03-12\n",
       "4       2016-04-01  2016-04-01  2016-04-01\n",
       "...            ...         ...         ...\n",
       "49995   2016-03-27  2016-04-01  2016-03-27\n",
       "49996   2016-03-28  2016-04-02  2016-03-28\n",
       "49997   2016-04-02  2016-04-04  2016-04-02\n",
       "49998   2016-03-08  2016-04-05  2016-03-08\n",
       "49999   2016-03-14  2016-04-06  2016-03-13\n",
       "\n",
       "[50000 rows x 3 columns]"
      ]
     },
     "execution_count": 698,
     "metadata": {},
     "output_type": "execute_result"
    }
   ],
   "source": [
    "# Task #4: Remove the time values from 'date_crawled','last_seen','ad_created' columns. \n",
    "autos[['date_crawled','last_seen','ad_created']]\n",
    "autos[['date_crawled','last_seen','ad_created']] = autos[['date_crawled','last_seen','ad_created']].apply(lambda x : x.str[:10])\n",
    "autos[['date_crawled','last_seen','ad_created']]"
   ]
  },
  {
   "cell_type": "code",
   "execution_count": 699,
   "metadata": {},
   "outputs": [
    {
     "name": "stdout",
     "output_type": "stream",
     "text": [
      "In German: ['bus' 'limousine' 'kleinwagen' 'kombi' nan 'coupe' 'suv' 'cabrio'\n",
      " 'andere']\n",
      "Translation: [nan 'small_car' 'station_wagon' 'convertable' 'other']\n",
      "In German: ['manuell' 'automatik' nan]\n",
      "Translation: ['manual' 'automatic' nan]\n",
      "In German: ['lpg' 'benzin' 'diesel' nan 'cng' 'hybrid' 'elektro' 'andere']\n",
      "Translation: [nan 'petrol' 'electric' 'other']\n",
      "In German: ['nein' nan 'ja']\n",
      "Translation: ['no' nan 'yes']\n"
     ]
    }
   ],
   "source": [
    "# Task #5: Translate German strings to English\n",
    "print('In German:',autos['vehicle_type'].unique())\n",
    "autos['vehicle_type'] = autos['vehicle_type'].map({'kleinwagen': 'small_car', 'kombi': 'station_wagon', 'cabrio': 'convertable', 'andere': 'other'})\n",
    "print('Translation:',autos['vehicle_type'].unique())\n",
    "\n",
    "print('In German:',autos['gearbox'].unique())\n",
    "autos['gearbox'] = autos['gearbox'].map({'manuell': 'manual', 'automatik':'automatic'})\n",
    "print('Translation:',autos['gearbox'].unique())\n",
    "\n",
    "print('In German:',autos['fuel_type'].unique())\n",
    "autos['fuel_type'] = autos['fuel_type'].map({'benzin': 'petrol', 'elektro': 'electric', 'andere':'other'})\n",
    "print('Translation:',autos['fuel_type'].unique())\n",
    "\n",
    "print('In German:',autos['unrepaired_damage'].unique())\n",
    "autos['unrepaired_damage'] = autos['unrepaired_damage'].map({'nein':'no', 'ja': 'yes'})\n",
    "print('Translation:',autos['unrepaired_damage'].unique())\n"
   ]
  },
  {
   "cell_type": "markdown",
   "metadata": {},
   "source": [
    "## Justification for Removing Registration Years\n",
    "There were dates the 'registration_year' column that didn't make sense. This data set was acquired in 2016, and car registration prior to 1920 was not realistic, so the focus was on keeping the data between 1920 and 2016. Dropping rows with dates outside this range only compromised 3% of the data; so, they were removed. "
   ]
  },
  {
   "cell_type": "code",
   "execution_count": 700,
   "metadata": {},
   "outputs": [
    {
     "name": "stdout",
     "output_type": "stream",
     "text": [
      "[1000, 1001, 1111, 1500, 1800, 1910, 1927, 1929, 1931, 1934, 1937, 1938, 1939, 1941, 1943, 1948, 1950, 1951, 1952, 1953, 1954, 1955, 1956, 1957, 1958, 1959, 1960, 1961, 1962, 1963, 1964, 1965, 1966, 1967, 1968, 1969, 1970, 1971, 1972, 1973, 1974, 1975, 1976, 1977, 1978, 1979, 1980, 1981, 1982, 1983, 1984, 1985, 1986, 1987, 1988, 1989, 1990, 1991, 1992, 1993, 1994, 1995, 1996, 1997, 1998, 1999, 2000, 2001, 2002, 2003, 2004, 2005, 2006, 2007, 2008, 2009, 2010, 2011, 2012, 2013, 2014, 2015, 2016, 2017, 2018, 2019, 2800, 4100, 4500, 4800, 5000, 5911, 6200, 8888, 9000, 9996, 9999]\n"
     ]
    }
   ],
   "source": [
    "# Sort the unique values from registration year\n",
    "print(sorted(autos['registration_year'].unique()))"
   ]
  },
  {
   "cell_type": "code",
   "execution_count": 701,
   "metadata": {
    "scrolled": false
   },
   "outputs": [
    {
     "name": "stdout",
     "output_type": "stream",
     "text": [
      "3.96% of data is outside the range of 1920-2016\n"
     ]
    }
   ],
   "source": [
    "# Determine the percentage of dates outside the years 1920-2016\n",
    "out_of_range = (~autos['registration_year'].between(1920, 2016)).sum()/autos.shape[0]\n",
    "print('{:.2f}% of data is outside the range of 1920-2016'.format(out_of_range*100))"
   ]
  },
  {
   "cell_type": "code",
   "execution_count": 702,
   "metadata": {
    "scrolled": true
   },
   "outputs": [],
   "source": [
    "# 3% of the years are outside the range, so remove them\n",
    "filt = autos['registration_year'].between(1920, 2016)\n",
    "autos = autos.loc[filt]"
   ]
  },
  {
   "cell_type": "code",
   "execution_count": 703,
   "metadata": {
    "scrolled": true
   },
   "outputs": [
    {
     "data": {
      "text/plain": [
       "2000    0.069847\n",
       "2005    0.062788\n",
       "1999    0.062475\n",
       "2004    0.056998\n",
       "2003    0.056790\n",
       "2006    0.056394\n",
       "2001    0.056290\n",
       "2002    0.052750\n",
       "1998    0.051084\n",
       "2007    0.047981\n",
       "Name: registration_year, dtype: float64"
      ]
     },
     "execution_count": 703,
     "metadata": {},
     "output_type": "execute_result"
    }
   ],
   "source": [
    "autos['registration_year'].value_counts(normalize=True).head(10)"
   ]
  },
  {
   "cell_type": "code",
   "execution_count": 704,
   "metadata": {},
   "outputs": [
    {
     "name": "stdout",
     "output_type": "stream",
     "text": [
      "There are now 48019 rows and 18 columns remaining\n"
     ]
    }
   ],
   "source": [
    "autos.shape\n",
    "print('There are now {} rows and {} columns remaining'.format(autos.shape[0], autos.shape[1]))"
   ]
  },
  {
   "cell_type": "markdown",
   "metadata": {},
   "source": [
    "## The Relationship Between Odometer and Price\n",
    "\n",
    "The relationship between odometer and price is an association one might be interested in if they're in the market to purchase a used vehicle. It was determined that approximately 75% of all the cars on the eBay Kleinanzeigen dataset had at least 125,000 km on them (77,000 miles) with 64.8% over 150,000 km (93,000 miles). There were a hand-full of outliers for prices above \\\\$50,000. With those outliers removed, the data still skewed heavily to the right as shown in the histogram belows. The median car price was \\\\$3,000, and the mean was \\\\$5,625.\n",
    "\n",
    "There was an strong correlation between odometer and price. The more mileage on the car; the lower the price as shown in the following table. \n",
    "\n",
    "\n",
    "|Odometer|Mean Price|\n",
    "| :-------: | :---: |    \n",
    " |150000 km| \\\\$3,762|\n",
    " |125000 km| \\\\$6,092|\n",
    " |100000 km| \\\\$7,801|\n",
    " |90000 km| \\\\$8,241|\n",
    " |80000 km| \\\\$9,592|\n",
    " |70000 km| \\\\$10,736|\n",
    " |60000 km| \\\\$11,418|\n",
    " |50000 km| \\\\$13,065|\n",
    " |40000 km| \\\\$14,158|\n",
    " |30000 km| \\\\$14,608|\n",
    " |20000 km| \\\\$15,280|\n",
    " |10000 km| \\\\$17,575|"
   ]
  },
  {
   "cell_type": "code",
   "execution_count": 705,
   "metadata": {},
   "outputs": [
    {
     "data": {
      "text/plain": [
       "array([150000,  70000,  50000,  80000,  10000,  30000, 125000,  90000,\n",
       "        20000,  60000,   5000,  40000, 100000])"
      ]
     },
     "execution_count": 705,
     "metadata": {},
     "output_type": "execute_result"
    }
   ],
   "source": [
    "# Find unique odometer values\n",
    "autos.odometer_km.unique()\n"
   ]
  },
  {
   "cell_type": "code",
   "execution_count": 706,
   "metadata": {},
   "outputs": [
    {
     "data": {
      "text/plain": [
       "count     48019.000000\n",
       "mean     125561.756805\n",
       "std       40083.766680\n",
       "min        5000.000000\n",
       "25%      100000.000000\n",
       "50%      150000.000000\n",
       "75%      150000.000000\n",
       "max      150000.000000\n",
       "Name: odometer_km, dtype: float64"
      ]
     },
     "execution_count": 706,
     "metadata": {},
     "output_type": "execute_result"
    }
   ],
   "source": [
    "# Observe at the statistics of the odometer column. \n",
    "# The spread is very large. The mean and std are very high.  \n",
    "autos['odometer_km'].describe()"
   ]
  },
  {
   "cell_type": "code",
   "execution_count": 707,
   "metadata": {},
   "outputs": [
    {
     "data": {
      "text/plain": [
       "<AxesSubplot:title={'center':'Count VS. Odometer'}, ylabel='Frequency'>"
      ]
     },
     "execution_count": 707,
     "metadata": {},
     "output_type": "execute_result"
    },
    {
     "data": {
      "image/png": "[encoded data removed]",
      "text/plain": [
       "<Figure size 432x288 with 1 Axes>"
      ]
     },
     "metadata": {
      "needs_background": "light"
     },
     "output_type": "display_data"
    }
   ],
   "source": [
    "# Observe the distribution using value counts in percentage. 75% are over 125000 km. \n",
    "autos['odometer_km'].value_counts(normalize = True)*100\n",
    "autos['odometer_km'].plot.hist(title = 'Count VS. Odometer')"
   ]
  },
  {
   "cell_type": "code",
   "execution_count": 708,
   "metadata": {
    "scrolled": false
   },
   "outputs": [
    {
     "data": {
      "text/plain": [
       "<AxesSubplot:title={'center':'Count VS. Price'}, ylabel='Frequency'>"
      ]
     },
     "execution_count": 708,
     "metadata": {},
     "output_type": "execute_result"
    },
    {
     "data": {
      "image/png": "[encoded data removed]",
      "text/plain": [
       "<Figure size 432x288 with 1 Axes>"
      ]
     },
     "metadata": {
      "needs_background": "light"
     },
     "output_type": "display_data"
    }
   ],
   "source": [
    "# observe the price frequency distribution. Eliminate the extreme outliers > $50,000\n",
    "filt = (autos['price'] > 100) & (autos['price'] < 50000)\n",
    "autos = autos.loc[filt]\n",
    "autos['price'].plot.hist(title = 'Count VS. Price')"
   ]
  },
  {
   "cell_type": "code",
   "execution_count": 709,
   "metadata": {
    "scrolled": true
   },
   "outputs": [
    {
     "data": {
      "text/plain": [
       "count    46032.000000\n",
       "mean      5705.854536\n",
       "std       6784.672235\n",
       "min        110.000000\n",
       "25%       1290.000000\n",
       "50%       3150.000000\n",
       "75%       7500.000000\n",
       "max      49999.000000\n",
       "Name: price, dtype: float64"
      ]
     },
     "execution_count": 709,
     "metadata": {},
     "output_type": "execute_result"
    }
   ],
   "source": [
    "autos['price'].describe()"
   ]
  },
  {
   "cell_type": "code",
   "execution_count": 710,
   "metadata": {},
   "outputs": [
    {
     "name": "stdout",
     "output_type": "stream",
     "text": [
      "The median auto price is $3150, and the mean is $5706\n"
     ]
    }
   ],
   "source": [
    "print('The median auto price is ${:.0f}, and the mean is ${:.0f}'.format(autos['price'].describe()[5],autos['price'].describe()[1]))"
   ]
  },
  {
   "cell_type": "code",
   "execution_count": 711,
   "metadata": {
    "scrolled": true
   },
   "outputs": [
    {
     "data": {
      "text/plain": [
       "{150000: 3762.544193700047,\n",
       " 125000: 6092.827865448505,\n",
       " 100000: 7801.989655172414,\n",
       " 90000: 8241.74684305472,\n",
       " 80000: 9592.133869787856,\n",
       " 70000: 10736.449829931973,\n",
       " 60000: 11418.336642599277,\n",
       " 50000: 13065.026557711952,\n",
       " 40000: 14158.692802056556,\n",
       " 30000: 14608.035422343324,\n",
       " 20000: 15280.181946403385,\n",
       " 5000: 6090.694362017804,\n",
       " 10000: 17575.01818181818}"
      ]
     },
     "execution_count": 711,
     "metadata": {},
     "output_type": "execute_result"
    }
   ],
   "source": [
    "# create a list of odometer bins\n",
    "autos.odometer_km.value_counts()\n",
    "odo_bins = autos.odometer_km.value_counts().index\n",
    "\n",
    "# create a dictionary with the average price per bin\n",
    "mean_price_milage = {}\n",
    "\n",
    "for odo in odo_bins:\n",
    "    select_row = autos.loc[autos['odometer_km'] == odo]\n",
    "    select_col= select_row['price']\n",
    "    mean_price = select_col.mean()\n",
    "    mean_price_milage[odo] = mean_price\n",
    "mean_price_milage"
   ]
  },
  {
   "cell_type": "code",
   "execution_count": 712,
   "metadata": {},
   "outputs": [
    {
     "data": {
      "text/plain": [
       "Int64Index([150000, 125000, 100000,  90000,  80000,  70000,  60000,  50000,\n",
       "             40000,  30000,  20000,  10000],\n",
       "           dtype='int64')"
      ]
     },
     "execution_count": 712,
     "metadata": {},
     "output_type": "execute_result"
    }
   ],
   "source": [
    "# The second to last '5000', because it doesn't follow the trend of decreaseing price with increasing miles. \n",
    "# It's an outlier so I will delete it and rerun\n",
    "autos.odometer_km.value_counts()\n",
    "filt = ~(autos['odometer_km'] == 5000)\n",
    "odo_bins = autos[filt].odometer_km.value_counts().index\n",
    "odo_bins"
   ]
  },
  {
   "cell_type": "code",
   "execution_count": 713,
   "metadata": {},
   "outputs": [],
   "source": [
    "mean_price_milage = {}\n",
    "\n",
    "for odo in odo_bins:\n",
    "    select_row = autos.loc[autos['odometer_km'] == odo]\n",
    "    select_col= select_row['price']\n",
    "    mean_price = select_col.mean()\n",
    "    mean_price_milage[odo] = mean_price"
   ]
  },
  {
   "cell_type": "code",
   "execution_count": 714,
   "metadata": {},
   "outputs": [
    {
     "data": {
      "text/plain": [
       "{150000: 3762.544193700047,\n",
       " 125000: 6092.827865448505,\n",
       " 100000: 7801.989655172414,\n",
       " 90000: 8241.74684305472,\n",
       " 80000: 9592.133869787856,\n",
       " 70000: 10736.449829931973,\n",
       " 60000: 11418.336642599277,\n",
       " 50000: 13065.026557711952,\n",
       " 40000: 14158.692802056556,\n",
       " 30000: 14608.035422343324,\n",
       " 20000: 15280.181946403385,\n",
       " 10000: 17575.01818181818}"
      ]
     },
     "execution_count": 714,
     "metadata": {},
     "output_type": "execute_result"
    }
   ],
   "source": [
    "# There is an obvious trend of decreasing price with increasing miles\n",
    "mean_price_milage"
   ]
  },
  {
   "cell_type": "markdown",
   "metadata": {},
   "source": [
    "## Mean Price and Mileage of the Most Common Brands\n",
    "\n",
    "The table at the end of this section shows the 'mean_price' and the 'mileage' for the top 6 most common brands by count on eBay. The Audi was three times more expensive than the Opel with similar mileage. The Mercedes and BMW were both pretty similar in price and mileage (as were the Ford and Opel). The Volkswagen was in the middle of the group."
   ]
  },
  {
   "cell_type": "code",
   "execution_count": 715,
   "metadata": {
    "scrolled": true
   },
   "outputs": [
    {
     "name": "stdout",
     "output_type": "stream",
     "text": [
      "The most popular brands are Index(['volkswagen', 'bmw', 'opel', 'mercedes_benz', 'audi', 'ford'], dtype='object')\n"
     ]
    }
   ],
   "source": [
    "#Finding the the 6 most common brands by count\n",
    "brand_counts = autos['brand'].value_counts().head(6).index\n",
    "print('The most popular brands are {}'.format(brand_counts))"
   ]
  },
  {
   "cell_type": "code",
   "execution_count": 716,
   "metadata": {},
   "outputs": [
    {
     "name": "stdout",
     "output_type": "stream",
     "text": [
      "{'volkswagen': 5440, 'bmw': 8145, 'opel': 3020, 'mercedes_benz': 8226, 'audi': 9076, 'ford': 3673}\n"
     ]
    }
   ],
   "source": [
    "# Then created a dictionary to hold the average price for each\n",
    "brand_mean_prices = {}\n",
    "for brand in brand_counts:\n",
    "    filt = autos['brand'] == brand\n",
    "    auto_brand = autos[filt]\n",
    "    mean_price = auto_brand['price'].mean()\n",
    "    brand_mean_prices[brand] = int(mean_price)\n",
    "\n",
    "print(brand_mean_prices)"
   ]
  },
  {
   "cell_type": "code",
   "execution_count": 717,
   "metadata": {
    "scrolled": false
   },
   "outputs": [
    {
     "name": "stdout",
     "output_type": "stream",
     "text": [
      "[('audi', 9076), ('mercedes_benz', 8226), ('bmw', 8145), ('volkswagen', 5440), ('ford', 3673), ('opel', 3020)]\n"
     ]
    }
   ],
   "source": [
    "# Sort the dictionary from highest to lowest average price. \n",
    "brand_mean_prices_sorted = sorted(brand_mean_prices.items(), key = lambda x: x[1], reverse = True)\n",
    "print(brand_mean_prices_sorted)"
   ]
  },
  {
   "cell_type": "code",
   "execution_count": 718,
   "metadata": {
    "scrolled": true
   },
   "outputs": [
    {
     "name": "stdout",
     "output_type": "stream",
     "text": [
      "{'volkswagen': 128807, 'bmw': 132974, 'opel': 129375, 'mercedes_benz': 131581, 'audi': 129796, 'ford': 124382}\n"
     ]
    }
   ],
   "source": [
    "# Repeat for the mileage \n",
    "brand_mean_mileage = {}\n",
    "for brand in brand_counts:\n",
    "    filt = autos['brand'] == brand\n",
    "    auto_brand = autos[filt]\n",
    "    mean_mileage = auto_brand['odometer_km'].mean()\n",
    "    brand_mean_mileage[brand] = int(mean_mileage)\n",
    "\n",
    "print (brand_mean_mileage)"
   ]
  },
  {
   "cell_type": "code",
   "execution_count": 719,
   "metadata": {
    "scrolled": false
   },
   "outputs": [
    {
     "data": {
      "text/html": [
       "<div>\n",
       "<style scoped>\n",
       "    .dataframe tbody tr th:only-of-type {\n",
       "        vertical-align: middle;\n",
       "    }\n",
       "\n",
       "    .dataframe tbody tr th {\n",
       "        vertical-align: top;\n",
       "    }\n",
       "\n",
       "    .dataframe thead th {\n",
       "        text-align: right;\n",
       "    }\n",
       "</style>\n",
       "<table border=\"1\" class=\"dataframe\">\n",
       "  <thead>\n",
       "    <tr style=\"text-align: right;\">\n",
       "      <th></th>\n",
       "      <th>MEAN_PRICE</th>\n",
       "      <th>MILEAGE</th>\n",
       "    </tr>\n",
       "    <tr>\n",
       "      <th>BRAND</th>\n",
       "      <th></th>\n",
       "      <th></th>\n",
       "    </tr>\n",
       "  </thead>\n",
       "  <tbody>\n",
       "    <tr>\n",
       "      <th>audi</th>\n",
       "      <td>9076</td>\n",
       "      <td>129796</td>\n",
       "    </tr>\n",
       "    <tr>\n",
       "      <th>mercedes_benz</th>\n",
       "      <td>8226</td>\n",
       "      <td>131581</td>\n",
       "    </tr>\n",
       "    <tr>\n",
       "      <th>bmw</th>\n",
       "      <td>8145</td>\n",
       "      <td>132974</td>\n",
       "    </tr>\n",
       "    <tr>\n",
       "      <th>volkswagen</th>\n",
       "      <td>5440</td>\n",
       "      <td>128807</td>\n",
       "    </tr>\n",
       "    <tr>\n",
       "      <th>ford</th>\n",
       "      <td>3673</td>\n",
       "      <td>124382</td>\n",
       "    </tr>\n",
       "    <tr>\n",
       "      <th>opel</th>\n",
       "      <td>3020</td>\n",
       "      <td>129375</td>\n",
       "    </tr>\n",
       "  </tbody>\n",
       "</table>\n",
       "</div>"
      ],
      "text/plain": [
       "               MEAN_PRICE  MILEAGE\n",
       "BRAND                             \n",
       "audi                 9076   129796\n",
       "mercedes_benz        8226   131581\n",
       "bmw                  8145   132974\n",
       "volkswagen           5440   128807\n",
       "ford                 3673   124382\n",
       "opel                 3020   129375"
      ]
     },
     "execution_count": 719,
     "metadata": {},
     "output_type": "execute_result"
    }
   ],
   "source": [
    "# Combine the data into a new dataframe and pretty printed it\n",
    "top_6 = pd.DataFrame(data = [brand_mean_prices, brand_mean_mileage]).T\n",
    "top_6 = top_6.reset_index()\n",
    "top_6.columns = ['brand', 'mean_price', 'mileage']\n",
    "top_6.columns = [x.upper() for x in top_6.columns]\n",
    "top_6.set_index('BRAND').sort_values('MEAN_PRICE', ascending = False)"
   ]
  },
  {
   "cell_type": "markdown",
   "metadata": {},
   "source": [
    "## The Most Common Brand/Model Combinations\n",
    "The Volkswagen 'Golf' was the most commonly found brand/model combination on the eBay Kleinanzeigen, followed by Peugeot 'Andere', and the BMW '3er'. The complete list can be found at the end of this section.  "
   ]
  },
  {
   "cell_type": "code",
   "execution_count": 720,
   "metadata": {
    "scrolled": true
   },
   "outputs": [
    {
     "data": {
      "text/html": [
       "<div>\n",
       "<style scoped>\n",
       "    .dataframe tbody tr th:only-of-type {\n",
       "        vertical-align: middle;\n",
       "    }\n",
       "\n",
       "    .dataframe tbody tr th {\n",
       "        vertical-align: top;\n",
       "    }\n",
       "\n",
       "    .dataframe thead th {\n",
       "        text-align: right;\n",
       "    }\n",
       "</style>\n",
       "<table border=\"1\" class=\"dataframe\">\n",
       "  <thead>\n",
       "    <tr style=\"text-align: right;\">\n",
       "      <th></th>\n",
       "      <th>MODEL</th>\n",
       "    </tr>\n",
       "    <tr>\n",
       "      <th>BRAND</th>\n",
       "      <th></th>\n",
       "    </tr>\n",
       "  </thead>\n",
       "  <tbody>\n",
       "    <tr>\n",
       "      <th>volkswagen</th>\n",
       "      <td>golf</td>\n",
       "    </tr>\n",
       "    <tr>\n",
       "      <th>peugeot</th>\n",
       "      <td>andere</td>\n",
       "    </tr>\n",
       "    <tr>\n",
       "      <th>bmw</th>\n",
       "      <td>3er</td>\n",
       "    </tr>\n",
       "    <tr>\n",
       "      <th>opel</th>\n",
       "      <td>corsa</td>\n",
       "    </tr>\n",
       "    <tr>\n",
       "      <th>audi</th>\n",
       "      <td>a4</td>\n",
       "    </tr>\n",
       "  </tbody>\n",
       "</table>\n",
       "</div>"
      ],
      "text/plain": [
       "             MODEL\n",
       "BRAND             \n",
       "volkswagen    golf\n",
       "peugeot     andere\n",
       "bmw            3er\n",
       "opel         corsa\n",
       "audi            a4"
      ]
     },
     "execution_count": 720,
     "metadata": {},
     "output_type": "execute_result"
    }
   ],
   "source": [
    "# create a list of models sorted from most to least common\n",
    "autos['model'].value_counts()\n",
    "models = autos['model'].value_counts().index\n",
    "\n",
    "# loop through the list of models to create a dictionary with a brand/model pair\n",
    "top_brand_model = {}\n",
    "for model in models: \n",
    "    filt = autos['model'] == model\n",
    "    select_brand = autos.loc[filt, 'brand'].iloc[0]\n",
    "    if select_brand in top_brand_model:\n",
    "        continue\n",
    "    else: \n",
    "        top_brand_model[select_brand] = model\n",
    "        \n",
    "# Combine the data into a new dataframe and pretty printed it\n",
    "common = pd.DataFrame(data = [top_brand_model]).T\n",
    "common = common.reset_index()\n",
    "common.columns = ['brand', 'model']\n",
    "common.columns = [x.upper() for x in common.columns]\n",
    "common = common.set_index('BRAND')\n",
    "common.head(5)"
   ]
  },
  {
   "cell_type": "markdown",
   "metadata": {},
   "source": [
    "## Impact of Damage on Vehicle Price\n",
    "\n",
    "The analysis showed that almost 12% of cars in the dataset had some sort of damage that had not been repaired. To find the impact of the damage on the price of the vehicle, two python dictionaries were created; one with model and price of damaged models, the other with model and price of undamaged models. A table was then created to show the difference in price and the percent decrease in value. The average decrease in value for all damaged models is 49.03%  "
   ]
  },
  {
   "cell_type": "code",
   "execution_count": 721,
   "metadata": {
    "scrolled": true
   },
   "outputs": [
    {
     "name": "stdout",
     "output_type": "stream",
     "text": [
      "11.67% of cars have some sort of unrepaired damage\n"
     ]
    }
   ],
   "source": [
    "damage = autos['unrepaired_damage'].value_counts(normalize = True)*100\n",
    "print('{:.2f}% of cars have some sort of unrepaired damage'.format(damage[1]))"
   ]
  },
  {
   "cell_type": "code",
   "execution_count": 722,
   "metadata": {},
   "outputs": [],
   "source": [
    "# First, find average price of damaged models and create a dictionary\n",
    "filt =  autos['unrepaired_damage'] == 'yes'\n",
    "damaged = autos.loc[filt, ['model','price','unrepaired_damage']]\n",
    "dam_mods = damaged['model'].unique()\n",
    "\n",
    "ave_price_damaged = {}\n",
    "for mods in dam_mods: \n",
    "    filt = damaged['model'] == mods\n",
    "    select_row = damaged[filt]\n",
    "    select_col = select_row['price'].mean()\n",
    "    ave_price_damaged[mods] = select_col  "
   ]
  },
  {
   "cell_type": "code",
   "execution_count": 723,
   "metadata": {
    "scrolled": true
   },
   "outputs": [],
   "source": [
    "# Next, find the ave price of the undamaged model and create a dictionary\n",
    "filt =  autos['unrepaired_damage'] == 'no'\n",
    "no_damaged = autos.loc[filt, ['model','price','unrepaired_damage']]\n",
    "no_dam_mods = no_damaged['model'].unique()\n",
    "\n",
    "ave_price_no_damaged = {}\n",
    "for mods in no_dam_mods: \n",
    "    filt = no_damaged['model'] == mods\n",
    "    select_row = no_damaged[filt]\n",
    "    select_col = select_row['price'].mean()\n",
    "    ave_price_no_damaged[mods] = select_col"
   ]
  },
  {
   "cell_type": "code",
   "execution_count": 724,
   "metadata": {},
   "outputs": [
    {
     "data": {
      "text/html": [
       "<div>\n",
       "<style scoped>\n",
       "    .dataframe tbody tr th:only-of-type {\n",
       "        vertical-align: middle;\n",
       "    }\n",
       "\n",
       "    .dataframe tbody tr th {\n",
       "        vertical-align: top;\n",
       "    }\n",
       "\n",
       "    .dataframe thead th {\n",
       "        text-align: right;\n",
       "    }\n",
       "</style>\n",
       "<table border=\"1\" class=\"dataframe\">\n",
       "  <thead>\n",
       "    <tr style=\"text-align: right;\">\n",
       "      <th></th>\n",
       "      <th>Ave Price Undamaged</th>\n",
       "      <th>Ave Price Damaged</th>\n",
       "      <th>Ave Price Difference</th>\n",
       "      <th>Percent Decrease in Value</th>\n",
       "    </tr>\n",
       "  </thead>\n",
       "  <tbody>\n",
       "    <tr>\n",
       "      <th>andere</th>\n",
       "      <td>7431.0</td>\n",
       "      <td>2455.0</td>\n",
       "      <td>4976.0</td>\n",
       "      <td>33.0</td>\n",
       "    </tr>\n",
       "    <tr>\n",
       "      <th>7er</th>\n",
       "      <td>10414.0</td>\n",
       "      <td>5071.0</td>\n",
       "      <td>5343.0</td>\n",
       "      <td>49.0</td>\n",
       "    </tr>\n",
       "    <tr>\n",
       "      <th>golf</th>\n",
       "      <td>6111.0</td>\n",
       "      <td>1880.0</td>\n",
       "      <td>4231.0</td>\n",
       "      <td>31.0</td>\n",
       "    </tr>\n",
       "    <tr>\n",
       "      <th>fortwo</th>\n",
       "      <td>4012.0</td>\n",
       "      <td>1507.0</td>\n",
       "      <td>2505.0</td>\n",
       "      <td>38.0</td>\n",
       "    </tr>\n",
       "    <tr>\n",
       "      <th>focus</th>\n",
       "      <td>4094.0</td>\n",
       "      <td>1652.0</td>\n",
       "      <td>2442.0</td>\n",
       "      <td>40.0</td>\n",
       "    </tr>\n",
       "  </tbody>\n",
       "</table>\n",
       "</div>"
      ],
      "text/plain": [
       "        Ave Price Undamaged  Ave Price Damaged  Ave Price Difference  \\\n",
       "andere               7431.0             2455.0                4976.0   \n",
       "7er                 10414.0             5071.0                5343.0   \n",
       "golf                 6111.0             1880.0                4231.0   \n",
       "fortwo               4012.0             1507.0                2505.0   \n",
       "focus                4094.0             1652.0                2442.0   \n",
       "\n",
       "        Percent Decrease in Value  \n",
       "andere                       33.0  \n",
       "7er                          49.0  \n",
       "golf                         31.0  \n",
       "fortwo                       38.0  \n",
       "focus                        40.0  "
      ]
     },
     "execution_count": 724,
     "metadata": {},
     "output_type": "execute_result"
    }
   ],
   "source": [
    "# Combine the two dictionaries into a separate df and pretty print\n",
    "combined_damage = pd.DataFrame.from_dict([ave_price_no_damaged, ave_price_damaged]).T\n",
    "combined_damage = combined_damage.rename(columns = {1: 'Ave Price Damaged', 0: 'Ave Price Undamaged'})\n",
    "combined_damage.dropna(axis = 'index', how = 'any', inplace = True)\n",
    "combined_damage['Ave Price Difference'] = combined_damage['Ave Price Undamaged'] - combined_damage['Ave Price Damaged']\n",
    "combined_damage['Percent Decrease in Value'] = combined_damage['Ave Price Damaged']/combined_damage['Ave Price Undamaged']*100\n",
    "combined_damage = combined_damage.round(decimals=0)\n",
    "combined_damage.head()"
   ]
  },
  {
   "cell_type": "code",
   "execution_count": 725,
   "metadata": {},
   "outputs": [
    {
     "name": "stdout",
     "output_type": "stream",
     "text": [
      "The average decrease in value for all damaged models is 49.03%\n"
     ]
    }
   ],
   "source": [
    "# Find average % decrease in value for all damaged models\n",
    "ave_per_dec = combined_damage['Percent Decrease in Value'].mean()\n",
    "print('The average decrease in value for all damaged models is {:.2f}%'.format(ave_per_dec))"
   ]
  },
  {
   "cell_type": "markdown",
   "metadata": {},
   "source": [
    "## Conclusion\n",
    "EBay Kleinanzeigen is the German language version of eBay, where users buy and sell used cars on-line. A 50,000 row sample of the original 300,000 row dataset was provided for teaching purposes, so students could practice cleaning, wrangling, and analyzing data using Python and the Pandas library. \n",
    "\n",
    "Of the original 50,000 rows, 97% of the rows remained after cleaning the data. The 3% that were justifiably removed consisted of outliers and unrealistic dates in the registration year. For example, the data was acquired in 2016; so, any year beyond that was not possible. Likewise, dates earlier than 1920 were thrown out for obvious reasons. The Seller' and 'Offer Type' columns were dropped for having the same value through-out the entire series. Other wrangling tasks included re-formating column titles for consistency; removing non-numeric characters in the price and odometer_km column and changing the data type to integers; removing the time values from 'date_crawled','last_seen','ad_created'; and translating strings from German to English.\n",
    "\n",
    "The vast majority of cars on the market were heavily used and inexpensive. Approximately 75% of all the cars on the eBay Kleinanzeigen dataset had at least 125,000 km on them (77,000 miles) with 64.8% over 150,000 km (93,000 miles). The median car price was \\\\$3,000, and the mean was \\\\$5,625. The data showed a strong, negative, linear correlation between mileage and price to support this assessment. \n",
    "\n",
    "The six most common brands were  The Volkswagen, BMW, Opel, Mercedes Benz', Audi, and Ford. The Mercedes and BMW were both pretty similar in price and mileage(as were the Ford and Opel, with the Volkswagen was in the middle). The Volkswagen 'Golf' was the most commonly found brand/model combination followed by the Peugeot 'Andere', and the BMW '3er'. \n",
    "\n",
    "Finally, almost 12% of cars had some sort of damage that had not been repaired at the time they were posted. This resulted in an average 49% lower listing price, compared to their undamaged counterparts. 49% was a general observation across all makes and models.  "
   ]
  }
 ],
 "metadata": {
  "kernelspec": {
   "display_name": "Python 3",
   "language": "python",
   "name": "python3"
  },
  "language_info": {
   "codemirror_mode": {
    "name": "ipython",
    "version": 3
   },
   "file_extension": ".py",
   "mimetype": "text/x-python",
   "name": "python",
   "nbconvert_exporter": "python",
   "pygments_lexer": "ipython3",
   "version": "3.9.0"
  }
 },
 "nbformat": 4,
 "nbformat_minor": 4
}
