{
 "cells": [
  {
   "cell_type": "markdown",
   "metadata": {},
   "source": [
    "# Predicting Bike Rentals\n",
    "Bike sharing has become popular in large U.S. communities over the last five years. Washington D.C. is a city with a bike sharing program, and they collect data on the number of bicycles people rent by the hour and day. \n",
    "\n",
    "This project attempts to predict the total number of bikes rented in a given hour by evaluating the performance of the following machine learning models and experimenting with their parameters:\n",
    "- Linear regression model with the top 5 strongest correlating features\n",
    "- Linear regression model with the addition of three more features\n",
    "- Decision tree regressor model with default settings\n",
    "- Decision tree regressor model with min_sample_leaf i = 1-20\n",
    "- Decision tree regressor model with max depth i = 1-20\n",
    "- Decision tree regressor model with max leaf nodes i = 2-20\n",
    "- Random forest regressor model with n_estimators = 150, min_sample_leaf = 5\n",
    "- Random forest regressor model with min sample leaf i = 100-500\n",
    "\n",
    "### Project Purpose\n",
    "This project is for the completion of the DataQuest.io https://www.dataquest.io/ \"Machine Learning in Python:Intermediate\" module; the twenty-fifth in a series for completing the Data Science course path.\n",
    "\n",
    "### Summary Results\n",
    "Random forest regressor model with n_estimators = 150, min_sample_leaf = 5 returned the best RMSE value of 93.13"
   ]
  },
  {
   "cell_type": "markdown",
   "metadata": {},
   "source": [
    "# Data Source and Exploration\n",
    "\n",
    "The compiled by Hadi Fanaee_T at the University of Porto in Portugal. It can be downloaded from the [University of California, Irvine's Website.](http://archive.ics.uci.edu/ml/datasets/Bike+Sharing+Dataset). The file contains 17380 rows, with each row representing the number of bike rentals for a single hour of a single day. The relevant columns and their descriptions are as follows:\n",
    "\n",
    "|Column|Description|\n",
    "|:------|:-----|\n",
    "|instant|A unique sequential ID number for each row|\n",
    "|dteday| The date of the rentals|\n",
    "|season|The season in which the rentals occurred|\n",
    "|yr|The year the rentals occurred|\n",
    "|mnth| The month the rentals occurred|\n",
    "|hr|The hour the rentals occurred|\n",
    "|holiday|Whether or not the day was a holiday|\n",
    "|weekday|The day of the week (as a number, 0 to 7)|\n",
    "|workingday| Whether or not the day was a working day|\n",
    "|weathersit| The weather (as a categorical variable)|\n",
    "|temp|The temperature, on a 0-1 scale|\n",
    "|atemp|The adjusted temperature|\n",
    "|hum| The humidity, on a 0-1 scale|\n",
    "|windspeed|The wind speed, on a 0-1 scale|\n",
    "|casual| The number of casual riders (people who hadn't previously signed up with the bike sharing program)|\n",
    "|registered|The number of registered riders (people who had already signed up)|\n",
    "|cnt|The total number of bike rentals (casual + registered)|"
   ]
  },
  {
   "cell_type": "code",
   "execution_count": 293,
   "metadata": {},
   "outputs": [],
   "source": [
    "#import the python libraries\n",
    "import pandas as pd\n",
    "import numpy as np\n",
    "import seaborn as sns\n",
    "from sklearn.linear_model import LinearRegression\n",
    "from sklearn.tree import DecisionTreeRegressor\n",
    "from sklearn.metrics import mean_squared_error\n",
    "from sklearn.ensemble import RandomForestRegressor"
   ]
  },
  {
   "cell_type": "code",
   "execution_count": 308,
   "metadata": {},
   "outputs": [
    {
     "data": {
      "text/html": [
       "<div>\n",
       "<style scoped>\n",
       "    .dataframe tbody tr th:only-of-type {\n",
       "        vertical-align: middle;\n",
       "    }\n",
       "\n",
       "    .dataframe tbody tr th {\n",
       "        vertical-align: top;\n",
       "    }\n",
       "\n",
       "    .dataframe thead th {\n",
       "        text-align: right;\n",
       "    }\n",
       "</style>\n",
       "<table border=\"1\" class=\"dataframe\">\n",
       "  <thead>\n",
       "    <tr style=\"text-align: right;\">\n",
       "      <th></th>\n",
       "      <th>dteday</th>\n",
       "      <th>season</th>\n",
       "      <th>yr</th>\n",
       "      <th>mnth</th>\n",
       "      <th>hr</th>\n",
       "      <th>holiday</th>\n",
       "      <th>weekday</th>\n",
       "      <th>workingday</th>\n",
       "      <th>weathersit</th>\n",
       "      <th>temp</th>\n",
       "      <th>atemp</th>\n",
       "      <th>hum</th>\n",
       "      <th>windspeed</th>\n",
       "      <th>casual</th>\n",
       "      <th>registered</th>\n",
       "      <th>cnt</th>\n",
       "    </tr>\n",
       "    <tr>\n",
       "      <th>instant</th>\n",
       "      <th></th>\n",
       "      <th></th>\n",
       "      <th></th>\n",
       "      <th></th>\n",
       "      <th></th>\n",
       "      <th></th>\n",
       "      <th></th>\n",
       "      <th></th>\n",
       "      <th></th>\n",
       "      <th></th>\n",
       "      <th></th>\n",
       "      <th></th>\n",
       "      <th></th>\n",
       "      <th></th>\n",
       "      <th></th>\n",
       "      <th></th>\n",
       "    </tr>\n",
       "  </thead>\n",
       "  <tbody>\n",
       "    <tr>\n",
       "      <th>1</th>\n",
       "      <td>2011-01-01</td>\n",
       "      <td>1</td>\n",
       "      <td>0</td>\n",
       "      <td>1</td>\n",
       "      <td>0</td>\n",
       "      <td>0</td>\n",
       "      <td>6</td>\n",
       "      <td>0</td>\n",
       "      <td>1</td>\n",
       "      <td>0.24</td>\n",
       "      <td>0.2879</td>\n",
       "      <td>0.81</td>\n",
       "      <td>0.0</td>\n",
       "      <td>3</td>\n",
       "      <td>13</td>\n",
       "      <td>16</td>\n",
       "    </tr>\n",
       "    <tr>\n",
       "      <th>2</th>\n",
       "      <td>2011-01-01</td>\n",
       "      <td>1</td>\n",
       "      <td>0</td>\n",
       "      <td>1</td>\n",
       "      <td>1</td>\n",
       "      <td>0</td>\n",
       "      <td>6</td>\n",
       "      <td>0</td>\n",
       "      <td>1</td>\n",
       "      <td>0.22</td>\n",
       "      <td>0.2727</td>\n",
       "      <td>0.80</td>\n",
       "      <td>0.0</td>\n",
       "      <td>8</td>\n",
       "      <td>32</td>\n",
       "      <td>40</td>\n",
       "    </tr>\n",
       "    <tr>\n",
       "      <th>3</th>\n",
       "      <td>2011-01-01</td>\n",
       "      <td>1</td>\n",
       "      <td>0</td>\n",
       "      <td>1</td>\n",
       "      <td>2</td>\n",
       "      <td>0</td>\n",
       "      <td>6</td>\n",
       "      <td>0</td>\n",
       "      <td>1</td>\n",
       "      <td>0.22</td>\n",
       "      <td>0.2727</td>\n",
       "      <td>0.80</td>\n",
       "      <td>0.0</td>\n",
       "      <td>5</td>\n",
       "      <td>27</td>\n",
       "      <td>32</td>\n",
       "    </tr>\n",
       "    <tr>\n",
       "      <th>4</th>\n",
       "      <td>2011-01-01</td>\n",
       "      <td>1</td>\n",
       "      <td>0</td>\n",
       "      <td>1</td>\n",
       "      <td>3</td>\n",
       "      <td>0</td>\n",
       "      <td>6</td>\n",
       "      <td>0</td>\n",
       "      <td>1</td>\n",
       "      <td>0.24</td>\n",
       "      <td>0.2879</td>\n",
       "      <td>0.75</td>\n",
       "      <td>0.0</td>\n",
       "      <td>3</td>\n",
       "      <td>10</td>\n",
       "      <td>13</td>\n",
       "    </tr>\n",
       "    <tr>\n",
       "      <th>5</th>\n",
       "      <td>2011-01-01</td>\n",
       "      <td>1</td>\n",
       "      <td>0</td>\n",
       "      <td>1</td>\n",
       "      <td>4</td>\n",
       "      <td>0</td>\n",
       "      <td>6</td>\n",
       "      <td>0</td>\n",
       "      <td>1</td>\n",
       "      <td>0.24</td>\n",
       "      <td>0.2879</td>\n",
       "      <td>0.75</td>\n",
       "      <td>0.0</td>\n",
       "      <td>0</td>\n",
       "      <td>1</td>\n",
       "      <td>1</td>\n",
       "    </tr>\n",
       "  </tbody>\n",
       "</table>\n",
       "</div>"
      ],
      "text/plain": [
       "             dteday  season  yr  mnth  hr  holiday  weekday  workingday  \\\n",
       "instant                                                                   \n",
       "1        2011-01-01       1   0     1   0        0        6           0   \n",
       "2        2011-01-01       1   0     1   1        0        6           0   \n",
       "3        2011-01-01       1   0     1   2        0        6           0   \n",
       "4        2011-01-01       1   0     1   3        0        6           0   \n",
       "5        2011-01-01       1   0     1   4        0        6           0   \n",
       "\n",
       "         weathersit  temp   atemp   hum  windspeed  casual  registered  cnt  \n",
       "instant                                                                      \n",
       "1                 1  0.24  0.2879  0.81        0.0       3          13   16  \n",
       "2                 1  0.22  0.2727  0.80        0.0       8          32   40  \n",
       "3                 1  0.22  0.2727  0.80        0.0       5          27   32  \n",
       "4                 1  0.24  0.2879  0.75        0.0       3          10   13  \n",
       "5                 1  0.24  0.2879  0.75        0.0       0           1    1  "
      ]
     },
     "execution_count": 308,
     "metadata": {},
     "output_type": "execute_result"
    }
   ],
   "source": [
    "bikes = pd.read_csv('bike_rental_hour.csv', index_col= 'instant')\n",
    "bikes.head()"
   ]
  },
  {
   "cell_type": "code",
   "execution_count": 295,
   "metadata": {},
   "outputs": [
    {
     "name": "stdout",
     "output_type": "stream",
     "text": [
      "<class 'pandas.core.frame.DataFrame'>\n",
      "Int64Index: 17379 entries, 1 to 17379\n",
      "Data columns (total 16 columns):\n",
      " #   Column      Non-Null Count  Dtype  \n",
      "---  ------      --------------  -----  \n",
      " 0   dteday      17379 non-null  object \n",
      " 1   season      17379 non-null  int64  \n",
      " 2   yr          17379 non-null  int64  \n",
      " 3   mnth        17379 non-null  int64  \n",
      " 4   hr          17379 non-null  int64  \n",
      " 5   holiday     17379 non-null  int64  \n",
      " 6   weekday     17379 non-null  int64  \n",
      " 7   workingday  17379 non-null  int64  \n",
      " 8   weathersit  17379 non-null  int64  \n",
      " 9   temp        17379 non-null  float64\n",
      " 10  atemp       17379 non-null  float64\n",
      " 11  hum         17379 non-null  float64\n",
      " 12  windspeed   17379 non-null  float64\n",
      " 13  casual      17379 non-null  int64  \n",
      " 14  registered  17379 non-null  int64  \n",
      " 15  cnt         17379 non-null  int64  \n",
      "dtypes: float64(4), int64(11), object(1)\n",
      "memory usage: 2.3+ MB\n"
     ]
    }
   ],
   "source": [
    "bikes.info()"
   ]
  },
  {
   "cell_type": "markdown",
   "metadata": {},
   "source": [
    "# Feature Selection\n",
    "The casual and registered columns are redundant to the count column since the count column is derived by the sum of the two. The main focus is on temperature, average temperature, hour and year since those five features have the strongest correlation without being redundant; based on the results of the correlation and heat maps below."
   ]
  },
  {
   "cell_type": "code",
   "execution_count": 296,
   "metadata": {},
   "outputs": [
    {
     "data": {
      "text/plain": [
       "<AxesSubplot:>"
      ]
     },
     "execution_count": 296,
     "metadata": {},
     "output_type": "execute_result"
    },
    {
     "data": {
      "image/png": "[encoded data removed]",
      "text/plain": [
       "<Figure size 432x288 with 2 Axes>"
      ]
     },
     "metadata": {
      "needs_background": "light"
     },
     "output_type": "display_data"
    }
   ],
   "source": [
    "# Find the columns that correlate the closest to 'cnt'\n",
    "bikes_corr = bikes.corr()\n",
    "cnt_corr = bikes_corr['cnt'].abs().sort_values(ascending= False)\n",
    "# Create a heatmap\n",
    "corr_map = bikes[cnt_corr.index]\n",
    "sns.heatmap(corr_map.corr(), cmap=\"YlGnBu\")"
   ]
  },
  {
   "cell_type": "code",
   "execution_count": 297,
   "metadata": {},
   "outputs": [
    {
     "name": "stdout",
     "output_type": "stream",
     "text": [
      "The features with the strongest correlation to count are: \n",
      " temp     0.404772\n",
      "atemp    0.400929\n",
      "hr       0.394071\n",
      "hum      0.322911\n",
      "yr       0.250495\n",
      "Name: cnt, dtype: float64\n"
     ]
    }
   ],
   "source": [
    "# Keep only features that have a correlation of 0.3 or higher \n",
    "strong_corr = cnt_corr[(cnt_corr < 0.5) & (cnt_corr > 0.25)]\n",
    "print('The features with the strongest correlation to count are: \\n {}'.format(strong_corr[:])) "
   ]
  },
  {
   "cell_type": "markdown",
   "metadata": {},
   "source": [
    "# Assigning Values to Categorical Data\n",
    "Hour has a strong correlation to count; but, in order to make more practical sense of this column containing values from 1 to 24, they are grouped and relabeled into 4 numerical values to represent the following: \n",
    " - 1 = 'morning'\n",
    " - 2 = 'afternoon'\n",
    " - 3 = 'evening'\n",
    " - 4 = 'night' "
   ]
  },
  {
   "cell_type": "code",
   "execution_count": 298,
   "metadata": {},
   "outputs": [
    {
     "data": {
      "text/plain": [
       "2    4375\n",
       "3    4368\n",
       "1    4360\n",
       "4    4276\n",
       "Name: time_label, dtype: int64"
      ]
     },
     "execution_count": 298,
     "metadata": {},
     "output_type": "execute_result"
    }
   ],
   "source": [
    "def assign_label(hour):\n",
    "    if hour >= 6 and hour < 12:\n",
    "        return 1\n",
    "    elif hour >= 12 and hour < 18:\n",
    "        return 2\n",
    "    elif hour >= 18 and hour < 24:\n",
    "        return 3\n",
    "    else: \n",
    "        return 4\n",
    "\n",
    "bikes['time_label'] = bikes['hr'].apply(assign_label)\n",
    "bikes['time_label'].value_counts()  "
   ]
  },
  {
   "cell_type": "markdown",
   "metadata": {},
   "source": [
    "# Splitting the Data into Training and Testing Data Frames"
   ]
  },
  {
   "cell_type": "markdown",
   "metadata": {},
   "source": [
    "### Selecting the Metric\n",
    "The metric to use to evaluate performance of machine learning algorithm is mean squared error because it's not binary and  As, we take square of the error, the effect of larger errors become more pronounced then smaller error, hence the model can now focus more on the larger errors.\n"
   ]
  },
  {
   "cell_type": "code",
   "execution_count": 299,
   "metadata": {},
   "outputs": [],
   "source": [
    "# Use pandas DataFrame.sample() to split train and test data 80:20 (train:test)\n",
    "train = bikes.sample(frac=.8)\n",
    "test = bikes.loc[~bikes.index.isin(train.index)]"
   ]
  },
  {
   "cell_type": "markdown",
   "metadata": {},
   "source": [
    "### The Linear Regression Model with the Top 5 Strongest Correlating Features"
   ]
  },
  {
   "cell_type": "code",
   "execution_count": 300,
   "metadata": {},
   "outputs": [
    {
     "name": "stdout",
     "output_type": "stream",
     "text": [
      "The RMSE value is: 142.665\n"
     ]
    }
   ],
   "source": [
    "cols = ['temp','atemp','hr','hum','yr']\n",
    "target = ['cnt']\n",
    "lr = LinearRegression()\n",
    "lr.fit(train[cols], train[target])\n",
    "prediction = lr.predict(test[cols])\n",
    "mse = mean_squared_error(test[target], prediction)\n",
    "rmse = np.sqrt(mse).round(3)\n",
    "print('The RMSE value is: {}'.format(rmse))"
   ]
  },
  {
   "cell_type": "markdown",
   "metadata": {},
   "source": [
    "### The Linear Regression Model with the Addition of Three More Features"
   ]
  },
  {
   "cell_type": "code",
   "execution_count": 301,
   "metadata": {},
   "outputs": [
    {
     "name": "stdout",
     "output_type": "stream",
     "text": [
      "The RMSE value is: 131.55652916543488\n"
     ]
    }
   ],
   "source": [
    "cols = ['temp','atemp','hr','hum','yr','time_label','season', 'weathersit']\n",
    "target = ['cnt']\n",
    "lr = LinearRegression()\n",
    "lr.fit(train[cols], train[target])\n",
    "prediction = lr.predict(test[cols])\n",
    "mse = mean_squared_error(test[target], prediction)\n",
    "rmse = np.sqrt(mse).round(3)\n",
    "print('The RMSE value is: {}'.format(rmse))"
   ]
  },
  {
   "cell_type": "markdown",
   "metadata": {},
   "source": [
    "### Decision Tree Regressor Model with Default Settings"
   ]
  },
  {
   "cell_type": "code",
   "execution_count": 302,
   "metadata": {},
   "outputs": [
    {
     "name": "stdout",
     "output_type": "stream",
     "text": [
      "The RMSE value is: 123.145\n"
     ]
    }
   ],
   "source": [
    "cols = ['temp','atemp','hr','hum','yr']\n",
    "dtr = DecisionTreeRegressor()\n",
    "dtr.fit(train[cols], train[target])\n",
    "prediction = dtr.predict(test[cols])\n",
    "mse = mean_squared_error(test[target], prediction)\n",
    "rmse = np.sqrt(mse).round(3)\n",
    "print('The RMSE value is: {}'.format(rmse))"
   ]
  },
  {
   "cell_type": "markdown",
   "metadata": {},
   "source": [
    "### Decision Tree Regressor Model with Min_Sample_Leaf i = 1-20"
   ]
  },
  {
   "cell_type": "code",
   "execution_count": 303,
   "metadata": {},
   "outputs": [
    {
     "name": "stdout",
     "output_type": "stream",
     "text": [
      "The best RMSE is 93.922 with min sample leaf = 15\n"
     ]
    }
   ],
   "source": [
    "rmse = {}\n",
    "for i in range(1,20):\n",
    "    dtr = DecisionTreeRegressor(min_samples_leaf = i)\n",
    "    dtr.fit(train[cols], train[target])\n",
    "    prediction = dtr.predict(test[cols])\n",
    "    mse = mean_squared_error(test[target], prediction)\n",
    "    rmse[i] = (np.sqrt(mse)).round(3)\n",
    "    min_val = min(rmse.values()) \n",
    "    min_key = [k for k, v in rmse.items() if v == min_val][0]\n",
    "print('The best RMSE is {} with min sample leaf = {}'.format(min_val, min_key))"
   ]
  },
  {
   "cell_type": "markdown",
   "metadata": {},
   "source": [
    "### Decision Tree Regressor Model with Max Depth i = 1-20"
   ]
  },
  {
   "cell_type": "code",
   "execution_count": 304,
   "metadata": {},
   "outputs": [
    {
     "name": "stdout",
     "output_type": "stream",
     "text": [
      "The best RMSE is 94.627 with max depth = 10\n"
     ]
    }
   ],
   "source": [
    "rmse = {}\n",
    "for i in range(1,20):\n",
    "    dtr = DecisionTreeRegressor(max_depth = i)\n",
    "    dtr.fit(train[cols], train[target])\n",
    "    prediction = dtr.predict(test[cols])\n",
    "    mse = mean_squared_error(test[target], prediction)\n",
    "    rmse[i] = (np.sqrt(mse)).round(3)\n",
    "    min_val = min(rmse.values()) \n",
    "    min_key = [k for k, v in rmse.items() if v == min_val][0]\n",
    "print('The best RMSE is {} with max depth = {}'.format(min_val, min_key))"
   ]
  },
  {
   "cell_type": "markdown",
   "metadata": {},
   "source": [
    "### Decision Tree Regressor Model with Max Leaf Nodes i = 2-20"
   ]
  },
  {
   "cell_type": "code",
   "execution_count": 305,
   "metadata": {},
   "outputs": [
    {
     "name": "stdout",
     "output_type": "stream",
     "text": [
      "The best RMSE is 105.846 with max leaf nodes = 19\n"
     ]
    }
   ],
   "source": [
    "rmse = {}\n",
    "for i in range(2,20):\n",
    "    dtr = DecisionTreeRegressor(max_leaf_nodes = i)\n",
    "    dtr.fit(train[cols], train[target])\n",
    "    prediction = dtr.predict(test[cols])\n",
    "    mse = mean_squared_error(test[target], prediction)\n",
    "    rmse[i] = (np.sqrt(mse)).round(3)\n",
    "    min_val = min(rmse.values()) \n",
    "    min_key = [k for k, v in rmse.items() if v == min_val][0]\n",
    "print('The best RMSE is {} with max leaf nodes = {}'.format(min_val, min_key))"
   ]
  },
  {
   "cell_type": "markdown",
   "metadata": {},
   "source": [
    "### Random Forest Regressor Model with n_estimators = 150, min_sample_leaf = 5"
   ]
  },
  {
   "cell_type": "code",
   "execution_count": 309,
   "metadata": {},
   "outputs": [
    {
     "name": "stdout",
     "output_type": "stream",
     "text": [
      "The RMSE value is: 101.985\n"
     ]
    }
   ],
   "source": [
    "rfr = RandomForestRegressor(n_estimators=150, random_state= 1, min_samples_leaf= 5)\n",
    "rfr.fit(train[cols], train[target].values.ravel())\n",
    "prediction = rfr.predict(test[cols])\n",
    "mse = mean_squared_error(test[target], prediction)\n",
    "rmse = (np.sqrt(mse)).round(3)\n",
    "print('The RMSE value is: {}'.format(rmse))"
   ]
  },
  {
   "cell_type": "markdown",
   "metadata": {},
   "source": [
    "### Random Forest Regressor Model with Min Sample Leaf i = 100-500"
   ]
  },
  {
   "cell_type": "code",
   "execution_count": 307,
   "metadata": {},
   "outputs": [
    {
     "name": "stdout",
     "output_type": "stream",
     "text": [
      "The best RMSE is 96.682 with Min Sample Leaf = 101\n"
     ]
    }
   ],
   "source": [
    "rmse = {}\n",
    "for i in range(100,500):\n",
    "    rfr = RandomForestRegressor(min_samples_leaf = i)\n",
    "    rfr.fit(train[cols], train[target].values.ravel())\n",
    "    prediction = rfr.predict(test[cols])\n",
    "    mse = mean_squared_error(test[target], prediction)\n",
    "    rmse[i] = (np.sqrt(mse)).round(3)\n",
    "    min_val = min(rmse.values()) \n",
    "    min_key = [k for k, v in rmse.items() if v == min_val][0]\n",
    "print('The best RMSE is {} with Min Sample Leaf = {}'.format(min_val, min_key))"
   ]
  },
  {
   "cell_type": "markdown",
   "metadata": {},
   "source": [
    "# Conclusion\n",
    "The Random forest regressor model with n_estimators = 150, min_sample_leaf = 5 returned the best RMSE value of 93.13. However, there is much more work to be done and room for improvement. This project would benefit from more advanced feature tuning methods that were not covered in this module. "
   ]
  }
 ],
 "metadata": {
  "kernelspec": {
   "display_name": "Python 3",
   "language": "python",
   "name": "python3"
  },
  "language_info": {
   "codemirror_mode": {
    "name": "ipython",
    "version": 3
   },
   "file_extension": ".py",
   "mimetype": "text/x-python",
   "name": "python",
   "nbconvert_exporter": "python",
   "pygments_lexer": "ipython3",
   "version": "3.8.5"
  }
 },
 "nbformat": 4,
 "nbformat_minor": 4
}
