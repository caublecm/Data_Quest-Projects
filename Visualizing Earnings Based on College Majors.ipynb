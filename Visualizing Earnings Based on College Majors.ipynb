{
 "cells": [
  {
   "cell_type": "markdown",
   "metadata": {},
   "source": [
    "# Visualizing Earnings Based on College Majors\n",
    "\n",
    "American Community Survey ACS https://www.census.gov/programs-surveys/acs/ is a demographic survey organization run by the U.S. Census Bureau to better understand communities. Information from their surveys generate data that help determine how money is spent by federal and state governments. Their surveys are excellent sources for local business, hospitals, schools, and community leaders planning and making decisions.  Examples of some of their survey topics include jobs, occupations, educational attainment, veterans, and housing, just to name a few. The survey for this project; 'Visualizing Earnings Based on College Majors,'comes from a survey ACS conducted and aggregated on job outcomes of college students between 2010 and 2012. \n",
    "\n",
    "## Majors, Income, Employment and Gender Correlations \n",
    "This project is for the completion of the DataQuest.io https://www.dataquest.io/ \"Exploratory Data Visualization\" module; the fourth in a series for the completing Data Science course path. For this assignment, questions will be answered using the material focused on up to this point in the course, with particular consideration for the new material introduced in this module. This material includes:\n",
    "\n",
    "- Using the Pandas library to quickly generate common plots from data.\n",
    "- Understanding the underlying functionality of the Matplotlib library.\n",
    "- Plot customization using Figure, Axes, and other objects.\n",
    "\n",
    "### Popular Majors as a Whole\n",
    "The analysis was broken into two parts. The first part focused on salary and unemployment rate of the most popular majors. (The sample size is related to the total size, which defines the 'popularity' of a college major in the context of this learning project). The following questions were addressed: \n",
    "- What are the most popular majors?\n",
    "- Do students graduating with these degrees make more money? \n",
    "- What is the unemployment rate for these majors? \n",
    "\n",
    "### Popular Majors with Men and Women\n",
    "The second part focused on female dominated majors vs. male dominated majors and the following questions were addressed? \n",
    "- What majors have the largest share of women? What majors have the largest share of men? \n",
    "- What is the median salary for these majors? \n",
    "- What is the unemployment rate for these majors? \n",
    "\n",
    "## Summary of Results\n",
    "Nursing is a very popular and a good choice for all students to consider. The salary is well above average and the unemployment rate is well below average. Psychology is not a good choice for either men or women. Although it's one of the most popular, it has a lower than average salary and a higher than average unemployment rate. \n",
    "Both male and female students would do well pursuing certain degrees that are dominated by the opposite sex. Medical assisting services, which consisted of 92% women, pays above average and has a lower than average unemployment rate. Mechanical engineering, which is 92% men has a higher than average salary and a lower than average unemployment rate as well. \n",
    "\n",
    "See the analysis for further details. "
   ]
  },
  {
   "cell_type": "markdown",
   "metadata": {},
   "source": [
    "# Data Source and Exploration\n",
    "\n",
    "This dataset, originally released by American Community Survey 2010-2012 Public Use Microdata Series: https://www.census.gov/programs-surveys/acs/, was conducted and aggregated on job outcomes of college students between 2010 and 2012. FiveThirtyEight cleaned and released the dataset on their Github repo https://github.com/fivethirtyeight/data/tree/master/college-majors. According to FiveThiryEight, Major categories are from Carnevale et al, \"What's It Worth?: The Economic Value of College Majors.\" Georgetown University Center on Education and the Workforce, 2011. http://cew.georgetown.edu/whatsitworth. \n",
    "\n",
    "Each row in the dataset represents a different major in college and contains information on gender diversity, employment rates, median salaries, and more. Here are some of the columns in the dataset:\n",
    "\n",
    "\n",
    "|Column Name|Details|\n",
    "| :-------: | :---: |\n",
    "|Rank|Rank by median earnings (the dataset is ordered by this column)|\n",
    "|Major_code|Major code|\n",
    "|Major |Major description|\n",
    "|Major_category|Category of major|\n",
    "|Total|Total number of people with major|\n",
    "|Sample_size|Sample size (unweighted) of full-time grads with regards to major|\n",
    "|Men |Male graduates|\n",
    "|Women|Female graduates|\n",
    "|ShareWomen|Women as share of total|\n",
    "|Employed|Number employed|\n",
    "|Median|Median salary of full-time, year-round workers|\n",
    "|Low_wage_jobs|Number in low-wage service jobs|\n",
    "|Full_time|Number employed 35 hours or more|\n",
    "|Part_time|Number employed less than 35 hours|"
   ]
  },
  {
   "cell_type": "code",
   "execution_count": 710,
   "metadata": {
    "scrolled": true
   },
   "outputs": [],
   "source": [
    "# Import the relavant libraries\n",
    "import pandas as pd\n",
    "import matplotlib.pyplot as plt\n",
    "%matplotlib inline\n",
    "\n",
    "recent_grads = pd.read_csv('recent-grads.csv')"
   ]
  },
  {
   "cell_type": "code",
   "execution_count": 711,
   "metadata": {},
   "outputs": [
    {
     "data": {
      "text/html": [
       "<div>\n",
       "<style scoped>\n",
       "    .dataframe tbody tr th:only-of-type {\n",
       "        vertical-align: middle;\n",
       "    }\n",
       "\n",
       "    .dataframe tbody tr th {\n",
       "        vertical-align: top;\n",
       "    }\n",
       "\n",
       "    .dataframe thead th {\n",
       "        text-align: right;\n",
       "    }\n",
       "</style>\n",
       "<table border=\"1\" class=\"dataframe\">\n",
       "  <thead>\n",
       "    <tr style=\"text-align: right;\">\n",
       "      <th></th>\n",
       "      <th>Rank</th>\n",
       "      <th>Major_code</th>\n",
       "      <th>Major</th>\n",
       "      <th>Total</th>\n",
       "      <th>Men</th>\n",
       "      <th>Women</th>\n",
       "      <th>Major_category</th>\n",
       "      <th>ShareWomen</th>\n",
       "      <th>Sample_size</th>\n",
       "      <th>Employed</th>\n",
       "      <th>...</th>\n",
       "      <th>Part_time</th>\n",
       "      <th>Full_time_year_round</th>\n",
       "      <th>Unemployed</th>\n",
       "      <th>Unemployment_rate</th>\n",
       "      <th>Median</th>\n",
       "      <th>P25th</th>\n",
       "      <th>P75th</th>\n",
       "      <th>College_jobs</th>\n",
       "      <th>Non_college_jobs</th>\n",
       "      <th>Low_wage_jobs</th>\n",
       "    </tr>\n",
       "  </thead>\n",
       "  <tbody>\n",
       "    <tr>\n",
       "      <th>0</th>\n",
       "      <td>1</td>\n",
       "      <td>2419</td>\n",
       "      <td>PETROLEUM ENGINEERING</td>\n",
       "      <td>2339.0</td>\n",
       "      <td>2057.0</td>\n",
       "      <td>282.0</td>\n",
       "      <td>Engineering</td>\n",
       "      <td>0.120564</td>\n",
       "      <td>36</td>\n",
       "      <td>1976</td>\n",
       "      <td>...</td>\n",
       "      <td>270</td>\n",
       "      <td>1207</td>\n",
       "      <td>37</td>\n",
       "      <td>0.018381</td>\n",
       "      <td>110000</td>\n",
       "      <td>95000</td>\n",
       "      <td>125000</td>\n",
       "      <td>1534</td>\n",
       "      <td>364</td>\n",
       "      <td>193</td>\n",
       "    </tr>\n",
       "    <tr>\n",
       "      <th>1</th>\n",
       "      <td>2</td>\n",
       "      <td>2416</td>\n",
       "      <td>MINING AND MINERAL ENGINEERING</td>\n",
       "      <td>756.0</td>\n",
       "      <td>679.0</td>\n",
       "      <td>77.0</td>\n",
       "      <td>Engineering</td>\n",
       "      <td>0.101852</td>\n",
       "      <td>7</td>\n",
       "      <td>640</td>\n",
       "      <td>...</td>\n",
       "      <td>170</td>\n",
       "      <td>388</td>\n",
       "      <td>85</td>\n",
       "      <td>0.117241</td>\n",
       "      <td>75000</td>\n",
       "      <td>55000</td>\n",
       "      <td>90000</td>\n",
       "      <td>350</td>\n",
       "      <td>257</td>\n",
       "      <td>50</td>\n",
       "    </tr>\n",
       "    <tr>\n",
       "      <th>2</th>\n",
       "      <td>3</td>\n",
       "      <td>2415</td>\n",
       "      <td>METALLURGICAL ENGINEERING</td>\n",
       "      <td>856.0</td>\n",
       "      <td>725.0</td>\n",
       "      <td>131.0</td>\n",
       "      <td>Engineering</td>\n",
       "      <td>0.153037</td>\n",
       "      <td>3</td>\n",
       "      <td>648</td>\n",
       "      <td>...</td>\n",
       "      <td>133</td>\n",
       "      <td>340</td>\n",
       "      <td>16</td>\n",
       "      <td>0.024096</td>\n",
       "      <td>73000</td>\n",
       "      <td>50000</td>\n",
       "      <td>105000</td>\n",
       "      <td>456</td>\n",
       "      <td>176</td>\n",
       "      <td>0</td>\n",
       "    </tr>\n",
       "    <tr>\n",
       "      <th>3</th>\n",
       "      <td>4</td>\n",
       "      <td>2417</td>\n",
       "      <td>NAVAL ARCHITECTURE AND MARINE ENGINEERING</td>\n",
       "      <td>1258.0</td>\n",
       "      <td>1123.0</td>\n",
       "      <td>135.0</td>\n",
       "      <td>Engineering</td>\n",
       "      <td>0.107313</td>\n",
       "      <td>16</td>\n",
       "      <td>758</td>\n",
       "      <td>...</td>\n",
       "      <td>150</td>\n",
       "      <td>692</td>\n",
       "      <td>40</td>\n",
       "      <td>0.050125</td>\n",
       "      <td>70000</td>\n",
       "      <td>43000</td>\n",
       "      <td>80000</td>\n",
       "      <td>529</td>\n",
       "      <td>102</td>\n",
       "      <td>0</td>\n",
       "    </tr>\n",
       "    <tr>\n",
       "      <th>4</th>\n",
       "      <td>5</td>\n",
       "      <td>2405</td>\n",
       "      <td>CHEMICAL ENGINEERING</td>\n",
       "      <td>32260.0</td>\n",
       "      <td>21239.0</td>\n",
       "      <td>11021.0</td>\n",
       "      <td>Engineering</td>\n",
       "      <td>0.341631</td>\n",
       "      <td>289</td>\n",
       "      <td>25694</td>\n",
       "      <td>...</td>\n",
       "      <td>5180</td>\n",
       "      <td>16697</td>\n",
       "      <td>1672</td>\n",
       "      <td>0.061098</td>\n",
       "      <td>65000</td>\n",
       "      <td>50000</td>\n",
       "      <td>75000</td>\n",
       "      <td>18314</td>\n",
       "      <td>4440</td>\n",
       "      <td>972</td>\n",
       "    </tr>\n",
       "  </tbody>\n",
       "</table>\n",
       "<p>5 rows × 21 columns</p>\n",
       "</div>"
      ],
      "text/plain": [
       "   Rank  Major_code                                      Major    Total  \\\n",
       "0     1        2419                      PETROLEUM ENGINEERING   2339.0   \n",
       "1     2        2416             MINING AND MINERAL ENGINEERING    756.0   \n",
       "2     3        2415                  METALLURGICAL ENGINEERING    856.0   \n",
       "3     4        2417  NAVAL ARCHITECTURE AND MARINE ENGINEERING   1258.0   \n",
       "4     5        2405                       CHEMICAL ENGINEERING  32260.0   \n",
       "\n",
       "       Men    Women Major_category  ShareWomen  Sample_size  Employed  ...  \\\n",
       "0   2057.0    282.0    Engineering    0.120564           36      1976  ...   \n",
       "1    679.0     77.0    Engineering    0.101852            7       640  ...   \n",
       "2    725.0    131.0    Engineering    0.153037            3       648  ...   \n",
       "3   1123.0    135.0    Engineering    0.107313           16       758  ...   \n",
       "4  21239.0  11021.0    Engineering    0.341631          289     25694  ...   \n",
       "\n",
       "   Part_time  Full_time_year_round  Unemployed  Unemployment_rate  Median  \\\n",
       "0        270                  1207          37           0.018381  110000   \n",
       "1        170                   388          85           0.117241   75000   \n",
       "2        133                   340          16           0.024096   73000   \n",
       "3        150                   692          40           0.050125   70000   \n",
       "4       5180                 16697        1672           0.061098   65000   \n",
       "\n",
       "   P25th   P75th  College_jobs  Non_college_jobs  Low_wage_jobs  \n",
       "0  95000  125000          1534               364            193  \n",
       "1  55000   90000           350               257             50  \n",
       "2  50000  105000           456               176              0  \n",
       "3  43000   80000           529               102              0  \n",
       "4  50000   75000         18314              4440            972  \n",
       "\n",
       "[5 rows x 21 columns]"
      ]
     },
     "execution_count": 711,
     "metadata": {},
     "output_type": "execute_result"
    }
   ],
   "source": [
    "# First 5 rows of data\n",
    "recent_grads.head()"
   ]
  },
  {
   "cell_type": "code",
   "execution_count": 712,
   "metadata": {
    "scrolled": true
   },
   "outputs": [
    {
     "name": "stdout",
     "output_type": "stream",
     "text": [
      "             Rank   Major_code          Total            Men          Women  \\\n",
      "count  173.000000   173.000000     172.000000     172.000000     172.000000   \n",
      "mean    87.000000  3879.815029   39370.081395   16723.406977   22646.674419   \n",
      "std     50.084928  1687.753140   63483.491009   28122.433474   41057.330740   \n",
      "min      1.000000  1100.000000     124.000000     119.000000       0.000000   \n",
      "25%     44.000000  2403.000000    4549.750000    2177.500000    1778.250000   \n",
      "50%     87.000000  3608.000000   15104.000000    5434.000000    8386.500000   \n",
      "75%    130.000000  5503.000000   38909.750000   14631.000000   22553.750000   \n",
      "max    173.000000  6403.000000  393735.000000  173809.000000  307087.000000   \n",
      "\n",
      "       ShareWomen  Sample_size       Employed      Full_time      Part_time  \\\n",
      "count  172.000000   173.000000     173.000000     173.000000     173.000000   \n",
      "mean     0.522223   356.080925   31192.763006   26029.306358    8832.398844   \n",
      "std      0.231205   618.361022   50675.002241   42869.655092   14648.179473   \n",
      "min      0.000000     2.000000       0.000000     111.000000       0.000000   \n",
      "25%      0.336026    39.000000    3608.000000    3154.000000    1030.000000   \n",
      "50%      0.534024   130.000000   11797.000000   10048.000000    3299.000000   \n",
      "75%      0.703299   338.000000   31433.000000   25147.000000    9948.000000   \n",
      "max      0.968954  4212.000000  307933.000000  251540.000000  115172.000000   \n",
      "\n",
      "       Full_time_year_round    Unemployed  Unemployment_rate         Median  \\\n",
      "count            173.000000    173.000000         173.000000     173.000000   \n",
      "mean           19694.427746   2416.329480           0.068191   40151.445087   \n",
      "std            33160.941514   4112.803148           0.030331   11470.181802   \n",
      "min              111.000000      0.000000           0.000000   22000.000000   \n",
      "25%             2453.000000    304.000000           0.050306   33000.000000   \n",
      "50%             7413.000000    893.000000           0.067961   36000.000000   \n",
      "75%            16891.000000   2393.000000           0.087557   45000.000000   \n",
      "max           199897.000000  28169.000000           0.177226  110000.000000   \n",
      "\n",
      "              P25th          P75th   College_jobs  Non_college_jobs  \\\n",
      "count    173.000000     173.000000     173.000000        173.000000   \n",
      "mean   29501.445087   51494.219653   12322.635838      13284.497110   \n",
      "std     9166.005235   14906.279740   21299.868863      23789.655363   \n",
      "min    18500.000000   22000.000000       0.000000          0.000000   \n",
      "25%    24000.000000   42000.000000    1675.000000       1591.000000   \n",
      "50%    27000.000000   47000.000000    4390.000000       4595.000000   \n",
      "75%    33000.000000   60000.000000   14444.000000      11783.000000   \n",
      "max    95000.000000  125000.000000  151643.000000     148395.000000   \n",
      "\n",
      "       Low_wage_jobs  \n",
      "count     173.000000  \n",
      "mean     3859.017341  \n",
      "std      6944.998579  \n",
      "min         0.000000  \n",
      "25%       340.000000  \n",
      "50%      1231.000000  \n",
      "75%      3466.000000  \n",
      "max     48207.000000  \n"
     ]
    }
   ],
   "source": [
    "# Summary statistics of each column\n",
    "print(recent_grads.describe())"
   ]
  },
  {
   "cell_type": "code",
   "execution_count": 713,
   "metadata": {},
   "outputs": [
    {
     "data": {
      "text/plain": [
       "Rank                    0\n",
       "Major_code              0\n",
       "Major                   0\n",
       "Total                   1\n",
       "Men                     1\n",
       "Women                   1\n",
       "Major_category          0\n",
       "ShareWomen              1\n",
       "Sample_size             0\n",
       "Employed                0\n",
       "Full_time               0\n",
       "Part_time               0\n",
       "Full_time_year_round    0\n",
       "Unemployed              0\n",
       "Unemployment_rate       0\n",
       "Median                  0\n",
       "P25th                   0\n",
       "P75th                   0\n",
       "College_jobs            0\n",
       "Non_college_jobs        0\n",
       "Low_wage_jobs           0\n",
       "dtype: int64"
      ]
     },
     "execution_count": 713,
     "metadata": {},
     "output_type": "execute_result"
    }
   ],
   "source": [
    "# Finding the null values\n",
    "recent_grads.isnull().sum()"
   ]
  },
  {
   "cell_type": "markdown",
   "metadata": {},
   "source": [
    "## Data Cleaning and Wrangling\n",
    "Matplotlib requires columns and values passed in to have matching lengths; otherwise, errors will be raised. From the initial exploration, there appeared to be single row missing several values. This was confirmed by finding the row and column count before and after applying the Dataframe.dropna() method. The initial row, column matrix was 173 x 21. After removing the row, the matrix was 172 x 21. "
   ]
  },
  {
   "cell_type": "code",
   "execution_count": 714,
   "metadata": {},
   "outputs": [
    {
     "name": "stdout",
     "output_type": "stream",
     "text": [
      "The starting data set contains 173 rows and 21 columns.\n"
     ]
    }
   ],
   "source": [
    "s = recent_grads.shape\n",
    "print ('The starting data set contains {} rows and {} columns.'.format(s[0], s[1]))"
   ]
  },
  {
   "cell_type": "code",
   "execution_count": 715,
   "metadata": {},
   "outputs": [],
   "source": [
    "# Drop missing values\n",
    "recent_grads = recent_grads.dropna()"
   ]
  },
  {
   "cell_type": "code",
   "execution_count": 716,
   "metadata": {},
   "outputs": [
    {
     "name": "stdout",
     "output_type": "stream",
     "text": [
      "The cleaned data set contains 172 rows and 21 columns.\n"
     ]
    }
   ],
   "source": [
    "c = recent_grads.shape\n",
    "print ('The cleaned data set contains {} rows and {} columns.'.format(c[0], c[1]))"
   ]
  },
  {
   "cell_type": "code",
   "execution_count": 717,
   "metadata": {},
   "outputs": [
    {
     "name": "stdout",
     "output_type": "stream",
     "text": [
      "There are 61566 samples all total\n"
     ]
    }
   ],
   "source": [
    "# Find total number of samples\n",
    "sample_total = recent_grads['Sample_size'].sum()\n",
    "print('There are {} samples all total'.format(sample_total))"
   ]
  },
  {
   "cell_type": "markdown",
   "metadata": {},
   "source": [
    "## Relationship Between Major Popularity and Salary\n",
    "The median salary for the entire sample population was \\\\$36,000. The 'Median Salary vs. Sample Size' plot below showed that, the students graduating with the more popular majors made close to the median salary.   \n",
    "\n",
    "The top 5 majors in order of popularity (based on sample size) were Business Management and Administration, Marketing and Marketing Research, Psychology, Nursing and Communications. Nursing, which was the 4th most popular, was well above the median at \\\\$48,000. Psychology, the 3rd most popular, was below the median at \\\\$31,000. Business and Marketing were slightly above at \\\\$38,000, followed by Communications which was slightly below at \\\\$35,000. "
   ]
  },
  {
   "cell_type": "code",
   "execution_count": 718,
   "metadata": {
    "scrolled": true
   },
   "outputs": [
    {
     "name": "stdout",
     "output_type": "stream",
     "text": [
      "The median salary of recent grads is $36000.00\n",
      "The standard deviation is $11461.39\n"
     ]
    }
   ],
   "source": [
    "# Find Median and Standard Dev of Salaries\n",
    "median_median_salary = recent_grads['Median'].median()\n",
    "print('The median salary of recent grads is ${:.2f}'.format(median_median_salary))\n",
    "median_stdv = recent_grads['Median'].std()\n",
    "print('The standard deviation is ${:.2f}'.format(median_stdv))"
   ]
  },
  {
   "cell_type": "code",
   "execution_count": 719,
   "metadata": {
    "scrolled": false
   },
   "outputs": [
    {
     "data": {
      "text/html": [
       "<div>\n",
       "<style scoped>\n",
       "    .dataframe tbody tr th:only-of-type {\n",
       "        vertical-align: middle;\n",
       "    }\n",
       "\n",
       "    .dataframe tbody tr th {\n",
       "        vertical-align: top;\n",
       "    }\n",
       "\n",
       "    .dataframe thead th {\n",
       "        text-align: right;\n",
       "    }\n",
       "</style>\n",
       "<table border=\"1\" class=\"dataframe\">\n",
       "  <thead>\n",
       "    <tr style=\"text-align: right;\">\n",
       "      <th></th>\n",
       "      <th>Major</th>\n",
       "      <th>Sample_size</th>\n",
       "      <th>Median_Salary ($)</th>\n",
       "    </tr>\n",
       "    <tr>\n",
       "      <th>Salary_Rank</th>\n",
       "      <th></th>\n",
       "      <th></th>\n",
       "      <th></th>\n",
       "    </tr>\n",
       "  </thead>\n",
       "  <tbody>\n",
       "    <tr>\n",
       "      <th>34</th>\n",
       "      <td>NURSING</td>\n",
       "      <td>2554</td>\n",
       "      <td>48000</td>\n",
       "    </tr>\n",
       "    <tr>\n",
       "      <th>76</th>\n",
       "      <td>BUSINESS MANAGEMENT AND ADMINISTRATION</td>\n",
       "      <td>4212</td>\n",
       "      <td>38000</td>\n",
       "    </tr>\n",
       "    <tr>\n",
       "      <th>77</th>\n",
       "      <td>MARKETING AND MARKETING RESEARCH</td>\n",
       "      <td>2684</td>\n",
       "      <td>38000</td>\n",
       "    </tr>\n",
       "    <tr>\n",
       "      <th>93</th>\n",
       "      <td>COMMUNICATIONS</td>\n",
       "      <td>2394</td>\n",
       "      <td>35000</td>\n",
       "    </tr>\n",
       "    <tr>\n",
       "      <th>145</th>\n",
       "      <td>PSYCHOLOGY</td>\n",
       "      <td>2584</td>\n",
       "      <td>31500</td>\n",
       "    </tr>\n",
       "  </tbody>\n",
       "</table>\n",
       "</div>"
      ],
      "text/plain": [
       "                                              Major  Sample_size  \\\n",
       "Salary_Rank                                                        \n",
       "34                                          NURSING         2554   \n",
       "76           BUSINESS MANAGEMENT AND ADMINISTRATION         4212   \n",
       "77                 MARKETING AND MARKETING RESEARCH         2684   \n",
       "93                                   COMMUNICATIONS         2394   \n",
       "145                                      PSYCHOLOGY         2584   \n",
       "\n",
       "             Median_Salary ($)  \n",
       "Salary_Rank                     \n",
       "34                       48000  \n",
       "76                       38000  \n",
       "77                       38000  \n",
       "93                       35000  \n",
       "145                      31500  "
      ]
     },
     "execution_count": 719,
     "metadata": {},
     "output_type": "execute_result"
    }
   ],
   "source": [
    "# Put Top 5 most popular majors, sample size and median salary in a table\n",
    "mostpop_5 = recent_grads[['Major', 'Sample_size', 'Median']].sort_values(by= 'Sample_size', ascending = False).iloc[:5]\n",
    "mostpop_5_table = mostpop_5.copy()\n",
    "mostpop_5_table = mostpop_5_table.rename(columns = {\"Median\":\"Median_Salary ($)\"})\n",
    "mostpop_5_table.sort_values('Median_Salary ($)', ascending = False, inplace = True)\n",
    "mostpop_5_table.index.rename('Salary_Rank', inplace = True)\n",
    "mostpop_5_table"
   ]
  },
  {
   "cell_type": "code",
   "execution_count": 720,
   "metadata": {},
   "outputs": [
    {
     "data": {
      "text/plain": [
       "<matplotlib.legend.Legend at 0x18f93804400>"
      ]
     },
     "execution_count": 720,
     "metadata": {},
     "output_type": "execute_result"
    },
    {
     "data": {
      "image/png": "[encoded data removed]",
      "text/plain": [
       "<Figure size 432x288 with 1 Axes>"
      ]
     },
     "metadata": {
      "needs_background": "light"
     },
     "output_type": "display_data"
    }
   ],
   "source": [
    "# Create scatter plot of \"Median vs. Sample Size\"\n",
    "ax = plt.scatter(x = recent_grads['Sample_size'], y = recent_grads['Median'], \n",
    "                 c = 'lightblue', label = 'Other Majors')\n",
    "ax = plt.scatter(x = mostpop_5['Sample_size'], y = mostpop_5['Median'], \n",
    "                 c = 'coral', label = 'Top 5 Most Popular Majors')\n",
    "plt.title('Median vs. Sample_size')\n",
    "plt.xlabel('Sample Size')\n",
    "plt.ylabel('Median')\n",
    "plt.legend()"
   ]
  },
  {
   "cell_type": "markdown",
   "metadata": {},
   "source": [
    "## Unemployment Rate of the Most Popular Majors\n",
    "\n",
    "The median unemployment rate for all students in this survey from 2010 to 2012 was 6.75%.  'Unemployment Rate vs. the Sample Size' plot below shows that, in general, Nursing had the lowest at 4.49%, Marketing was second at 6.12%, Business and Communications were above the average at 7.22% and 7.52% respectively. At 8.38% Psychology had the highest unemployment rate of all five.  "
   ]
  },
  {
   "cell_type": "code",
   "execution_count": 721,
   "metadata": {},
   "outputs": [
    {
     "data": {
      "text/html": [
       "<div>\n",
       "<style scoped>\n",
       "    .dataframe tbody tr th:only-of-type {\n",
       "        vertical-align: middle;\n",
       "    }\n",
       "\n",
       "    .dataframe tbody tr th {\n",
       "        vertical-align: top;\n",
       "    }\n",
       "\n",
       "    .dataframe thead th {\n",
       "        text-align: right;\n",
       "    }\n",
       "</style>\n",
       "<table border=\"1\" class=\"dataframe\">\n",
       "  <thead>\n",
       "    <tr style=\"text-align: right;\">\n",
       "      <th></th>\n",
       "      <th>Major</th>\n",
       "      <th>Sample_size</th>\n",
       "      <th>Unemployment_rate_(%)</th>\n",
       "    </tr>\n",
       "    <tr>\n",
       "      <th>Salary_Rank</th>\n",
       "      <th></th>\n",
       "      <th></th>\n",
       "      <th></th>\n",
       "    </tr>\n",
       "  </thead>\n",
       "  <tbody>\n",
       "    <tr>\n",
       "      <th>34</th>\n",
       "      <td>NURSING</td>\n",
       "      <td>2554</td>\n",
       "      <td>4.49</td>\n",
       "    </tr>\n",
       "    <tr>\n",
       "      <th>77</th>\n",
       "      <td>MARKETING AND MARKETING RESEARCH</td>\n",
       "      <td>2684</td>\n",
       "      <td>6.12</td>\n",
       "    </tr>\n",
       "    <tr>\n",
       "      <th>76</th>\n",
       "      <td>BUSINESS MANAGEMENT AND ADMINISTRATION</td>\n",
       "      <td>4212</td>\n",
       "      <td>7.22</td>\n",
       "    </tr>\n",
       "    <tr>\n",
       "      <th>93</th>\n",
       "      <td>COMMUNICATIONS</td>\n",
       "      <td>2394</td>\n",
       "      <td>7.52</td>\n",
       "    </tr>\n",
       "    <tr>\n",
       "      <th>145</th>\n",
       "      <td>PSYCHOLOGY</td>\n",
       "      <td>2584</td>\n",
       "      <td>8.38</td>\n",
       "    </tr>\n",
       "  </tbody>\n",
       "</table>\n",
       "</div>"
      ],
      "text/plain": [
       "                                              Major  Sample_size  \\\n",
       "Salary_Rank                                                        \n",
       "34                                          NURSING         2554   \n",
       "77                 MARKETING AND MARKETING RESEARCH         2684   \n",
       "76           BUSINESS MANAGEMENT AND ADMINISTRATION         4212   \n",
       "93                                   COMMUNICATIONS         2394   \n",
       "145                                      PSYCHOLOGY         2584   \n",
       "\n",
       "             Unemployment_rate_(%)  \n",
       "Salary_Rank                         \n",
       "34                            4.49  \n",
       "77                            6.12  \n",
       "76                            7.22  \n",
       "93                            7.52  \n",
       "145                           8.38  "
      ]
     },
     "execution_count": 721,
     "metadata": {},
     "output_type": "execute_result"
    }
   ],
   "source": [
    "# Put Top 5 most popular majors, sample size and unemployment rate in table\n",
    "mostpop_5_U = recent_grads[['Major', 'Sample_size', 'Unemployment_rate']].sort_values(by= 'Sample_size', ascending = False).iloc[:5]\n",
    "mostpop_5_U_table = mostpop_5_U.copy()\n",
    "mostpop_5_U_table['Unemployment_rate'] = mostpop_5_U['Unemployment_rate'].apply(lambda x: round((x*100),2))\n",
    "mostpop_5_U_table.sort_values('Unemployment_rate', inplace = True)\n",
    "mostpop_5_U_table.rename(columns = {'Unemployment_rate':\"Unemployment_rate_(%)\"}, inplace = True)\n",
    "mostpop_5_U_table.index.rename('Salary_Rank', inplace = True)\n",
    "mostpop_5_U_table"
   ]
  },
  {
   "cell_type": "code",
   "execution_count": 722,
   "metadata": {},
   "outputs": [
    {
     "data": {
      "text/plain": [
       "<matplotlib.legend.Legend at 0x18f93850610>"
      ]
     },
     "execution_count": 722,
     "metadata": {},
     "output_type": "execute_result"
    },
    {
     "data": {
      "image/png": "[encoded data removed]",
      "text/plain": [
       "<Figure size 432x288 with 1 Axes>"
      ]
     },
     "metadata": {
      "needs_background": "light"
     },
     "output_type": "display_data"
    }
   ],
   "source": [
    "# Determine unemployment rate and the sample size\n",
    "ax = plt.scatter(x = recent_grads['Sample_size'],y = recent_grads['Unemployment_rate'], \n",
    "                 c = 'lightblue', label = 'Other Majors')\n",
    "ax = plt.scatter(x = mostpop_5_U['Sample_size'], y = mostpop_5_U['Unemployment_rate'], \n",
    "                 c = 'coral', label = 'Top 5 Most Popular')\n",
    "plt.title('Unemployment Rate vs. Sample Size')\n",
    "plt.xlabel('Sample Size')\n",
    "plt.ylabel('Unemployment Rate')\n",
    "plt.legend()"
   ]
  },
  {
   "cell_type": "markdown",
   "metadata": {},
   "source": [
    "## Majority Male/Female Majors and Salary\n",
    " \n",
    "The average median salary for students graduating from female majority disciplines was \\\\$33,961.The top five majors with the highest percentage of women were Early Childhood Education, Communication Disorders Sciences and Services, Medical Assisting Services, Elementary Education, and Family and Consumer Science. Even though four of five of these degrees had a lower salaries, the unemployment rate for all five was lower than the population. Medical Assisting Services, which consisted of 92% women, stood out with the highest salary of \\\\$42,000, and the second lowest unemployment rate of 4.24% Only Early Childhood Education had a lower unemployment rate of 4.01%; however, with a salary of only \\\\$28,000 it was the lowest paying.\n",
    "\n",
    "The average median salary for students graduating from male majority disciplines was \\\\$34,272. The top five majors with the highest percentage of men were Military Technologies, Mechanical Engineering and Related Technologies, Construction Services, Mining and Mineral Engineering, and Naval Architecture and Marine Engineering. Although Military Technologies was 100% men and an unemployment rate of 0%, the sample size was only 4. As a matter-of-fact, the sample sizes for the three of the five, primarily male dominated degrees were too small to draw any conclusion. Only Mechanical Engineering and Construction Services had high enough sample sizes to draw any reasonable conclusions. Both had over 90% men, and both paid at least 10% more than the median. They both had unemployment rates exceeding 5.6%, which was better than the median, but not as good as the female dominated majors.   "
   ]
  },
  {
   "cell_type": "code",
   "execution_count": 723,
   "metadata": {
    "scrolled": true
   },
   "outputs": [
    {
     "name": "stdout",
     "output_type": "stream",
     "text": [
      "The average median salary for students graduating                              from majors that are > 50% female is $33961.\n"
     ]
    }
   ],
   "source": [
    "above50_women = recent_grads[['ShareWomen', 'Major','Median']].sort_values(by = 'ShareWomen', ascending = False).iloc[:85]\n",
    "above50_women_mean = above50_women['Median'].mean()\n",
    "print('The average median salary for students graduating                              from majors that are > 50% female is ${:.0f}.'.format(above50_women_mean))"
   ]
  },
  {
   "cell_type": "code",
   "execution_count": 724,
   "metadata": {},
   "outputs": [
    {
     "name": "stdout",
     "output_type": "stream",
     "text": [
      "The average median salary for students graduating                                      from majors that are > 50% male is $34272.\n"
     ]
    }
   ],
   "source": [
    "below50_women = recent_grads[['ShareWomen', 'Major','Median']].sort_values(by = 'ShareWomen').iloc[85:172]\n",
    "below50_women_mean = below50_women['Median'].mean()\n",
    "print('The average median salary for students graduating                                      from majors that are > 50% male is ${:.0f}.'.format(below50_women_mean))"
   ]
  },
  {
   "cell_type": "code",
   "execution_count": 725,
   "metadata": {
    "scrolled": true
   },
   "outputs": [
    {
     "data": {
      "text/html": [
       "<div>\n",
       "<style scoped>\n",
       "    .dataframe tbody tr th:only-of-type {\n",
       "        vertical-align: middle;\n",
       "    }\n",
       "\n",
       "    .dataframe tbody tr th {\n",
       "        vertical-align: top;\n",
       "    }\n",
       "\n",
       "    .dataframe thead th {\n",
       "        text-align: right;\n",
       "    }\n",
       "</style>\n",
       "<table border=\"1\" class=\"dataframe\">\n",
       "  <thead>\n",
       "    <tr style=\"text-align: right;\">\n",
       "      <th></th>\n",
       "      <th>Sample_size</th>\n",
       "      <th>Percent_Women</th>\n",
       "      <th>Median_Salary ($)</th>\n",
       "      <th>Unemployment_rate_(%)</th>\n",
       "    </tr>\n",
       "    <tr>\n",
       "      <th>Major</th>\n",
       "      <th></th>\n",
       "      <th></th>\n",
       "      <th></th>\n",
       "      <th></th>\n",
       "    </tr>\n",
       "  </thead>\n",
       "  <tbody>\n",
       "    <tr>\n",
       "      <th>EARLY CHILDHOOD EDUCATION</th>\n",
       "      <td>342</td>\n",
       "      <td>96.90</td>\n",
       "      <td>28000</td>\n",
       "      <td>4.01</td>\n",
       "    </tr>\n",
       "    <tr>\n",
       "      <th>COMMUNICATION DISORDERS SCIENCES AND SERVICES</th>\n",
       "      <td>95</td>\n",
       "      <td>96.80</td>\n",
       "      <td>28000</td>\n",
       "      <td>4.76</td>\n",
       "    </tr>\n",
       "    <tr>\n",
       "      <th>MEDICAL ASSISTING SERVICES</th>\n",
       "      <td>67</td>\n",
       "      <td>92.78</td>\n",
       "      <td>42000</td>\n",
       "      <td>4.25</td>\n",
       "    </tr>\n",
       "    <tr>\n",
       "      <th>ELEMENTARY EDUCATION</th>\n",
       "      <td>1629</td>\n",
       "      <td>92.37</td>\n",
       "      <td>32000</td>\n",
       "      <td>4.66</td>\n",
       "    </tr>\n",
       "    <tr>\n",
       "      <th>FAMILY AND CONSUMER SCIENCES</th>\n",
       "      <td>518</td>\n",
       "      <td>91.09</td>\n",
       "      <td>30000</td>\n",
       "      <td>6.71</td>\n",
       "    </tr>\n",
       "  </tbody>\n",
       "</table>\n",
       "</div>"
      ],
      "text/plain": [
       "                                               Sample_size  Percent_Women  \\\n",
       "Major                                                                       \n",
       "EARLY CHILDHOOD EDUCATION                              342          96.90   \n",
       "COMMUNICATION DISORDERS SCIENCES AND SERVICES           95          96.80   \n",
       "MEDICAL ASSISTING SERVICES                              67          92.78   \n",
       "ELEMENTARY EDUCATION                                  1629          92.37   \n",
       "FAMILY AND CONSUMER SCIENCES                           518          91.09   \n",
       "\n",
       "                                               Median_Salary ($)  \\\n",
       "Major                                                              \n",
       "EARLY CHILDHOOD EDUCATION                                  28000   \n",
       "COMMUNICATION DISORDERS SCIENCES AND SERVICES              28000   \n",
       "MEDICAL ASSISTING SERVICES                                 42000   \n",
       "ELEMENTARY EDUCATION                                       32000   \n",
       "FAMILY AND CONSUMER SCIENCES                               30000   \n",
       "\n",
       "                                               Unemployment_rate_(%)  \n",
       "Major                                                                 \n",
       "EARLY CHILDHOOD EDUCATION                                       4.01  \n",
       "COMMUNICATION DISORDERS SCIENCES AND SERVICES                   4.76  \n",
       "MEDICAL ASSISTING SERVICES                                      4.25  \n",
       "ELEMENTARY EDUCATION                                            4.66  \n",
       "FAMILY AND CONSUMER SCIENCES                                    6.71  "
      ]
     },
     "execution_count": 725,
     "metadata": {},
     "output_type": "execute_result"
    }
   ],
   "source": [
    "# Find the degrees with the highest share of women. \n",
    "top_5_women = recent_grads[['Sample_size','ShareWomen', 'Major','Median', 'Unemployment_rate']].sort_values(by = 'ShareWomen', ascending = False).iloc[:5]\n",
    "top_5_women_table = top_5_women.copy()\n",
    "top_5_women_table = top_5_women_table.rename(columns = {'ShareWomen':'Percent_Women',\"Median\":\"Median_Salary ($)\"})\n",
    "top_5_women_table['Percent_Women'] = top_5_women_table['Percent_Women'].apply(lambda x: round((x*100),2))\n",
    "top_5_women_table['Unemployment_rate'] = top_5_women_table['Unemployment_rate'].apply(lambda x: round((x*100),2))\n",
    "top_5_women_table.rename(columns = {'Unemployment_rate':\"Unemployment_rate_(%)\"}, inplace = True)\n",
    "top_5_women_table.set_index('Major', inplace = True)\n",
    "top_5_women_table"
   ]
  },
  {
   "cell_type": "code",
   "execution_count": 726,
   "metadata": {},
   "outputs": [
    {
     "data": {
      "text/html": [
       "<div>\n",
       "<style scoped>\n",
       "    .dataframe tbody tr th:only-of-type {\n",
       "        vertical-align: middle;\n",
       "    }\n",
       "\n",
       "    .dataframe tbody tr th {\n",
       "        vertical-align: top;\n",
       "    }\n",
       "\n",
       "    .dataframe thead th {\n",
       "        text-align: right;\n",
       "    }\n",
       "</style>\n",
       "<table border=\"1\" class=\"dataframe\">\n",
       "  <thead>\n",
       "    <tr style=\"text-align: right;\">\n",
       "      <th></th>\n",
       "      <th>Sample_size</th>\n",
       "      <th>Percent_Men</th>\n",
       "      <th>Median_Salary ($)</th>\n",
       "      <th>Unemployment_rate_(%)</th>\n",
       "    </tr>\n",
       "    <tr>\n",
       "      <th>Major</th>\n",
       "      <th></th>\n",
       "      <th></th>\n",
       "      <th></th>\n",
       "      <th></th>\n",
       "    </tr>\n",
       "  </thead>\n",
       "  <tbody>\n",
       "    <tr>\n",
       "      <th>MILITARY TECHNOLOGIES</th>\n",
       "      <td>4</td>\n",
       "      <td>100.00</td>\n",
       "      <td>40000</td>\n",
       "      <td>0.00</td>\n",
       "    </tr>\n",
       "    <tr>\n",
       "      <th>MECHANICAL ENGINEERING RELATED TECHNOLOGIES</th>\n",
       "      <td>71</td>\n",
       "      <td>92.25</td>\n",
       "      <td>40000</td>\n",
       "      <td>5.64</td>\n",
       "    </tr>\n",
       "    <tr>\n",
       "      <th>CONSTRUCTION SERVICES</th>\n",
       "      <td>295</td>\n",
       "      <td>90.93</td>\n",
       "      <td>50000</td>\n",
       "      <td>6.00</td>\n",
       "    </tr>\n",
       "    <tr>\n",
       "      <th>MINING AND MINERAL ENGINEERING</th>\n",
       "      <td>7</td>\n",
       "      <td>89.81</td>\n",
       "      <td>75000</td>\n",
       "      <td>11.72</td>\n",
       "    </tr>\n",
       "    <tr>\n",
       "      <th>NAVAL ARCHITECTURE AND MARINE ENGINEERING</th>\n",
       "      <td>16</td>\n",
       "      <td>89.27</td>\n",
       "      <td>70000</td>\n",
       "      <td>5.01</td>\n",
       "    </tr>\n",
       "  </tbody>\n",
       "</table>\n",
       "</div>"
      ],
      "text/plain": [
       "                                             Sample_size  Percent_Men  \\\n",
       "Major                                                                   \n",
       "MILITARY TECHNOLOGIES                                  4       100.00   \n",
       "MECHANICAL ENGINEERING RELATED TECHNOLOGIES           71        92.25   \n",
       "CONSTRUCTION SERVICES                                295        90.93   \n",
       "MINING AND MINERAL ENGINEERING                         7        89.81   \n",
       "NAVAL ARCHITECTURE AND MARINE ENGINEERING             16        89.27   \n",
       "\n",
       "                                             Median_Salary ($)  \\\n",
       "Major                                                            \n",
       "MILITARY TECHNOLOGIES                                    40000   \n",
       "MECHANICAL ENGINEERING RELATED TECHNOLOGIES              40000   \n",
       "CONSTRUCTION SERVICES                                    50000   \n",
       "MINING AND MINERAL ENGINEERING                           75000   \n",
       "NAVAL ARCHITECTURE AND MARINE ENGINEERING                70000   \n",
       "\n",
       "                                             Unemployment_rate_(%)  \n",
       "Major                                                               \n",
       "MILITARY TECHNOLOGIES                                         0.00  \n",
       "MECHANICAL ENGINEERING RELATED TECHNOLOGIES                   5.64  \n",
       "CONSTRUCTION SERVICES                                         6.00  \n",
       "MINING AND MINERAL ENGINEERING                               11.72  \n",
       "NAVAL ARCHITECTURE AND MARINE ENGINEERING                     5.01  "
      ]
     },
     "execution_count": 726,
     "metadata": {},
     "output_type": "execute_result"
    }
   ],
   "source": [
    "# Find the degrees with the highest share of men. \n",
    "bottom_5_share_w = recent_grads[['Sample_size','ShareWomen', 'Major','Median', 'Unemployment_rate']].sort_values(by = 'ShareWomen', ascending = True).iloc[:5]\n",
    "bottom_5_share_w_table = bottom_5_share_w.copy()\n",
    "bottom_5_share_w_table = bottom_5_share_w_table.rename(columns = {'ShareWomen':'Percent_Men',\"Median\":\"Median_Salary ($)\"})\n",
    "bottom_5_share_w_table['Percent_Men'] = bottom_5_share_w_table['Percent_Men'].apply(lambda x: round((100-x*100),2))\n",
    "bottom_5_share_w_table['Unemployment_rate'] = bottom_5_share_w_table['Unemployment_rate'].apply(lambda x: round((x*100),2))\n",
    "bottom_5_share_w_table.rename(columns = {'Unemployment_rate':\"Unemployment_rate_(%)\"}, inplace = True)\n",
    "bottom_5_share_w_table.set_index('Major', inplace = True)\n",
    "bottom_5_share_w_table"
   ]
  },
  {
   "cell_type": "code",
   "execution_count": 727,
   "metadata": {
    "scrolled": true
   },
   "outputs": [
    {
     "data": {
      "text/plain": [
       "<matplotlib.legend.Legend at 0x18f938fbbb0>"
      ]
     },
     "execution_count": 727,
     "metadata": {},
     "output_type": "execute_result"
    },
    {
     "data": {
      "image/png": "[encoded data removed]",
      "text/plain": [
       "<Figure size 432x288 with 1 Axes>"
      ]
     },
     "metadata": {
      "needs_background": "light"
     },
     "output_type": "display_data"
    }
   ],
   "source": [
    "\n",
    "ax = plt.scatter(x = recent_grads['ShareWomen'],y = recent_grads['Median'], \n",
    "                 c = 'lightblue', label = 'Other Majors')\n",
    "ax = plt.scatter(x = top_5_women['ShareWomen'], y = top_5_women['Median'], \n",
    "                 c = 'coral', label = 'Top 5 Most Woman')\n",
    "ax = plt.scatter(x = bottom_5_share_w['ShareWomen'], y = bottom_5_share_w['Median'], \n",
    "                 c = 'lightgreen', label = 'Top 5 Most Men')\n",
    "\n",
    "plt.title('Salary vs. Percent of Women in Major')\n",
    "plt.xlabel('Percent of Women in Major')\n",
    "plt.ylabel('Salary')\n",
    "plt.legend()"
   ]
  },
  {
   "cell_type": "markdown",
   "metadata": {},
   "source": [
    "## Conclusion\n",
    "The data set contained 173 rows and 21 columns. Only one row was removed for having null values. Each row contained a number of samples per major totaling \n",
    "61,566.\n",
    "\n",
    "### Popular Majors as a Whole\n",
    "Business Management and Administration, Marketing and Marketing Research, Psychology, Nursing, and Communications were the top 5 most popular majors. Of those, Nursing, paid the best at \\\\$48,000, well above the \\\\$36,000 median salary for the entire population. By contrast, Psychology, the 3rd most popular, paid the worst at \\\\$31,000. Regarding unemployment, Nursing students fared the best with an unemployment rate of only 4.5\\%, which was below the median of 6.75%. By contrast, the unemployment rate for Psychology majors was 8.38\\%. \n",
    "\n",
    "Nursing is a very good choice for all students to consider. The salary is well above average and the unemployment rate is well below average. Psychology is not a good choice. Although it's one of the most popular, it has a lower than average salary and a higher than average unemployment rate.\n",
    "\n",
    "### Popular Majors with Men and Women\n",
    "The average median salary for students graduating from female majority disciplines was \\\\$33,961. Medical Assisting Services, which consisted of 92% women, stood out with the highest salary of \\\\$42,000, and the second lowest unemployment rate of 4.24%. Early Childhood Education paid the lowest at $28,000, but only had a 4.01% unemployment rate.\n",
    "\n",
    "The average median salary for students graduating from male majority disciplines was \\\\$34,272. Only Mechanical Engineering and Construction Services had high enough sample sizes to draw any reasonable conclusions from. Both had over 90% men, and both paid at least 10% more than the median. However; they both had unemployment rates exceeding 5.6%.\n",
    "\n",
    "Both Male and female students would do well pursuing certain degrees that are dominated by the opposite gender. Medical Assisting Services, which consisted of 92% women, pays above average and has a lower than average unemployment rate. Mechanical Engineering, which is 92% men has a higher than average salary and a lower than average unemployment rate as well."
   ]
  }
 ],
 "metadata": {
  "kernelspec": {
   "display_name": "Python 3",
   "language": "python",
   "name": "python3"
  },
  "language_info": {
   "codemirror_mode": {
    "name": "ipython",
    "version": 3
   },
   "file_extension": ".py",
   "mimetype": "text/x-python",
   "name": "python",
   "nbconvert_exporter": "python",
   "pygments_lexer": "ipython3",
   "version": "3.9.0"
  }
 },
 "nbformat": 4,
 "nbformat_minor": 1
}
